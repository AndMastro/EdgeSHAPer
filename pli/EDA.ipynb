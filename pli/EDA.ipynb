{
 "cells": [
  {
   "cell_type": "code",
   "execution_count": 32,
   "metadata": {},
   "outputs": [],
   "source": [
    "import os\n",
    "from tqdm import tqdm\n",
    "import json\n",
    "\n",
    "import torch\n",
    "from torch_geometric.data import Data\n",
    "from torch_geometric.loader import DataLoader\n",
    "\n",
    "from rdkit import Chem\n",
    "from rdkit.Chem import Draw\n",
    "import json\n",
    "import networkx as nx\n",
    "\n",
    "import matplotlib.pyplot as plt\n",
    "%matplotlib inline\n",
    "\n",
    "from src.utils import create_edge_index, PLIDataset, set_all_seeds, GCN, save_model\n",
    "from src.edgeshaper import Edgeshaper\n",
    "\n",
    "device = torch.device('cuda' if torch.cuda.is_available() else 'cpu')"
   ]
  },
  {
   "cell_type": "code",
   "execution_count": 2,
   "metadata": {},
   "outputs": [],
   "source": [
    "set_all_seeds(42)"
   ]
  },
  {
   "cell_type": "code",
   "execution_count": 3,
   "metadata": {},
   "outputs": [],
   "source": [
    "DATA_PATH = 'data/pdbbind/dataset/'"
   ]
  },
  {
   "cell_type": "markdown",
   "metadata": {},
   "source": [
    "## EDA"
   ]
  },
  {
   "cell_type": "markdown",
   "metadata": {},
   "source": [
    "read mol2 files"
   ]
  },
  {
   "cell_type": "code",
   "execution_count": 28,
   "metadata": {},
   "outputs": [
    {
     "data": {
      "image/png": "[encoded data removed]",
      "text/plain": [
       "<rdkit.Chem.rdchem.Mol at 0x262ddfde520>"
      ]
     },
     "execution_count": 28,
     "metadata": {},
     "output_type": "execute_result"
    }
   ],
   "source": [
    "target_mol_name = \"1a0t\"\n",
    "mol = Chem.MolFromMol2File(DATA_PATH + target_mol_name + \"/\" + target_mol_name + \"_ligand.mol2\")\n",
    "test_mol = Draw.PrepareMolForDrawing(mol)\n",
    "test_mol\n"
   ]
  },
  {
   "cell_type": "code",
   "execution_count": 29,
   "metadata": {},
   "outputs": [
    {
     "name": "stdout",
     "output_type": "stream",
     "text": [
      "Number of bonds:  24\n",
      "Number of atoms:  23\n",
      "Bond:  0   0 - 1   SINGLE\n",
      "Bond:  1   0 - 6   SINGLE\n",
      "Bond:  2   0 - 10   SINGLE\n",
      "Bond:  3   1 - 2   SINGLE\n",
      "Bond:  4   1 - 7   SINGLE\n",
      "Bond:  5   2 - 3   SINGLE\n",
      "Bond:  6   2 - 8   SINGLE\n",
      "Bond:  7   3 - 4   SINGLE\n",
      "Bond:  8   3 - 9   SINGLE\n",
      "Bond:  9   4 - 5   SINGLE\n",
      "Bond:  10   4 - 10   SINGLE\n",
      "Bond:  11   5 - 11   SINGLE\n",
      "Bond:  12   6 - 13   SINGLE\n",
      "Bond:  13   13 - 12   SINGLE\n",
      "Bond:  14   12 - 18   SINGLE\n",
      "Bond:  15   13 - 14   SINGLE\n",
      "Bond:  16   13 - 19   SINGLE\n",
      "Bond:  17   14 - 15   SINGLE\n",
      "Bond:  18   14 - 20   SINGLE\n",
      "Bond:  19   15 - 16   SINGLE\n",
      "Bond:  20   15 - 21   SINGLE\n",
      "Bond:  21   16 - 17   SINGLE\n",
      "Bond:  22   16 - 19   SINGLE\n",
      "Bond:  23   17 - 22   SINGLE\n"
     ]
    }
   ],
   "source": [
    "num_bonds = len(test_mol.GetBonds())\n",
    "num_atoms = len(test_mol.GetAtoms())\n",
    "\n",
    "print(\"Number of bonds: \", num_bonds)\n",
    "print(\"Number of atoms: \", num_atoms)\n",
    "\n",
    "rdkit_bonds = {}\n",
    "\n",
    "for i in range(num_bonds):\n",
    "    init_atom = test_mol.GetBondWithIdx(i).GetBeginAtomIdx()\n",
    "    end_atom = test_mol.GetBondWithIdx(i).GetEndAtomIdx()\n",
    "    bond_type = test_mol.GetBondWithIdx(i).GetBondType()\n",
    "    print(\"Bond: \", i, \" \" , init_atom, \"-\" , end_atom, \" \", bond_type)\n",
    "    rdkit_bonds[(init_atom, end_atom)] = i\n",
    "    #CNC(=O)CN1CN(c2ccccc2)C2(CCN(Cc3cc4c(cc3Cl)OCO4)CC2)C1=O\n",
    "# rdkit_bonds"
   ]
  },
  {
   "cell_type": "markdown",
   "metadata": {},
   "source": [
    "read json interaction graph"
   ]
  },
  {
   "cell_type": "code",
   "execution_count": 30,
   "metadata": {},
   "outputs": [
    {
     "name": "stdout",
     "output_type": "stream",
     "text": [
      "Number of atoms:  45\n",
      "Number of bonds:  1024\n"
     ]
    }
   ],
   "source": [
    "with open(DATA_PATH + target_mol_name + \"/\" + target_mol_name + \"_interaction_graph.json\", 'r') as f:\n",
    "  data = json.load(f)\n",
    "\n",
    "print(\"Number of atoms: \", len(data['nodes']))\n",
    "print(\"Number of bonds: \", len(data['edges']))"
   ]
  },
  {
   "cell_type": "code",
   "execution_count": 31,
   "metadata": {},
   "outputs": [
    {
     "name": "stdout",
     "output_type": "stream",
     "text": [
      "[{'id': 0, 'attype': 'N', 'pl': 'L'}, {'id': 1, 'attype': 'N', 'pl': 'L'}, {'id': 2, 'attype': 'N', 'pl': 'L'}, {'id': 3, 'attype': 'N', 'pl': 'L'}, {'id': 4, 'attype': 'N', 'pl': 'L'}, {'id': 5, 'attype': 'N', 'pl': 'L'}, {'id': 6, 'attype': 'N', 'pl': 'L'}, {'id': 7, 'attype': 'N', 'pl': 'L'}, {'id': 8, 'attype': 'N', 'pl': 'L'}, {'id': 9, 'attype': 'N', 'pl': 'L'}, {'id': 10, 'attype': 'N', 'pl': 'L'}, {'id': 11, 'attype': 'O', 'pl': 'L'}, {'id': 12, 'attype': 'O', 'pl': 'L'}, {'id': 13, 'attype': 'O', 'pl': 'L'}, {'id': 14, 'attype': 'O', 'pl': 'L'}, {'id': 15, 'attype': 'O', 'pl': 'L'}, {'id': 16, 'attype': 'O', 'pl': 'L'}, {'id': 17, 'attype': 'O', 'pl': 'L'}, {'id': 18, 'attype': 'O', 'pl': 'L'}, {'id': 19, 'attype': 'CA', 'pl': 'L'}, {'id': 20, 'attype': 'CA', 'pl': 'L'}, {'id': 21, 'attype': 'CA', 'pl': 'L'}, {'id': 22, 'attype': 'CA', 'pl': 'L'}, {'id': 23, 'attype': 'CA', 'pl': 'L'}, {'id': 24, 'attype': 'CA', 'pl': 'L'}, {'id': 25, 'attype': 'CA', 'pl': 'L'}, {'id': 26, 'attype': 'CA', 'pl': 'L'}, {'id': 27, 'attype': 'CA', 'pl': 'L'}, {'id': 28, 'attype': 'CA', 'pl': 'L'}, {'id': 29, 'attype': 'CA', 'pl': 'L'}, {'id': 30, 'attype': 'CA', 'pl': 'L'}, {'id': 31, 'attype': 'N', 'pl': 'P'}, {'id': 32, 'attype': 'N', 'pl': 'P'}, {'id': 33, 'attype': 'N', 'pl': 'P'}, {'id': 34, 'attype': 'N', 'pl': 'P'}, {'id': 35, 'attype': 'O', 'pl': 'P'}, {'id': 36, 'attype': 'O', 'pl': 'P'}, {'id': 37, 'attype': 'O', 'pl': 'P'}, {'id': 38, 'attype': 'CA', 'pl': 'P'}, {'id': 39, 'attype': 'CA', 'pl': 'P'}, {'id': 40, 'attype': 'CA', 'pl': 'P'}, {'id': 41, 'attype': 'CA', 'pl': 'P'}, {'id': 42, 'attype': 'CA', 'pl': 'P'}, {'id': 43, 'attype': 'CA', 'pl': 'P'}, {'id': 44, 'attype': 'CA', 'pl': 'P'}]\n"
     ]
    }
   ],
   "source": [
    "print(data['nodes'])"
   ]
  },
  {
   "cell_type": "markdown",
   "metadata": {},
   "source": [
    "Visualize interaction graph - red atoms from Protein and lightblue atoms from Ligand"
   ]
  },
  {
   "cell_type": "code",
   "execution_count": 32,
   "metadata": {},
   "outputs": [
    {
     "name": "stdout",
     "output_type": "stream",
     "text": [
      "Number of nodes:  45\n",
      "Number of edges:  247\n"
     ]
    }
   ],
   "source": [
    "G = nx.Graph()\n",
    "\n",
    "for edge in data['edges']:\n",
    "    if edge[\"id1\"] != None and edge[\"id2\"] != None:\n",
    "        G.add_edge(edge[\"id1\"], edge[\"id2\"], weight=edge[\"length\"])\n",
    "\n",
    "for node in data['nodes']:\n",
    "    nx.set_node_attributes(G, {node[\"id\"]: node[\"attype\"]}, \"atom_type\")\n",
    "    nx.set_node_attributes(G, {node[\"id\"]: node[\"pl\"]}, \"from\")\n",
    "\n",
    "print(\"Number of nodes: \", G.number_of_nodes())\n",
    "print(\"Number of edges: \", G.number_of_edges())\n",
    "\n",
    "colors = [\"red\" if G.nodes[node][\"from\"] == \"P\" else \"lightblue\" for node in G.nodes]\n",
    "\n",
    "# nx.draw_networkx_edge_labels(G, pos=nx.spring_layout(G), edge_labels=nx.get_edge_attributes(G, 'weight'))\n",
    "plt.figure(figsize=(10,10))\n",
    "pos = nx.spring_layout(G)\n",
    "nx.draw(G, pos=pos, with_labels=True, font_weight='bold', labels=nx.get_node_attributes(G, 'atom_type'), node_color=colors)\n",
    "# nx.draw_networkx_edge_labels(G, pos=pos, edge_labels=nx.get_edge_attributes(G, 'weight'))"
   ]
  },
  {
   "cell_type": "markdown",
   "metadata": {},
   "source": [
    "#### Gather affinity values"
   ]
  },
  {
   "cell_type": "markdown",
   "metadata": {},
   "source": [
    "## Load dataset"
   ]
  },
  {
   "cell_type": "code",
   "execution_count": 4,
   "metadata": {},
   "outputs": [
    {
     "name": "stderr",
     "output_type": "stream",
     "text": [
      "  1%|▏         | 180/14219 [00:04<05:21, 43.62it/s]\n"
     ]
    },
    {
     "ename": "KeyboardInterrupt",
     "evalue": "",
     "output_type": "error",
     "traceback": [
      "\u001b[1;31m---------------------------------------------------------------------------\u001b[0m",
      "\u001b[1;31mKeyboardInterrupt\u001b[0m                         Traceback (most recent call last)",
      "\u001b[1;32mc:\\Repositories\\EdgeSHAPer\\pli\\EDA.ipynb Cell 15\u001b[0m in \u001b[0;36m<module>\u001b[1;34m\u001b[0m\n\u001b[0;32m     <a href='vscode-notebook-cell:/c%3A/Repositories/EdgeSHAPer/pli/EDA.ipynb#X20sZmlsZQ%3D%3D?line=17'>18</a>\u001b[0m affinity \u001b[39m=\u001b[39m \u001b[39mfloat\u001b[39m(row[\u001b[39m3\u001b[39m])\n\u001b[0;32m     <a href='vscode-notebook-cell:/c%3A/Repositories/EdgeSHAPer/pli/EDA.ipynb#X20sZmlsZQ%3D%3D?line=19'>20</a>\u001b[0m interaction_affinities[interaction_name] \u001b[39m=\u001b[39m affinity\n\u001b[1;32m---> <a href='vscode-notebook-cell:/c%3A/Repositories/EdgeSHAPer/pli/EDA.ipynb#X20sZmlsZQ%3D%3D?line=20'>21</a>\u001b[0m \u001b[39mbreak\u001b[39;00m\n",
      "\u001b[1;31mKeyboardInterrupt\u001b[0m: "
     ]
    }
   ],
   "source": [
    "directory = os.fsencode(DATA_PATH)\n",
    "\n",
    "data_versions = [2020, 2019, 2016]\n",
    "interaction_affinities = {}\n",
    "\n",
    "for file in tqdm(os.listdir(directory)):\n",
    "    interaction_name = os.fsdecode(file)\n",
    "    if os.path.isdir(DATA_PATH + interaction_name):\n",
    "        for version in data_versions:\n",
    "            INDEX_PATH = \"data/pdbbind/PDBbind_v\" + str(version) + \"_plain_text_index/index/INDEX_general_PL_data.\" + str(version)\n",
    "            with open(INDEX_PATH, 'r') as f:\n",
    "                interaction_info = f.readlines()[5:]\n",
    "                for line in interaction_info:\n",
    "                    row = line.strip().split(\" \")\n",
    "                    if row[0] == interaction_name:\n",
    "                        row = list(filter(lambda a: a != \"\", row)) #remove empty strings\n",
    "                        \n",
    "                        affinity = float(row[3])\n",
    "                        \n",
    "                        interaction_affinities[interaction_name] = affinity\n",
    "                        break\n",
    "            "
   ]
  },
  {
   "cell_type": "code",
   "execution_count": null,
   "metadata": {},
   "outputs": [],
   "source": [
    "with open(DATA_PATH + '/interaction_affinities.json', 'w+') as fp:\n",
    "    json.dump(interaction_affinities, fp, sort_keys=True, indent=4)"
   ]
  },
  {
   "cell_type": "code",
   "execution_count": 5,
   "metadata": {},
   "outputs": [],
   "source": [
    "with open(DATA_PATH + '/interaction_affinities.json', 'r') as fp:\n",
    "    interaction_affinities = json.load(fp)"
   ]
  },
  {
   "cell_type": "code",
   "execution_count": 6,
   "metadata": {},
   "outputs": [
    {
     "name": "stderr",
     "output_type": "stream",
     "text": [
      "100%|██████████| 14219/14219 [00:24<00:00, 580.67it/s]\n"
     ]
    }
   ],
   "source": [
    "def generate_pli_dataset_dict(data_path):\n",
    "\n",
    "    directory = os.fsencode(data_path)\n",
    "\n",
    "    dataset_dict = {}\n",
    "    dirs = os.listdir(directory)\n",
    "    for file in tqdm(dirs):\n",
    "        interaction_name = os.fsdecode(file)\n",
    "        if os.path.isdir(data_path + interaction_name):\n",
    "            dataset_dict[interaction_name] = {}\n",
    "            with open(data_path + interaction_name + \"/\" + interaction_name + \"_interaction_graph.json\", 'r') as f:\n",
    "                data = json.load(f)\n",
    "                G = nx.Graph()\n",
    "\n",
    "                for edge in data['edges']:\n",
    "                    if edge[\"id1\"] != None and edge[\"id2\"] != None:\n",
    "                        G.add_edge(edge[\"id1\"], edge[\"id2\"], weight=edge[\"length\"])\n",
    "\n",
    "                for node in data['nodes']:\n",
    "                    nx.set_node_attributes(G, {node[\"id\"]: node[\"attype\"]}, \"atom_type\")\n",
    "                    nx.set_node_attributes(G, {node[\"id\"]: node[\"pl\"]}, \"from\")\n",
    "\n",
    "                # print(nx.to_scipy_sparse_matrix(G).tocoo())\n",
    "                \n",
    "            dataset_dict[interaction_name][\"networkx_graph\"] = G\n",
    "            edge_index, edge_weight = create_edge_index(G, weighted=True)\n",
    "\n",
    "            dataset_dict[interaction_name][\"edge_index\"] = edge_index\n",
    "            dataset_dict[interaction_name][\"edge_weight\"] = edge_weight\n",
    "            # dataset_dict[interaction_name][\"edge_weight\"] = \n",
    "\n",
    "            num_nodes = G.number_of_nodes()\n",
    "            dataset_dict[interaction_name][\"x\"] = torch.full((num_nodes, 1), 1.0, dtype=torch.float)#dummy feature\n",
    "\n",
    "            ## gather label\n",
    "            dataset_dict[interaction_name][\"y\"] = torch.FloatTensor([interaction_affinities[interaction_name]])\n",
    "    \n",
    "    return dataset_dict\n",
    "        \n",
    "pli_dataset_dict = generate_pli_dataset_dict(DATA_PATH)     "
   ]
  },
  {
   "cell_type": "markdown",
   "metadata": {},
   "source": [
    "### create torch dataset"
   ]
  },
  {
   "cell_type": "code",
   "execution_count": 7,
   "metadata": {},
   "outputs": [
    {
     "name": "stderr",
     "output_type": "stream",
     "text": [
      "100%|██████████| 14215/14215 [00:00<00:00, 30894.89it/s]\n"
     ]
    }
   ],
   "source": [
    "data_list = []\n",
    "for interaction_name in tqdm(pli_dataset_dict):\n",
    "    data_list.append(Data(x = pli_dataset_dict[interaction_name][\"x\"], edge_index = pli_dataset_dict[interaction_name][\"edge_index\"], edge_weight = pli_dataset_dict[interaction_name][\"edge_weight\"], y = pli_dataset_dict[interaction_name][\"y\"], networkx_graph = pli_dataset_dict[interaction_name][\"networkx_graph\"], interaction_name = interaction_name))"
   ]
  },
  {
   "cell_type": "code",
   "execution_count": 8,
   "metadata": {},
   "outputs": [],
   "source": [
    "dataset = PLIDataset(\".\", data_list = data_list)"
   ]
  },
  {
   "cell_type": "code",
   "execution_count": 9,
   "metadata": {},
   "outputs": [],
   "source": [
    "train_interactions = []\n",
    "val_interactions = []\n",
    "core_set_interactions = []\n",
    "hold_out_interactions = []\n",
    "\n",
    "with open(\"data/pdbbind/pdb_ids/training_set.csv\", 'r') as f:\n",
    "    train_interactions = f.readlines()\n",
    "\n",
    "train_interactions = [interaction.strip() for interaction in train_interactions]\n",
    "\n",
    "with open(\"data/pdbbind/pdb_ids/validation_set.csv\", 'r') as f:\n",
    "    val_interactions = f.readlines()\n",
    "\n",
    "val_interactions = [interaction.strip() for interaction in val_interactions]\n",
    "\n",
    "with open(\"data/pdbbind/pdb_ids/core_set.csv\", 'r') as f:\n",
    "    core_set_interactions = f.readlines()\n",
    "\n",
    "core_set_interactions = [interaction.strip() for interaction in core_set_interactions]\n",
    "\n",
    "with open(\"data/pdbbind/pdb_ids/hold_out_set.csv\", 'r') as f:\n",
    "    hold_out_interactions = f.readlines()\n",
    "\n",
    "hold_out_interactions = [interaction.strip() for interaction in hold_out_interactions]"
   ]
  },
  {
   "cell_type": "code",
   "execution_count": 10,
   "metadata": {},
   "outputs": [],
   "source": [
    "train_data = [dataset[i] for i in range(len(dataset)) if dataset[i].interaction_name in train_interactions]\n",
    "val_data = [dataset[i] for i in range(len(dataset)) if dataset[i].interaction_name in val_interactions]\n",
    "core_set_data = [dataset[i] for i in range(len(dataset)) if dataset[i].interaction_name in core_set_interactions]\n",
    "hold_out_data = [dataset[i] for i in range(len(dataset)) if dataset[i].interaction_name in hold_out_interactions]"
   ]
  },
  {
   "cell_type": "code",
   "execution_count": 11,
   "metadata": {},
   "outputs": [],
   "source": [
    "BATCH_SIZE = 32\n",
    "\n",
    "train_loader = DataLoader(train_data, batch_size=BATCH_SIZE)\n",
    "val_loader = DataLoader(val_data, batch_size=BATCH_SIZE)\n",
    "core_set_loader = DataLoader(core_set_data, batch_size=BATCH_SIZE)\n",
    "hold_out_loader = DataLoader(hold_out_data, batch_size=BATCH_SIZE)\n"
   ]
  },
  {
   "cell_type": "code",
   "execution_count": 12,
   "metadata": {},
   "outputs": [],
   "source": [
    "# num_classes  =  1 even for regression\n",
    "model = GCN(node_features_dim = dataset[0].x.shape[1], num_classes = 1, hidden_channels=256).to(device)"
   ]
  },
  {
   "cell_type": "code",
   "execution_count": 13,
   "metadata": {},
   "outputs": [
    {
     "data": {
      "text/plain": [
       "GCN(\n",
       "  (conv1): GCNConv(1, 256)\n",
       "  (conv2): GCNConv(256, 256)\n",
       "  (conv3): GCNConv(256, 256)\n",
       "  (conv4): GCNConv(256, 256)\n",
       "  (lin): Linear(256, 1, bias=True)\n",
       ")"
      ]
     },
     "execution_count": 13,
     "metadata": {},
     "output_type": "execute_result"
    }
   ],
   "source": [
    "model.load_state_dict(torch.load(\"models/model_2022_11_08-15_47_33.ckpt\"))\n",
    "model.to(device)\n",
    "model"
   ]
  },
  {
   "cell_type": "markdown",
   "metadata": {},
   "source": [
    "### Train the network"
   ]
  },
  {
   "cell_type": "code",
   "execution_count": 14,
   "metadata": {},
   "outputs": [],
   "source": [
    "#training the network\n",
    "lr = lr=1e-3\n",
    "EPOCHS = 100\n",
    "optimizer = torch.optim.Adam(model.parameters(), lr=lr)\n",
    "criterion = torch.nn.MSELoss()\n",
    "\n",
    "epochs = EPOCHS"
   ]
  },
  {
   "cell_type": "code",
   "execution_count": 15,
   "metadata": {},
   "outputs": [],
   "source": [
    "def train():\n",
    "    model.train()\n",
    "\n",
    "    for data in train_loader:  # Iterate in batches over the training dataset.\n",
    "        data = data.to(device)\n",
    "        out = model(data.x, data.edge_index, data.batch, edge_weight = data.edge_weight)  # Perform a single forward pass.\n",
    "        loss = torch.sqrt(criterion(torch.squeeze(out), data.y))  # Compute the loss.\n",
    "        loss.backward()  # Derive gradients.\n",
    "        optimizer.step()  # Update parameters based on gradients.\n",
    "        optimizer.zero_grad()  # Clear gradients.\n",
    "\n",
    "def test(loader):\n",
    "    model.eval()\n",
    "\n",
    "    sum_loss = 0\n",
    "    for data in loader:  # Iterate in batches over the training/test dataset.\n",
    "        data = data.to(device)\n",
    "        \n",
    "        out = model(data.x, data.edge_index, data.batch, edge_weight = data.edge_weight)  \n",
    "        loss = torch.sqrt(criterion(torch.squeeze(out), data.y)) \n",
    "        sum_loss += loss.item()\n",
    "    return sum_loss / len(loader.dataset)  # Derive ratio of correct predictions."
   ]
  },
  {
   "cell_type": "code",
   "execution_count": 17,
   "metadata": {},
   "outputs": [
    {
     "name": "stdout",
     "output_type": "stream",
     "text": [
      "Epoch: 000, Train RMSE: 0.0662, Val RMSE: 0.0724\n",
      "Epoch: 001, Train RMSE: 0.0633, Val RMSE: 0.0697\n",
      "Epoch: 002, Train RMSE: 0.0606, Val RMSE: 0.0672\n",
      "Epoch: 003, Train RMSE: 0.0596, Val RMSE: 0.0664\n",
      "Epoch: 004, Train RMSE: 0.0591, Val RMSE: 0.0660\n",
      "Epoch: 005, Train RMSE: 0.0589, Val RMSE: 0.0658\n",
      "Epoch: 006, Train RMSE: 0.0582, Val RMSE: 0.0653\n",
      "Epoch: 007, Train RMSE: 0.0585, Val RMSE: 0.0654\n",
      "Epoch: 008, Train RMSE: 0.0584, Val RMSE: 0.0654\n",
      "Epoch: 009, Train RMSE: 0.0582, Val RMSE: 0.0652\n",
      "Epoch: 010, Train RMSE: 0.0584, Val RMSE: 0.0654\n",
      "Epoch: 011, Train RMSE: 0.0583, Val RMSE: 0.0653\n",
      "Epoch: 012, Train RMSE: 0.0583, Val RMSE: 0.0653\n",
      "Epoch: 013, Train RMSE: 0.0585, Val RMSE: 0.0655\n",
      "Epoch: 014, Train RMSE: 0.0583, Val RMSE: 0.0653\n",
      "Epoch: 015, Train RMSE: 0.0586, Val RMSE: 0.0656\n",
      "Epoch: 016, Train RMSE: 0.0590, Val RMSE: 0.0659\n",
      "Epoch: 017, Train RMSE: 0.0585, Val RMSE: 0.0655\n",
      "Epoch: 018, Train RMSE: 0.0586, Val RMSE: 0.0656\n",
      "Epoch: 019, Train RMSE: 0.0590, Val RMSE: 0.0659\n",
      "Epoch: 020, Train RMSE: 0.0588, Val RMSE: 0.0657\n",
      "Epoch: 021, Train RMSE: 0.0586, Val RMSE: 0.0655\n",
      "Epoch: 022, Train RMSE: 0.0590, Val RMSE: 0.0659\n",
      "Epoch: 023, Train RMSE: 0.0584, Val RMSE: 0.0654\n",
      "Epoch: 024, Train RMSE: 0.0586, Val RMSE: 0.0655\n",
      "Epoch: 025, Train RMSE: 0.0584, Val RMSE: 0.0654\n",
      "Epoch: 026, Train RMSE: 0.0584, Val RMSE: 0.0654\n",
      "Epoch: 027, Train RMSE: 0.0584, Val RMSE: 0.0654\n",
      "Epoch: 028, Train RMSE: 0.0585, Val RMSE: 0.0655\n",
      "Epoch: 029, Train RMSE: 0.0584, Val RMSE: 0.0655\n",
      "Epoch: 030, Train RMSE: 0.0584, Val RMSE: 0.0655\n",
      "Epoch: 031, Train RMSE: 0.0585, Val RMSE: 0.0655\n",
      "Epoch: 032, Train RMSE: 0.0583, Val RMSE: 0.0654\n",
      "Epoch: 033, Train RMSE: 0.0582, Val RMSE: 0.0653\n",
      "Epoch: 034, Train RMSE: 0.0586, Val RMSE: 0.0656\n",
      "Epoch: 035, Train RMSE: 0.0584, Val RMSE: 0.0654\n",
      "Epoch: 036, Train RMSE: 0.0584, Val RMSE: 0.0655\n",
      "Epoch: 037, Train RMSE: 0.0583, Val RMSE: 0.0653\n",
      "Epoch: 038, Train RMSE: 0.0583, Val RMSE: 0.0654\n",
      "Epoch: 039, Train RMSE: 0.0583, Val RMSE: 0.0653\n",
      "Epoch: 040, Train RMSE: 0.0581, Val RMSE: 0.0652\n",
      "Epoch: 041, Train RMSE: 0.0580, Val RMSE: 0.0651\n",
      "Epoch: 042, Train RMSE: 0.0579, Val RMSE: 0.0651\n",
      "Epoch: 043, Train RMSE: 0.0579, Val RMSE: 0.0651\n",
      "Epoch: 044, Train RMSE: 0.0579, Val RMSE: 0.0651\n",
      "Epoch: 045, Train RMSE: 0.0578, Val RMSE: 0.0650\n",
      "Epoch: 046, Train RMSE: 0.0578, Val RMSE: 0.0650\n",
      "Epoch: 047, Train RMSE: 0.0578, Val RMSE: 0.0650\n",
      "Epoch: 048, Train RMSE: 0.0578, Val RMSE: 0.0650\n",
      "Epoch: 049, Train RMSE: 0.0578, Val RMSE: 0.0650\n",
      "Epoch: 050, Train RMSE: 0.0578, Val RMSE: 0.0650\n",
      "Epoch: 051, Train RMSE: 0.0578, Val RMSE: 0.0650\n",
      "Epoch: 052, Train RMSE: 0.0577, Val RMSE: 0.0650\n",
      "Epoch: 053, Train RMSE: 0.0577, Val RMSE: 0.0650\n",
      "Epoch: 054, Train RMSE: 0.0577, Val RMSE: 0.0650\n",
      "Epoch: 055, Train RMSE: 0.0577, Val RMSE: 0.0650\n",
      "Epoch: 056, Train RMSE: 0.0577, Val RMSE: 0.0650\n",
      "Epoch: 057, Train RMSE: 0.0577, Val RMSE: 0.0650\n",
      "Epoch: 058, Train RMSE: 0.0577, Val RMSE: 0.0650\n",
      "Epoch: 059, Train RMSE: 0.0577, Val RMSE: 0.0650\n",
      "Epoch: 060, Train RMSE: 0.0577, Val RMSE: 0.0650\n",
      "Epoch: 061, Train RMSE: 0.0577, Val RMSE: 0.0650\n",
      "Epoch: 062, Train RMSE: 0.0577, Val RMSE: 0.0650\n",
      "Epoch: 063, Train RMSE: 0.0577, Val RMSE: 0.0650\n",
      "Epoch: 064, Train RMSE: 0.0577, Val RMSE: 0.0650\n",
      "Epoch: 065, Train RMSE: 0.0577, Val RMSE: 0.0650\n",
      "Epoch: 066, Train RMSE: 0.0577, Val RMSE: 0.0650\n",
      "Epoch: 067, Train RMSE: 0.0577, Val RMSE: 0.0651\n",
      "Epoch: 068, Train RMSE: 0.0577, Val RMSE: 0.0651\n",
      "Epoch: 069, Train RMSE: 0.0577, Val RMSE: 0.0650\n",
      "Epoch: 070, Train RMSE: 0.0577, Val RMSE: 0.0651\n",
      "Epoch: 071, Train RMSE: 0.0577, Val RMSE: 0.0651\n",
      "Epoch: 072, Train RMSE: 0.0577, Val RMSE: 0.0651\n",
      "Epoch: 073, Train RMSE: 0.0577, Val RMSE: 0.0651\n",
      "Epoch: 074, Train RMSE: 0.0577, Val RMSE: 0.0651\n",
      "Epoch: 075, Train RMSE: 0.0577, Val RMSE: 0.0651\n",
      "Epoch: 076, Train RMSE: 0.0577, Val RMSE: 0.0651\n",
      "Epoch: 077, Train RMSE: 0.0577, Val RMSE: 0.0651\n",
      "Epoch: 078, Train RMSE: 0.0577, Val RMSE: 0.0651\n",
      "Epoch: 079, Train RMSE: 0.0577, Val RMSE: 0.0651\n",
      "Epoch: 080, Train RMSE: 0.0577, Val RMSE: 0.0651\n",
      "Epoch: 081, Train RMSE: 0.0577, Val RMSE: 0.0651\n",
      "Epoch: 082, Train RMSE: 0.0577, Val RMSE: 0.0651\n",
      "Epoch: 083, Train RMSE: 0.0577, Val RMSE: 0.0651\n",
      "Epoch: 084, Train RMSE: 0.0577, Val RMSE: 0.0651\n",
      "Epoch: 085, Train RMSE: 0.0577, Val RMSE: 0.0651\n",
      "Epoch: 086, Train RMSE: 0.0577, Val RMSE: 0.0651\n",
      "Epoch: 087, Train RMSE: 0.0577, Val RMSE: 0.0651\n",
      "Epoch: 088, Train RMSE: 0.0577, Val RMSE: 0.0651\n",
      "Epoch: 089, Train RMSE: 0.0577, Val RMSE: 0.0651\n",
      "Epoch: 090, Train RMSE: 0.0577, Val RMSE: 0.0651\n",
      "Epoch: 091, Train RMSE: 0.0577, Val RMSE: 0.0651\n",
      "Epoch: 092, Train RMSE: 0.0577, Val RMSE: 0.0651\n",
      "Epoch: 093, Train RMSE: 0.0577, Val RMSE: 0.0651\n",
      "Epoch: 094, Train RMSE: 0.0577, Val RMSE: 0.0651\n",
      "Epoch: 095, Train RMSE: 0.0577, Val RMSE: 0.0651\n",
      "Epoch: 096, Train RMSE: 0.0577, Val RMSE: 0.0651\n",
      "Epoch: 097, Train RMSE: 0.0577, Val RMSE: 0.0651\n",
      "Epoch: 098, Train RMSE: 0.0577, Val RMSE: 0.0651\n",
      "Epoch: 099, Train RMSE: 0.0577, Val RMSE: 0.0651\n",
      "Core set 2016 RMSE: 0.0839\n"
     ]
    },
    {
     "name": "stderr",
     "output_type": "stream",
     "text": [
      "c:\\Users\\Mastro\\anaconda3\\envs\\edgeshaper\\lib\\site-packages\\torch\\nn\\modules\\loss.py:530: UserWarning: Using a target size (torch.Size([1])) that is different to the input size (torch.Size([])). This will likely lead to incorrect results due to broadcasting. Please ensure they have the same size.\n",
      "  return F.mse_loss(input, target, reduction=self.reduction)\n"
     ]
    },
    {
     "name": "stdout",
     "output_type": "stream",
     "text": [
      "Hold out set 2019 RMSE: 0.0563\n"
     ]
    }
   ],
   "source": [
    "for epoch in range(epochs):\n",
    "    train()\n",
    "    train_rmse = test(train_loader)\n",
    "    val_rmse = test(val_loader)\n",
    "    print(f'Epoch: {epoch:03d}, Train RMSE: {train_rmse:.4f}, Val RMSE: {val_rmse:.4f}')\n",
    "\n",
    "core_set_rmse = test(core_set_loader)    \n",
    "print(f'Core set 2016 RMSE: {core_set_rmse:.4f}')\n",
    "\n",
    "hold_out_set_rmse = test(hold_out_loader)    \n",
    "print(f'Hold out set 2019 RMSE: {hold_out_set_rmse:.4f}')"
   ]
  },
  {
   "cell_type": "code",
   "execution_count": 18,
   "metadata": {},
   "outputs": [],
   "source": [
    "save_model(model, \"models\")"
   ]
  },
  {
   "cell_type": "code",
   "execution_count": 16,
   "metadata": {},
   "outputs": [
    {
     "name": "stdout",
     "output_type": "stream",
     "text": [
      "Core set 2016 RMSE: 0.0839\n"
     ]
    },
    {
     "name": "stderr",
     "output_type": "stream",
     "text": [
      "c:\\Users\\Mastro\\anaconda3\\envs\\edgeshaper\\lib\\site-packages\\torch\\nn\\modules\\loss.py:530: UserWarning: Using a target size (torch.Size([1])) that is different to the input size (torch.Size([])). This will likely lead to incorrect results due to broadcasting. Please ensure they have the same size.\n",
      "  return F.mse_loss(input, target, reduction=self.reduction)\n"
     ]
    }
   ],
   "source": [
    "core_set_rmse = test(core_set_loader)    \n",
    "print(f'Core set 2016 RMSE: {core_set_rmse:.4f}')\n"
   ]
  },
  {
   "cell_type": "code",
   "execution_count": 17,
   "metadata": {},
   "outputs": [
    {
     "name": "stdout",
     "output_type": "stream",
     "text": [
      "Hold out set 2019 RMSE: 0.0563\n"
     ]
    }
   ],
   "source": [
    "hold_out_set_rmse = test(hold_out_loader)    \n",
    "print(f'Hold out set 2019 RMSE: {hold_out_set_rmse:.4f}')"
   ]
  },
  {
   "cell_type": "markdown",
   "metadata": {},
   "source": [
    "## Explainability"
   ]
  },
  {
   "cell_type": "code",
   "execution_count": 18,
   "metadata": {},
   "outputs": [
    {
     "data": {
      "text/plain": [
       "Data(x=[7, 1], edge_index=[2, 24], y=[1], edge_weight=[24], networkx_graph=Graph with 7 nodes and 12 edges, interaction_name='1b42')"
      ]
     },
     "execution_count": 18,
     "metadata": {},
     "output_type": "execute_result"
    }
   ],
   "source": [
    "test_interaction = hold_out_data[1]\n",
    "test_interaction"
   ]
  },
  {
   "cell_type": "code",
   "execution_count": 19,
   "metadata": {},
   "outputs": [],
   "source": [
    "batch = torch.zeros(test_interaction.x.shape[0], dtype=int, device=test_interaction.x.device)\n",
    "                \n",
    "out = model(test_interaction.x.to(device), test_interaction.edge_index.to(device), batch=batch.to(device), edge_weight=test_interaction.edge_weight.to(device))"
   ]
  },
  {
   "cell_type": "code",
   "execution_count": 20,
   "metadata": {},
   "outputs": [
    {
     "data": {
      "text/plain": [
       "6.536458969116211"
      ]
     },
     "execution_count": 20,
     "metadata": {},
     "output_type": "execute_result"
    }
   ],
   "source": [
    "out[None][None].item()"
   ]
  },
  {
   "cell_type": "code",
   "execution_count": 26,
   "metadata": {},
   "outputs": [
    {
     "data": {
      "text/plain": [
       "6.536458969116211"
      ]
     },
     "execution_count": 26,
     "metadata": {},
     "output_type": "execute_result"
    }
   ],
   "source": [
    "import torch.nn.functional as F\n",
    "\n",
    "out_prob_real = F.softmax(out, dim = 1)[0][None].item()\n",
    "out_prob_real = out.item()\n",
    "out_prob_real"
   ]
  },
  {
   "cell_type": "code",
   "execution_count": 21,
   "metadata": {},
   "outputs": [
    {
     "name": "stdout",
     "output_type": "stream",
     "text": [
      "No target class specified. Regression model assumed.\n"
     ]
    },
    {
     "name": "stderr",
     "output_type": "stream",
     "text": [
      "100%|██████████| 100/100 [00:26<00:00,  3.70it/s]\n"
     ]
    }
   ],
   "source": [
    "edgeshaper_explainer = Edgeshaper(model, test_interaction.x, test_interaction.edge_index, edge_weight = test_interaction.edge_weight, device = device)\n",
    "\n",
    "phi_edges = edgeshaper_explainer.explain(M = 100, target_class = None, deviation = 1e-3, seed = 42)"
   ]
  },
  {
   "cell_type": "code",
   "execution_count": 22,
   "metadata": {},
   "outputs": [
    {
     "data": {
      "text/plain": [
       "tensor([[0, 1, 1, 1, 1, 1, 2, 2, 2, 2, 3, 3, 3, 3, 4, 4, 4, 4, 5, 5, 5, 6, 6, 6],\n",
       "        [1, 0, 3, 4, 5, 6, 3, 4, 5, 6, 1, 2, 4, 6, 1, 2, 3, 5, 1, 2, 4, 1, 2, 3]])"
      ]
     },
     "execution_count": 22,
     "metadata": {},
     "output_type": "execute_result"
    }
   ],
   "source": [
    "test_interaction.edge_index"
   ]
  },
  {
   "cell_type": "code",
   "execution_count": 23,
   "metadata": {},
   "outputs": [
    {
     "data": {
      "text/plain": [
       "0.9485115361213684"
      ]
     },
     "execution_count": 23,
     "metadata": {},
     "output_type": "execute_result"
    }
   ],
   "source": [
    "sum(phi_edges)"
   ]
  },
  {
   "cell_type": "code",
   "execution_count": 39,
   "metadata": {},
   "outputs": [],
   "source": [
    "rdkit_bonds = dict(test_interaction.networkx_graph.edges())"
   ]
  },
  {
   "cell_type": "code",
   "execution_count": 42,
   "metadata": {},
   "outputs": [
    {
     "data": {
      "text/plain": [
       "EdgeView([(6, 5), (5, 1), (5, 2), (5, 3), (5, 4), (0, 1), (0, 2), (0, 3), (0, 4), (1, 2), (1, 4), (2, 3)])"
      ]
     },
     "execution_count": 42,
     "metadata": {},
     "output_type": "execute_result"
    }
   ],
   "source": [
    "test_interaction.networkx_graph.edges()"
   ]
  },
  {
   "cell_type": "code",
   "execution_count": 43,
   "metadata": {},
   "outputs": [
    {
     "data": {
      "text/plain": [
       "[(6, 5),\n",
       " (5, 1),\n",
       " (5, 2),\n",
       " (5, 3),\n",
       " (5, 4),\n",
       " (0, 1),\n",
       " (0, 2),\n",
       " (0, 3),\n",
       " (0, 4),\n",
       " (1, 2),\n",
       " (1, 4),\n",
       " (2, 3)]"
      ]
     },
     "execution_count": 43,
     "metadata": {},
     "output_type": "execute_result"
    }
   ],
   "source": [
    "bonds = dict(test_interaction.networkx_graph.edges())\n",
    "bonds = list(bonds.keys())\n",
    "bonds"
   ]
  },
  {
   "cell_type": "code",
   "execution_count": 44,
   "metadata": {},
   "outputs": [
    {
     "data": {
      "text/plain": [
       "[0,\n",
       " -0.0035381317138671892,\n",
       " 0.045276551246643065,\n",
       " 0,\n",
       " 0.2073694682121277,\n",
       " 0.24628103256225586,\n",
       " 0,\n",
       " 0,\n",
       " 0,\n",
       " 0,\n",
       " 0.002996211051940917,\n",
       " 0.1233462929725647]"
      ]
     },
     "execution_count": 44,
     "metadata": {},
     "output_type": "execute_result"
    }
   ],
   "source": [
    "num_bonds = test_interaction.networkx_graph.number_of_edges()\n",
    "rdkit_bonds_phi = [0]*num_bonds\n",
    "rdkit_bonds = {}\n",
    "\n",
    "bonds = dict(test_interaction.networkx_graph.edges())\n",
    "bonds = list(bonds.keys())\n",
    "\n",
    "for i in range(num_bonds):\n",
    "    init_atom = bonds[i][0]\n",
    "    end_atom = bonds[i][1]\n",
    "    \n",
    "    rdkit_bonds[(init_atom, end_atom)] = i\n",
    "\n",
    "for i in range(len(phi_edges)):\n",
    "    phi_value = phi_edges[i]\n",
    "    init_atom = test_interaction.edge_index[0][i].item()\n",
    "    end_atom = test_interaction.edge_index[1][i].item()\n",
    "    \n",
    "    if (init_atom, end_atom) in rdkit_bonds:\n",
    "        bond_index = rdkit_bonds[(init_atom, end_atom)]\n",
    "        rdkit_bonds_phi[bond_index] += phi_value\n",
    "    if (end_atom, init_atom) in rdkit_bonds:\n",
    "        bond_index = rdkit_bonds[(end_atom, init_atom)]\n",
    "        rdkit_bonds_phi[bond_index] += phi_value\n",
    "\n",
    "rdkit_bonds_phi"
   ]
  },
  {
   "cell_type": "markdown",
   "metadata": {},
   "source": [
    "### Visualize explanations"
   ]
  },
  {
   "cell_type": "code",
   "execution_count": 24,
   "metadata": {},
   "outputs": [
    {
     "name": "stdout",
     "output_type": "stream",
     "text": [
      "Number of nodes:  7\n",
      "Number of edges:  12\n"
     ]
    }
   ],
   "source": [
    "G = test_interaction.networkx_graph\n",
    "print(\"Number of nodes: \", G.number_of_nodes())\n",
    "print(\"Number of edges: \", G.number_of_edges())\n",
    "\n",
    "colors = [\"red\" if G.nodes[node][\"from\"] == \"P\" else \"lightblue\" for node in G.nodes]\n",
    "\n",
    "# nx.draw_networkx_edge_labels(G, pos=nx.spring_layout(G), edge_labels=nx.get_edge_attributes(G, 'weight'))\n"
   ]
  },
  {
   "cell_type": "code",
   "execution_count": 55,
   "metadata": {},
   "outputs": [
    {
     "data": {
      "image/png": "[encoded data removed]",
      "text/plain": [
       "<Figure size 720x720 with 1 Axes>"
      ]
     },
     "metadata": {},
     "output_type": "display_data"
    }
   ],
   "source": [
    "plt.figure(figsize=(10,10))\n",
    "pos = nx.spring_layout(G)\n",
    "nx.draw(G, pos=pos, with_labels=True, font_weight='bold', labels=nx.get_node_attributes(G, 'atom_type'), node_color=colors,edge_color=rdkit_bonds_phi, width=3, edge_cmap=plt.cm.bwr)"
   ]
  }
 ],
 "metadata": {
  "kernelspec": {
   "display_name": "Python 3.8.12 ('edgeshaper')",
   "language": "python",
   "name": "python3"
  },
  "language_info": {
   "codemirror_mode": {
    "name": "ipython",
    "version": 3
   },
   "file_extension": ".py",
   "mimetype": "text/x-python",
   "name": "python",
   "nbconvert_exporter": "python",
   "pygments_lexer": "ipython3",
   "version": "3.8.12"
  },
  "orig_nbformat": 4,
  "vscode": {
   "interpreter": {
    "hash": "c9b5cff2b376585da850053301dfd0d187c5a2041a83b408b1c873b8b0d71687"
   }
  }
 },
 "nbformat": 4,
 "nbformat_minor": 2
}
