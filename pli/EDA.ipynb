{
 "cells": [
  {
   "cell_type": "code",
   "execution_count": 1,
   "metadata": {},
   "outputs": [],
   "source": [
    "import os\n",
    "from tqdm.notebook import tqdm\n",
    "import json\n",
    "\n",
    "import torch\n",
    "from torch_geometric.data import Data\n",
    "from torch_geometric.loader import DataLoader\n",
    "\n",
    "import numpy as np\n",
    "\n",
    "from rdkit import Chem\n",
    "from rdkit.Chem import Draw\n",
    "import json\n",
    "import networkx as nx\n",
    "\n",
    "import matplotlib.pyplot as plt\n",
    "%matplotlib inline\n",
    "\n",
    "from src.utils import create_edge_index, PLIDataset, set_all_seeds, GCN, save_model\n",
    "from src.edgeshaper import Edgeshaper\n",
    "\n",
    "device = torch.device('cuda' if torch.cuda.is_available() else 'cpu')"
   ]
  },
  {
   "cell_type": "code",
   "execution_count": 2,
   "metadata": {},
   "outputs": [],
   "source": [
    "set_all_seeds(42)"
   ]
  },
  {
   "cell_type": "code",
   "execution_count": 3,
   "metadata": {},
   "outputs": [],
   "source": [
    "DATA_PATH = 'data/pdbbind/dataset/'\n",
    "SAVE_FOLDER = 'results/explanations/'"
   ]
  },
  {
   "cell_type": "markdown",
   "metadata": {},
   "source": [
    "## EDA"
   ]
  },
  {
   "cell_type": "markdown",
   "metadata": {},
   "source": [
    "read mol2 files"
   ]
  },
  {
   "cell_type": "code",
   "execution_count": 4,
   "metadata": {},
   "outputs": [
    {
     "data": {
      "image/png": "[encoded data removed]",
      "text/plain": [
       "<rdkit.Chem.rdchem.Mol at 0x2bcf39ba700>"
      ]
     },
     "execution_count": 4,
     "metadata": {},
     "output_type": "execute_result"
    }
   ],
   "source": [
    "target_mol_name = \"1a0t\"\n",
    "mol = Chem.MolFromMol2File(DATA_PATH + target_mol_name + \"/\" + target_mol_name + \"_ligand.mol2\")\n",
    "test_mol = Draw.PrepareMolForDrawing(mol)\n",
    "test_mol\n"
   ]
  },
  {
   "cell_type": "code",
   "execution_count": 5,
   "metadata": {},
   "outputs": [
    {
     "name": "stdout",
     "output_type": "stream",
     "text": [
      "Number of bonds:  24\n",
      "Number of atoms:  23\n",
      "Bond:  0   0 - 1   SINGLE\n",
      "Bond:  1   0 - 6   SINGLE\n",
      "Bond:  2   0 - 10   SINGLE\n",
      "Bond:  3   1 - 2   SINGLE\n",
      "Bond:  4   1 - 7   SINGLE\n",
      "Bond:  5   2 - 3   SINGLE\n",
      "Bond:  6   2 - 8   SINGLE\n",
      "Bond:  7   3 - 4   SINGLE\n",
      "Bond:  8   3 - 9   SINGLE\n",
      "Bond:  9   4 - 5   SINGLE\n",
      "Bond:  10   4 - 10   SINGLE\n",
      "Bond:  11   5 - 11   SINGLE\n",
      "Bond:  12   6 - 13   SINGLE\n",
      "Bond:  13   13 - 12   SINGLE\n",
      "Bond:  14   12 - 18   SINGLE\n",
      "Bond:  15   13 - 14   SINGLE\n",
      "Bond:  16   13 - 19   SINGLE\n",
      "Bond:  17   14 - 15   SINGLE\n",
      "Bond:  18   14 - 20   SINGLE\n",
      "Bond:  19   15 - 16   SINGLE\n",
      "Bond:  20   15 - 21   SINGLE\n",
      "Bond:  21   16 - 17   SINGLE\n",
      "Bond:  22   16 - 19   SINGLE\n",
      "Bond:  23   17 - 22   SINGLE\n"
     ]
    }
   ],
   "source": [
    "num_bonds = len(test_mol.GetBonds())\n",
    "num_atoms = len(test_mol.GetAtoms())\n",
    "\n",
    "print(\"Number of bonds: \", num_bonds)\n",
    "print(\"Number of atoms: \", num_atoms)\n",
    "\n",
    "rdkit_bonds = {}\n",
    "\n",
    "for i in range(num_bonds):\n",
    "    init_atom = test_mol.GetBondWithIdx(i).GetBeginAtomIdx()\n",
    "    end_atom = test_mol.GetBondWithIdx(i).GetEndAtomIdx()\n",
    "    bond_type = test_mol.GetBondWithIdx(i).GetBondType()\n",
    "    print(\"Bond: \", i, \" \" , init_atom, \"-\" , end_atom, \" \", bond_type)\n",
    "    rdkit_bonds[(init_atom, end_atom)] = i\n",
    "    #CNC(=O)CN1CN(c2ccccc2)C2(CCN(Cc3cc4c(cc3Cl)OCO4)CC2)C1=O\n",
    "# rdkit_bonds"
   ]
  },
  {
   "cell_type": "markdown",
   "metadata": {},
   "source": [
    "read json interaction graph"
   ]
  },
  {
   "cell_type": "code",
   "execution_count": 6,
   "metadata": {},
   "outputs": [
    {
     "name": "stdout",
     "output_type": "stream",
     "text": [
      "Number of atoms:  45\n",
      "Number of bonds:  1024\n"
     ]
    }
   ],
   "source": [
    "with open(DATA_PATH + target_mol_name + \"/\" + target_mol_name + \"_interaction_graph.json\", 'r') as f:\n",
    "  data = json.load(f)\n",
    "\n",
    "print(\"Number of atoms: \", len(data['nodes']))\n",
    "print(\"Number of bonds: \", len(data['edges']))"
   ]
  },
  {
   "cell_type": "code",
   "execution_count": 7,
   "metadata": {},
   "outputs": [
    {
     "name": "stdout",
     "output_type": "stream",
     "text": [
      "[{'id': 0, 'attype': 'N', 'pl': 'L'}, {'id': 1, 'attype': 'N', 'pl': 'L'}, {'id': 2, 'attype': 'N', 'pl': 'L'}, {'id': 3, 'attype': 'N', 'pl': 'L'}, {'id': 4, 'attype': 'N', 'pl': 'L'}, {'id': 5, 'attype': 'N', 'pl': 'L'}, {'id': 6, 'attype': 'N', 'pl': 'L'}, {'id': 7, 'attype': 'N', 'pl': 'L'}, {'id': 8, 'attype': 'N', 'pl': 'L'}, {'id': 9, 'attype': 'N', 'pl': 'L'}, {'id': 10, 'attype': 'N', 'pl': 'L'}, {'id': 11, 'attype': 'O', 'pl': 'L'}, {'id': 12, 'attype': 'O', 'pl': 'L'}, {'id': 13, 'attype': 'O', 'pl': 'L'}, {'id': 14, 'attype': 'O', 'pl': 'L'}, {'id': 15, 'attype': 'O', 'pl': 'L'}, {'id': 16, 'attype': 'O', 'pl': 'L'}, {'id': 17, 'attype': 'O', 'pl': 'L'}, {'id': 18, 'attype': 'O', 'pl': 'L'}, {'id': 19, 'attype': 'CA', 'pl': 'L'}, {'id': 20, 'attype': 'CA', 'pl': 'L'}, {'id': 21, 'attype': 'CA', 'pl': 'L'}, {'id': 22, 'attype': 'CA', 'pl': 'L'}, {'id': 23, 'attype': 'CA', 'pl': 'L'}, {'id': 24, 'attype': 'CA', 'pl': 'L'}, {'id': 25, 'attype': 'CA', 'pl': 'L'}, {'id': 26, 'attype': 'CA', 'pl': 'L'}, {'id': 27, 'attype': 'CA', 'pl': 'L'}, {'id': 28, 'attype': 'CA', 'pl': 'L'}, {'id': 29, 'attype': 'CA', 'pl': 'L'}, {'id': 30, 'attype': 'CA', 'pl': 'L'}, {'id': 31, 'attype': 'N', 'pl': 'P'}, {'id': 32, 'attype': 'N', 'pl': 'P'}, {'id': 33, 'attype': 'N', 'pl': 'P'}, {'id': 34, 'attype': 'N', 'pl': 'P'}, {'id': 35, 'attype': 'O', 'pl': 'P'}, {'id': 36, 'attype': 'O', 'pl': 'P'}, {'id': 37, 'attype': 'O', 'pl': 'P'}, {'id': 38, 'attype': 'CA', 'pl': 'P'}, {'id': 39, 'attype': 'CA', 'pl': 'P'}, {'id': 40, 'attype': 'CA', 'pl': 'P'}, {'id': 41, 'attype': 'CA', 'pl': 'P'}, {'id': 42, 'attype': 'CA', 'pl': 'P'}, {'id': 43, 'attype': 'CA', 'pl': 'P'}, {'id': 44, 'attype': 'CA', 'pl': 'P'}]\n"
     ]
    }
   ],
   "source": [
    "print(data['nodes'])"
   ]
  },
  {
   "cell_type": "markdown",
   "metadata": {},
   "source": [
    "Visualize interaction graph - red atoms from Protein and lightblue atoms from Ligand"
   ]
  },
  {
   "cell_type": "code",
   "execution_count": 8,
   "metadata": {},
   "outputs": [
    {
     "name": "stdout",
     "output_type": "stream",
     "text": [
      "Number of nodes:  45\n",
      "Number of edges:  247\n"
     ]
    }
   ],
   "source": [
    "G = nx.Graph()\n",
    "\n",
    "for edge in data['edges']:\n",
    "    if edge[\"id1\"] != None and edge[\"id2\"] != None:\n",
    "        G.add_edge(edge[\"id1\"], edge[\"id2\"], weight=edge[\"length\"])\n",
    "\n",
    "for node in data['nodes']:\n",
    "    nx.set_node_attributes(G, {node[\"id\"]: node[\"attype\"]}, \"atom_type\")\n",
    "    nx.set_node_attributes(G, {node[\"id\"]: node[\"pl\"]}, \"from\")\n",
    "\n",
    "print(\"Number of nodes: \", G.number_of_nodes())\n",
    "print(\"Number of edges: \", G.number_of_edges())\n",
    "\n",
    "colors = [\"red\" if G.nodes[node][\"from\"] == \"P\" else \"lightblue\" for node in G.nodes]\n",
    "\n",
    "# nx.draw_networkx_edge_labels(G, pos=nx.spring_layout(G), edge_labels=nx.get_edge_attributes(G, 'weight'))\n",
    "plt.figure(figsize=(10,10))\n",
    "pos = nx.spring_layout(G)\n",
    "nx.draw(G, pos=pos, with_labels=True, font_weight='bold', labels=nx.get_node_attributes(G, 'atom_type'), node_color=colors)\n",
    "# nx.draw_networkx_edge_labels(G, pos=pos, edge_labels=nx.get_edge_attributes(G, 'weight'))"
   ]
  },
  {
   "cell_type": "markdown",
   "metadata": {},
   "source": [
    "#### Gather affinity values"
   ]
  },
  {
   "cell_type": "markdown",
   "metadata": {},
   "source": [
    "## Load dataset"
   ]
  },
  {
   "cell_type": "markdown",
   "metadata": {},
   "source": [
    "#### Load affinities\n",
    "Already save in JSON, can load them"
   ]
  },
  {
   "cell_type": "code",
   "execution_count": 9,
   "metadata": {},
   "outputs": [],
   "source": [
    "# directory = os.fsencode(DATA_PATH)\n",
    "\n",
    "# data_versions = [2020, 2019, 2016]\n",
    "# interaction_affinities = {}\n",
    "\n",
    "# for file in tqdm(os.listdir(directory)):\n",
    "#     interaction_name = os.fsdecode(file)\n",
    "#     if os.path.isdir(DATA_PATH + interaction_name):\n",
    "#         for version in data_versions:\n",
    "#             INDEX_PATH = \"data/pdbbind/PDBbind_v\" + str(version) + \"_plain_text_index/index/INDEX_general_PL_data.\" + str(version)\n",
    "#             with open(INDEX_PATH, 'r') as f:\n",
    "#                 interaction_info = f.readlines()[5:]\n",
    "#                 for line in interaction_info:\n",
    "#                     row = line.strip().split(\" \")\n",
    "#                     if row[0] == interaction_name:\n",
    "#                         row = list(filter(lambda a: a != \"\", row)) #remove empty strings\n",
    "                        \n",
    "#                         affinity = float(row[3])\n",
    "                        \n",
    "#                         interaction_affinities[interaction_name] = affinity\n",
    "#                         break\n",
    "\n",
    "# with open(DATA_PATH + '/interaction_affinities.json', 'w+') as fp:\n",
    "#     json.dump(interaction_affinities, fp, sort_keys=True, indent=4)            "
   ]
  },
  {
   "cell_type": "code",
   "execution_count": 10,
   "metadata": {},
   "outputs": [],
   "source": [
    "interaction_affinities = None\n",
    "\n",
    "with open(DATA_PATH + '/interaction_affinities.json', 'r') as fp:\n",
    "    interaction_affinities = json.load(fp)"
   ]
  },
  {
   "cell_type": "code",
   "execution_count": 11,
   "metadata": {},
   "outputs": [
    {
     "data": {
      "application/vnd.jupyter.widget-view+json": {
       "model_id": "1188c8e480de4d45b3f32c94e1f90a40",
       "version_major": 2,
       "version_minor": 0
      },
      "text/plain": [
       "  0%|          | 0/14219 [00:00<?, ?it/s]"
      ]
     },
     "metadata": {},
     "output_type": "display_data"
    }
   ],
   "source": [
    "def generate_pli_dataset_dict(data_path):\n",
    "\n",
    "    directory = os.fsencode(data_path)\n",
    "\n",
    "    dataset_dict = {}\n",
    "    dirs = os.listdir(directory)\n",
    "    for file in tqdm(dirs):\n",
    "        interaction_name = os.fsdecode(file)\n",
    "        if os.path.isdir(data_path + interaction_name):\n",
    "            dataset_dict[interaction_name] = {}\n",
    "            with open(data_path + interaction_name + \"/\" + interaction_name + \"_interaction_graph.json\", 'r') as f:\n",
    "                data = json.load(f)\n",
    "                G = nx.Graph()\n",
    "\n",
    "                for edge in data['edges']:\n",
    "                    if edge[\"id1\"] != None and edge[\"id2\"] != None:\n",
    "                        G.add_edge(edge[\"id1\"], edge[\"id2\"], weight=edge[\"length\"])\n",
    "\n",
    "                for node in data['nodes']:\n",
    "                    nx.set_node_attributes(G, {node[\"id\"]: node[\"attype\"]}, \"atom_type\")\n",
    "                    nx.set_node_attributes(G, {node[\"id\"]: node[\"pl\"]}, \"from\")\n",
    "\n",
    "                # print(nx.to_scipy_sparse_matrix(G).tocoo())\n",
    "                \n",
    "            dataset_dict[interaction_name][\"networkx_graph\"] = G\n",
    "            edge_index, edge_weight = create_edge_index(G, weighted=True)\n",
    "\n",
    "            dataset_dict[interaction_name][\"edge_index\"] = edge_index\n",
    "            dataset_dict[interaction_name][\"edge_weight\"] = edge_weight\n",
    "            # dataset_dict[interaction_name][\"edge_weight\"] = \n",
    "\n",
    "            num_nodes = G.number_of_nodes()\n",
    "            dataset_dict[interaction_name][\"x\"] = torch.full((num_nodes, 1), 1.0, dtype=torch.float)#dummy feature\n",
    "\n",
    "            ## gather label\n",
    "            dataset_dict[interaction_name][\"y\"] = torch.FloatTensor([interaction_affinities[interaction_name]])\n",
    "    \n",
    "    return dataset_dict\n",
    "        \n",
    "pli_dataset_dict = generate_pli_dataset_dict(DATA_PATH)     "
   ]
  },
  {
   "cell_type": "markdown",
   "metadata": {},
   "source": [
    "### create torch dataset"
   ]
  },
  {
   "cell_type": "code",
   "execution_count": 12,
   "metadata": {},
   "outputs": [
    {
     "data": {
      "application/vnd.jupyter.widget-view+json": {
       "model_id": "0f28303ca455407087b84cdcc5087be6",
       "version_major": 2,
       "version_minor": 0
      },
      "text/plain": [
       "  0%|          | 0/14215 [00:00<?, ?it/s]"
      ]
     },
     "metadata": {},
     "output_type": "display_data"
    }
   ],
   "source": [
    "data_list = []\n",
    "for interaction_name in tqdm(pli_dataset_dict):\n",
    "    data_list.append(Data(x = pli_dataset_dict[interaction_name][\"x\"], edge_index = pli_dataset_dict[interaction_name][\"edge_index\"], edge_weight = pli_dataset_dict[interaction_name][\"edge_weight\"], y = pli_dataset_dict[interaction_name][\"y\"], networkx_graph = pli_dataset_dict[interaction_name][\"networkx_graph\"], interaction_name = interaction_name))"
   ]
  },
  {
   "cell_type": "code",
   "execution_count": 13,
   "metadata": {},
   "outputs": [],
   "source": [
    "dataset = PLIDataset(\".\", data_list = data_list)"
   ]
  },
  {
   "cell_type": "code",
   "execution_count": 14,
   "metadata": {},
   "outputs": [],
   "source": [
    "train_interactions = []\n",
    "val_interactions = []\n",
    "core_set_interactions = []\n",
    "hold_out_interactions = []\n",
    "\n",
    "with open(\"data/pdbbind/pdb_ids/training_set.csv\", 'r') as f:\n",
    "    train_interactions = f.readlines()\n",
    "\n",
    "train_interactions = [interaction.strip() for interaction in train_interactions]\n",
    "\n",
    "with open(\"data/pdbbind/pdb_ids/validation_set.csv\", 'r') as f:\n",
    "    val_interactions = f.readlines()\n",
    "\n",
    "val_interactions = [interaction.strip() for interaction in val_interactions]\n",
    "\n",
    "with open(\"data/pdbbind/pdb_ids/core_set.csv\", 'r') as f:\n",
    "    core_set_interactions = f.readlines()\n",
    "\n",
    "core_set_interactions = [interaction.strip() for interaction in core_set_interactions]\n",
    "\n",
    "with open(\"data/pdbbind/pdb_ids/hold_out_set.csv\", 'r') as f:\n",
    "    hold_out_interactions = f.readlines()\n",
    "\n",
    "hold_out_interactions = [interaction.strip() for interaction in hold_out_interactions]"
   ]
  },
  {
   "cell_type": "code",
   "execution_count": 15,
   "metadata": {},
   "outputs": [],
   "source": [
    "train_data = [dataset[i] for i in range(len(dataset)) if dataset[i].interaction_name in train_interactions]\n",
    "val_data = [dataset[i] for i in range(len(dataset)) if dataset[i].interaction_name in val_interactions]\n",
    "core_set_data = [dataset[i] for i in range(len(dataset)) if dataset[i].interaction_name in core_set_interactions]\n",
    "hold_out_data = [dataset[i] for i in range(len(dataset)) if dataset[i].interaction_name in hold_out_interactions]"
   ]
  },
  {
   "cell_type": "code",
   "execution_count": 16,
   "metadata": {},
   "outputs": [],
   "source": [
    "BATCH_SIZE = 32\n",
    "\n",
    "train_loader = DataLoader(train_data, batch_size=BATCH_SIZE)\n",
    "val_loader = DataLoader(val_data, batch_size=BATCH_SIZE)\n",
    "core_set_loader = DataLoader(core_set_data, batch_size=BATCH_SIZE)\n",
    "hold_out_loader = DataLoader(hold_out_data, batch_size=BATCH_SIZE)\n"
   ]
  },
  {
   "cell_type": "code",
   "execution_count": 17,
   "metadata": {},
   "outputs": [],
   "source": [
    "# num_classes  =  1 even for regression\n",
    "model = GCN(node_features_dim = dataset[0].x.shape[1], num_classes = 1, hidden_channels=256).to(device)"
   ]
  },
  {
   "cell_type": "code",
   "execution_count": 18,
   "metadata": {},
   "outputs": [
    {
     "data": {
      "text/plain": [
       "GCN(\n",
       "  (conv1): GCNConv(1, 256)\n",
       "  (conv2): GCNConv(256, 256)\n",
       "  (conv3): GCNConv(256, 256)\n",
       "  (conv4): GCNConv(256, 256)\n",
       "  (lin): Linear(256, 1, bias=True)\n",
       ")"
      ]
     },
     "execution_count": 18,
     "metadata": {},
     "output_type": "execute_result"
    }
   ],
   "source": [
    "model.load_state_dict(torch.load(\"models/model_2022_11_08-15_47_33.ckpt\"))\n",
    "model.to(device)\n",
    "model"
   ]
  },
  {
   "cell_type": "markdown",
   "metadata": {},
   "source": [
    "### Train the network"
   ]
  },
  {
   "cell_type": "code",
   "execution_count": 19,
   "metadata": {},
   "outputs": [],
   "source": [
    "#training the network\n",
    "lr = lr=1e-3\n",
    "EPOCHS = 100\n",
    "optimizer = torch.optim.Adam(model.parameters(), lr=lr)\n",
    "criterion = torch.nn.MSELoss()\n",
    "\n",
    "epochs = EPOCHS"
   ]
  },
  {
   "cell_type": "code",
   "execution_count": 20,
   "metadata": {},
   "outputs": [],
   "source": [
    "def train():\n",
    "    model.train()\n",
    "\n",
    "    for data in train_loader:  # Iterate in batches over the training dataset.\n",
    "        data = data.to(device)\n",
    "        out = model(data.x, data.edge_index, data.batch, edge_weight = data.edge_weight)  # Perform a single forward pass.\n",
    "        loss = torch.sqrt(criterion(torch.squeeze(out), data.y))  # Compute the loss.\n",
    "        loss.backward()  # Derive gradients.\n",
    "        optimizer.step()  # Update parameters based on gradients.\n",
    "        optimizer.zero_grad()  # Clear gradients.\n",
    "\n",
    "def test(loader):\n",
    "    model.eval()\n",
    "\n",
    "    sum_loss = 0\n",
    "    for data in loader:  # Iterate in batches over the training/test dataset.\n",
    "        data = data.to(device)\n",
    "        \n",
    "        out = model(data.x, data.edge_index, data.batch, edge_weight = data.edge_weight)  \n",
    "        loss = torch.sqrt(criterion(torch.squeeze(out), data.y)) \n",
    "        sum_loss += loss.item()\n",
    "    return sum_loss / len(loader.dataset)  # Derive ratio of correct predictions."
   ]
  },
  {
   "cell_type": "markdown",
   "metadata": {},
   "source": [
    "To train network, uncomment the cell below"
   ]
  },
  {
   "cell_type": "code",
   "execution_count": 21,
   "metadata": {},
   "outputs": [],
   "source": [
    "# for epoch in range(epochs):\n",
    "#     train()\n",
    "#     train_rmse = test(train_loader)\n",
    "#     val_rmse = test(val_loader)\n",
    "#     print(f'Epoch: {epoch:03d}, Train RMSE: {train_rmse:.4f}, Val RMSE: {val_rmse:.4f}')\n",
    "\n",
    "# core_set_rmse = test(core_set_loader)    \n",
    "# print(f'Core set 2016 RMSE: {core_set_rmse:.4f}')\n",
    "\n",
    "# hold_out_set_rmse = test(hold_out_loader)    \n",
    "# print(f'Hold out set 2019 RMSE: {hold_out_set_rmse:.4f}')\n",
    "\n",
    "# save_model(model, \"models\")"
   ]
  },
  {
   "cell_type": "code",
   "execution_count": 22,
   "metadata": {},
   "outputs": [
    {
     "name": "stdout",
     "output_type": "stream",
     "text": [
      "Core set 2016 RMSE: 0.0839\n"
     ]
    },
    {
     "name": "stderr",
     "output_type": "stream",
     "text": [
      "c:\\Users\\Mastro\\anaconda3\\envs\\edgeshaper\\lib\\site-packages\\torch\\nn\\modules\\loss.py:530: UserWarning: Using a target size (torch.Size([1])) that is different to the input size (torch.Size([])). This will likely lead to incorrect results due to broadcasting. Please ensure they have the same size.\n",
      "  return F.mse_loss(input, target, reduction=self.reduction)\n"
     ]
    }
   ],
   "source": [
    "core_set_rmse = test(core_set_loader)    \n",
    "print(f'Core set 2016 RMSE: {core_set_rmse:.4f}')"
   ]
  },
  {
   "cell_type": "code",
   "execution_count": 23,
   "metadata": {},
   "outputs": [
    {
     "name": "stdout",
     "output_type": "stream",
     "text": [
      "Hold out set 2019 RMSE: 0.0563\n"
     ]
    }
   ],
   "source": [
    "hold_out_set_rmse = test(hold_out_loader)    \n",
    "print(f'Hold out set 2019 RMSE: {hold_out_set_rmse:.4f}')"
   ]
  },
  {
   "cell_type": "markdown",
   "metadata": {},
   "source": [
    "## Explainability"
   ]
  },
  {
   "cell_type": "code",
   "execution_count": 24,
   "metadata": {},
   "outputs": [],
   "source": [
    "num_test_interactions = len(hold_out_interactions)\n",
    "test_interaction_indices = np.random.choice(num_test_interactions, 10, replace=False)\n",
    "\n",
    "num_edge_in_protein_list = []\n",
    "num_edge_in_ligand_list = []\n",
    "num_edge_in_between_list = []"
   ]
  },
  {
   "cell_type": "code",
   "execution_count": 25,
   "metadata": {},
   "outputs": [
    {
     "data": {
      "application/vnd.jupyter.widget-view+json": {
       "model_id": "9243447d817c47329d89301b07a6d1da",
       "version_major": 2,
       "version_minor": 0
      },
      "text/plain": [
       "  0%|          | 0/10 [00:00<?, ?it/s]"
      ]
     },
     "metadata": {},
     "output_type": "display_data"
    },
    {
     "name": "stdout",
     "output_type": "stream",
     "text": [
      "Interaction: 4zj8\n",
      "Predicted: 6.529644012451172 Actual: 9.260000228881836\n",
      "No target class specified. Regression model assumed.\n"
     ]
    },
    {
     "data": {
      "application/vnd.jupyter.widget-view+json": {
       "model_id": "c54c9dae018d49208d7548e5a3e3be01",
       "version_major": 2,
       "version_minor": 0
      },
      "text/plain": [
       "  0%|          | 0/100 [00:00<?, ?it/s]"
      ]
     },
     "metadata": {},
     "output_type": "display_data"
    },
    {
     "name": "stdout",
     "output_type": "stream",
     "text": [
      "Sum of phi edges: 0.9414651083946232\n",
      "Number of nodes:  41\n",
      "Number of edges:  133\n",
      "Number of relevant edges connecting protein atoms:  3\n",
      "Number of relevant edges connecting ligand atoms:  5\n",
      "Number of relevant edges connecting protein and ligand atoms:  3\n",
      "Interaction: 5y8w\n",
      "Predicted: 6.448524475097656 Actual: 6.639999866485596\n",
      "No target class specified. Regression model assumed.\n"
     ]
    },
    {
     "name": "stderr",
     "output_type": "stream",
     "text": [
      "C:\\Users\\Mastro\\AppData\\Local\\Temp\\ipykernel_3216\\2991038405.py:58: UserWarning: Matplotlib is currently using agg, which is a non-GUI backend, so cannot show the figure.\n",
      "  plt.show()\n"
     ]
    },
    {
     "data": {
      "application/vnd.jupyter.widget-view+json": {
       "model_id": "76f519f315fa4642b5b2b0112326aba5",
       "version_major": 2,
       "version_minor": 0
      },
      "text/plain": [
       "  0%|          | 0/100 [00:00<?, ?it/s]"
      ]
     },
     "metadata": {},
     "output_type": "display_data"
    },
    {
     "name": "stdout",
     "output_type": "stream",
     "text": [
      "Sum of phi edges: 1.3219738590717316\n",
      "Number of nodes:  34\n",
      "Number of edges:  136\n",
      "Number of relevant edges connecting protein atoms:  2\n",
      "Number of relevant edges connecting ligand atoms:  12\n",
      "Number of relevant edges connecting protein and ligand atoms:  2\n",
      "Interaction: 6f1n\n",
      "Predicted: 6.536458969116211 Actual: 6.260000228881836\n",
      "No target class specified. Regression model assumed.\n"
     ]
    },
    {
     "data": {
      "application/vnd.jupyter.widget-view+json": {
       "model_id": "8d6502a208f641a29d8fce18f60a1f12",
       "version_major": 2,
       "version_minor": 0
      },
      "text/plain": [
       "  0%|          | 0/100 [00:00<?, ?it/s]"
      ]
     },
     "metadata": {},
     "output_type": "display_data"
    },
    {
     "name": "stdout",
     "output_type": "stream",
     "text": [
      "Sum of phi edges: 1.2904818463325503\n",
      "Number of nodes:  39\n",
      "Number of edges:  138\n",
      "Number of relevant edges connecting protein atoms:  1\n",
      "Number of relevant edges connecting ligand atoms:  9\n",
      "Number of relevant edges connecting protein and ligand atoms:  5\n",
      "Interaction: 5vfd\n",
      "Predicted: 6.536458969116211 Actual: 6.440000057220459\n",
      "No target class specified. Regression model assumed.\n"
     ]
    },
    {
     "data": {
      "application/vnd.jupyter.widget-view+json": {
       "model_id": "402d6facb736485488cd576f54a838da",
       "version_major": 2,
       "version_minor": 0
      },
      "text/plain": [
       "  0%|          | 0/100 [00:00<?, ?it/s]"
      ]
     },
     "metadata": {},
     "output_type": "display_data"
    },
    {
     "name": "stdout",
     "output_type": "stream",
     "text": [
      "Sum of phi edges: 0.5385151481628416\n",
      "Number of nodes:  11\n",
      "Number of edges:  27\n",
      "Number of relevant edges connecting protein atoms:  0\n",
      "Number of relevant edges connecting ligand atoms:  8\n",
      "Number of relevant edges connecting protein and ligand atoms:  0\n",
      "Interaction: 5jyo\n",
      "Predicted: 6.534878730773926 Actual: 8.520000457763672\n",
      "No target class specified. Regression model assumed.\n"
     ]
    },
    {
     "data": {
      "application/vnd.jupyter.widget-view+json": {
       "model_id": "ea9d7e5eb75e4afbb23e984fb6bf4648",
       "version_major": 2,
       "version_minor": 0
      },
      "text/plain": [
       "  0%|          | 0/100 [00:00<?, ?it/s]"
      ]
     },
     "metadata": {},
     "output_type": "display_data"
    },
    {
     "name": "stdout",
     "output_type": "stream",
     "text": [
      "Sum of phi edges: 1.04589102268219\n",
      "Number of nodes:  52\n",
      "Number of edges:  177\n",
      "Number of relevant edges connecting protein atoms:  2\n",
      "Number of relevant edges connecting ligand atoms:  16\n",
      "Number of relevant edges connecting protein and ligand atoms:  4\n",
      "Interaction: 5nq5\n",
      "Predicted: 6.229280948638916 Actual: 5.0\n",
      "No target class specified. Regression model assumed.\n"
     ]
    },
    {
     "data": {
      "application/vnd.jupyter.widget-view+json": {
       "model_id": "912a22fdf7594426bc20477212a19b9a",
       "version_major": 2,
       "version_minor": 0
      },
      "text/plain": [
       "  0%|          | 0/100 [00:00<?, ?it/s]"
      ]
     },
     "metadata": {},
     "output_type": "display_data"
    },
    {
     "name": "stdout",
     "output_type": "stream",
     "text": [
      "Sum of phi edges: 0.5769816064834595\n",
      "Number of nodes:  39\n",
      "Number of edges:  117\n",
      "Number of relevant edges connecting protein atoms:  8\n",
      "Number of relevant edges connecting ligand atoms:  62\n",
      "Number of relevant edges connecting protein and ligand atoms:  37\n",
      "Interaction: 5msb\n",
      "Predicted: 6.5331878662109375 Actual: 7.460000038146973\n",
      "No target class specified. Regression model assumed.\n"
     ]
    },
    {
     "data": {
      "application/vnd.jupyter.widget-view+json": {
       "model_id": "e58453ff04684ef18e47081d8f26a12a",
       "version_major": 2,
       "version_minor": 0
      },
      "text/plain": [
       "  0%|          | 0/100 [00:00<?, ?it/s]"
      ]
     },
     "metadata": {},
     "output_type": "display_data"
    },
    {
     "name": "stdout",
     "output_type": "stream",
     "text": [
      "Sum of phi edges: 1.4073828029632565\n",
      "Number of nodes:  31\n",
      "Number of edges:  119\n",
      "Number of relevant edges connecting protein atoms:  2\n",
      "Number of relevant edges connecting ligand atoms:  13\n",
      "Number of relevant edges connecting protein and ligand atoms:  5\n",
      "Interaction: 5tvn\n",
      "Predicted: 5.015599250793457 Actual: 9.039999961853027\n",
      "No target class specified. Regression model assumed.\n"
     ]
    },
    {
     "data": {
      "application/vnd.jupyter.widget-view+json": {
       "model_id": "ee20bb501d5146878845b078dc653e02",
       "version_major": 2,
       "version_minor": 0
      },
      "text/plain": [
       "  0%|          | 0/100 [00:00<?, ?it/s]"
      ]
     },
     "metadata": {},
     "output_type": "display_data"
    },
    {
     "name": "stdout",
     "output_type": "stream",
     "text": [
      "Sum of phi edges: -0.8755006551742556\n",
      "Number of nodes:  30\n",
      "Number of edges:  71\n",
      "Number of relevant edges connecting protein atoms:  1\n",
      "Number of relevant edges connecting ligand atoms:  38\n",
      "Number of relevant edges connecting protein and ligand atoms:  25\n",
      "Interaction: 5tqg\n",
      "Predicted: 6.536458969116211 Actual: 9.619999885559082\n",
      "No target class specified. Regression model assumed.\n"
     ]
    },
    {
     "data": {
      "application/vnd.jupyter.widget-view+json": {
       "model_id": "8eb3f83b6d364043a5f0a8dba3fed1f1",
       "version_major": 2,
       "version_minor": 0
      },
      "text/plain": [
       "  0%|          | 0/100 [00:00<?, ?it/s]"
      ]
     },
     "metadata": {},
     "output_type": "display_data"
    },
    {
     "name": "stdout",
     "output_type": "stream",
     "text": [
      "Sum of phi edges: 1.5914639210701003\n",
      "Number of nodes:  56\n",
      "Number of edges:  248\n",
      "Number of relevant edges connecting protein atoms:  0\n",
      "Number of relevant edges connecting ligand atoms:  14\n",
      "Number of relevant edges connecting protein and ligand atoms:  7\n",
      "Interaction: 6f1x\n",
      "Predicted: 5.902372360229492 Actual: 7.699999809265137\n",
      "No target class specified. Regression model assumed.\n"
     ]
    },
    {
     "data": {
      "application/vnd.jupyter.widget-view+json": {
       "model_id": "3bfee20b7f2e474f89bd6563775c88b8",
       "version_major": 2,
       "version_minor": 0
      },
      "text/plain": [
       "  0%|          | 0/100 [00:00<?, ?it/s]"
      ]
     },
     "metadata": {},
     "output_type": "display_data"
    },
    {
     "name": "stdout",
     "output_type": "stream",
     "text": [
      "Sum of phi edges: 0.1633791136741639\n",
      "Number of nodes:  29\n",
      "Number of edges:  83\n",
      "Number of relevant edges connecting protein atoms:  2\n",
      "Number of relevant edges connecting ligand atoms:  53\n",
      "Number of relevant edges connecting protein and ligand atoms:  23\n"
     ]
    }
   ],
   "source": [
    "for index in tqdm(test_interaction_indices):\n",
    "    test_interaction = hold_out_data[index]\n",
    "    print(\"Interaction: \" + test_interaction.interaction_name)\n",
    "\n",
    "    batch = torch.zeros(test_interaction.x.shape[0], dtype=int, device=test_interaction.x.device)\n",
    "                \n",
    "    out = model(test_interaction.x.to(device), test_interaction.edge_index.to(device), batch=batch.to(device), edge_weight=test_interaction.edge_weight.to(device))\n",
    "\n",
    "    print(f\"Predicted: {out.item()} Actual: {test_interaction.y.item()}\")\n",
    "\n",
    "\n",
    "    #explainability\n",
    "\n",
    "    edgeshaper_explainer = Edgeshaper(model, test_interaction.x, test_interaction.edge_index, edge_weight = test_interaction.edge_weight, device = device)\n",
    "\n",
    "    phi_edges = edgeshaper_explainer.explain(M = 100, target_class = None, deviation = 1e-3, seed = 42)\n",
    "\n",
    "    print(f\"Sum of phi edges: {sum(phi_edges)}\")\n",
    "\n",
    "    #plotting\n",
    "    num_bonds = test_interaction.networkx_graph.number_of_edges()\n",
    "    rdkit_bonds_phi = [0]*num_bonds\n",
    "    rdkit_bonds = {}\n",
    "\n",
    "    bonds = dict(test_interaction.networkx_graph.edges())\n",
    "    bonds = list(bonds.keys())\n",
    "\n",
    "    for i in range(num_bonds):\n",
    "        init_atom = bonds[i][0]\n",
    "        end_atom = bonds[i][1]\n",
    "        \n",
    "        rdkit_bonds[(init_atom, end_atom)] = i\n",
    "\n",
    "    for i in range(len(phi_edges)):\n",
    "        phi_value = phi_edges[i]\n",
    "        init_atom = test_interaction.edge_index[0][i].item()\n",
    "        end_atom = test_interaction.edge_index[1][i].item()\n",
    "        \n",
    "        if (init_atom, end_atom) in rdkit_bonds:\n",
    "            bond_index = rdkit_bonds[(init_atom, end_atom)]\n",
    "            rdkit_bonds_phi[bond_index] += phi_value\n",
    "        if (end_atom, init_atom) in rdkit_bonds:\n",
    "            bond_index = rdkit_bonds[(end_atom, init_atom)]\n",
    "            rdkit_bonds_phi[bond_index] += phi_value\n",
    "\n",
    "    # print(rdkit_bonds_phi)\n",
    "\n",
    "    G = test_interaction.networkx_graph\n",
    "    print(\"Number of nodes: \", G.number_of_nodes())\n",
    "    print(\"Number of edges: \", G.number_of_edges())\n",
    "\n",
    "    colors = [\"red\" if G.nodes[node][\"from\"] == \"P\" else \"lightblue\" for node in G.nodes]\n",
    "\n",
    "    plt.figure(figsize=(10,10))\n",
    "    pos = nx.spring_layout(G)\n",
    "    nx.draw(G, pos=pos, with_labels=True, font_weight='bold', labels=nx.get_node_attributes(G, 'atom_type'), node_color=colors,edge_color=rdkit_bonds_phi, width=3, edge_cmap=plt.cm.bwr)\n",
    "\n",
    "    plt.show()\n",
    "\n",
    "    SAVE_PATH = SAVE_FOLDER + \"/\" + test_interaction.interaction_name + \"/\"\n",
    "\n",
    "    if not os.path.exists(SAVE_PATH):\n",
    "        os.makedirs(SAVE_PATH)\n",
    "\n",
    "    plt.savefig(SAVE_PATH + test_interaction.interaction_name + \"_EdgeSHAPer.png\")\n",
    "\n",
    "    plt.close()\n",
    "\n",
    "    ### statistics on important edges\n",
    "    mean_phi = np.mean(rdkit_bonds_phi)\n",
    "    top_edges = [i for i in range(len(rdkit_bonds_phi)) if rdkit_bonds_phi[i] >= mean_phi]\n",
    "\n",
    "    num_edge_in_protein = 0\n",
    "    num_edge_in_ligand = 0\n",
    "    num_edge_in_between = 0\n",
    "\n",
    "    atoms_origin = nx.get_node_attributes(G, 'from')\n",
    "\n",
    "    for bond in bonds:\n",
    "        init_atom = bond[0]\n",
    "        end_atom = bond[1]\n",
    "\n",
    "        bond_index = rdkit_bonds[(init_atom, end_atom)]\n",
    "        if bond_index in top_edges:\n",
    "            if atoms_origin[init_atom] == \"P\" and atoms_origin[end_atom] == \"P\":\n",
    "                num_edge_in_protein += 1\n",
    "            elif atoms_origin[init_atom] == \"L\" and atoms_origin[end_atom] == \"L\":\n",
    "                num_edge_in_ligand += 1\n",
    "            else:\n",
    "                num_edge_in_between += 1\n",
    "\n",
    "    with open(SAVE_PATH + test_interaction.interaction_name + \"_statistics.txt\", \"w\") as f:\n",
    "        f.write(\"Number of relevant edges connecting protein atoms: \" + str(num_edge_in_protein) + \"\\n\")\n",
    "        f.write(\"Number of relevant edges connecting ligand atoms: \" + str(num_edge_in_ligand) + \"\\n\")\n",
    "        f.write(\"Number of relevant edges connecting protein and ligand atoms: \" + str(num_edge_in_between) + \"\\n\")\n",
    "\n",
    "    num_edge_in_protein_list.append(num_edge_in_protein)\n",
    "    num_edge_in_ligand_list.append(num_edge_in_ligand)\n",
    "    num_edge_in_between_list.append(num_edge_in_between)\n",
    "\n",
    "    print(\"Number of relevant edges connecting protein atoms: \", num_edge_in_protein)\n",
    "    print(\"Number of relevant edges connecting ligand atoms: \", num_edge_in_ligand)\n",
    "    print(\"Number of relevant edges connecting protein and ligand atoms: \", num_edge_in_between)\n",
    "\n"
   ]
  },
  {
   "cell_type": "code",
   "execution_count": 26,
   "metadata": {},
   "outputs": [
    {
     "name": "stdout",
     "output_type": "stream",
     "text": [
      "Avg number of edges in protein:  2.1\n",
      "Avg number of edges in ligand:  23.0\n",
      "Avg number of edges in between:  11.1\n"
     ]
    }
   ],
   "source": [
    "print(\"Avg number of edges in protein: \", round(np.mean(num_edge_in_protein_list), 3))\n",
    "print(\"Avg number of edges in ligand: \", round(np.mean(num_edge_in_ligand_list), 3))\n",
    "print(\"Avg number of edges in between: \", round(np.mean(num_edge_in_between_list), 3))"
   ]
  },
  {
   "cell_type": "code",
   "execution_count": 27,
   "metadata": {},
   "outputs": [],
   "source": [
    "with open(SAVE_FOLDER + \"/statistics.txt\", \"w\") as f:\n",
    "    f.write(\"Avg number of edges in protein: \" + str(round(np.mean(num_edge_in_protein_list), 3)) + \"\\n\")\n",
    "    f.write(\"Avg number of edges in ligand: \" + str(round(np.mean(num_edge_in_ligand_list), 3)) + \"\\n\")\n",
    "    f.write(\"Avg number of edges in between: \" + str(round(np.mean(num_edge_in_between_list), 3)) + \"\\n\")"
   ]
  }
 ],
 "metadata": {
  "kernelspec": {
   "display_name": "Python 3.8.12 ('edgeshaper')",
   "language": "python",
   "name": "python3"
  },
  "language_info": {
   "codemirror_mode": {
    "name": "ipython",
    "version": 3
   },
   "file_extension": ".py",
   "mimetype": "text/x-python",
   "name": "python",
   "nbconvert_exporter": "python",
   "pygments_lexer": "ipython3",
   "version": "3.8.12"
  },
  "orig_nbformat": 4,
  "vscode": {
   "interpreter": {
    "hash": "c9b5cff2b376585da850053301dfd0d187c5a2041a83b408b1c873b8b0d71687"
   }
  }
 },
 "nbformat": 4,
 "nbformat_minor": 2
}
