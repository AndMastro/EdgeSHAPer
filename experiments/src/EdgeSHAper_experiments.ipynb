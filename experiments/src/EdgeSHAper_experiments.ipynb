{
 "cells": [
  {
   "cell_type": "markdown",
   "id": "e3219a34",
   "metadata": {},
   "source": [
    "# EdgeSHAPer implementation"
   ]
  },
  {
   "cell_type": "markdown",
   "id": "c66fef7f",
   "metadata": {},
   "source": [
    "Explain the graph classification using Shapley values for edges.\n",
    "Determine the contribution of each edge towards the output value (predicted problability)."
   ]
  },
  {
   "cell_type": "code",
   "execution_count": 1,
   "id": "7c80bce6",
   "metadata": {},
   "outputs": [],
   "source": [
    "import torch\n",
    "from torchdrug import data\n",
    "import pandas as pd\n",
    "import numpy as np\n",
    "import random\n",
    "\n",
    "from rdkit import Chem\n",
    "from rdkit.Chem import Draw\n",
    "from pysmiles import read_smiles\n",
    "import networkx as nx\n",
    "\n",
    "from rdkit_heatmaps import mapvalues2mol\n",
    "from rdkit_heatmaps.utils import transform2png\n",
    "\n",
    "from tqdm.notebook import tqdm\n",
    "%matplotlib inline"
   ]
  },
  {
   "cell_type": "code",
   "execution_count": 2,
   "id": "954ffe82",
   "metadata": {},
   "outputs": [],
   "source": [
    "# for debugging\n",
    "import os\n",
    "os.environ['CUDA_LAUNCH_BLOCKING'] = '1'"
   ]
  },
  {
   "cell_type": "markdown",
   "id": "1fea17e8",
   "metadata": {},
   "source": [
    "## Reproducibility Settings"
   ]
  },
  {
   "cell_type": "code",
   "execution_count": 3,
   "id": "4ea338a5",
   "metadata": {},
   "outputs": [],
   "source": [
    "torch.manual_seed(42)\n",
    "random.seed(42)\n",
    "np.random.seed(42)"
   ]
  },
  {
   "cell_type": "markdown",
   "id": "0c8645f8",
   "metadata": {},
   "source": [
    "## Data Loading"
   ]
  },
  {
   "cell_type": "code",
   "execution_count": 4,
   "id": "6e0085e4",
   "metadata": {},
   "outputs": [
    {
     "data": {
      "text/html": [
       "<div>\n",
       "<style scoped>\n",
       "    .dataframe tbody tr th:only-of-type {\n",
       "        vertical-align: middle;\n",
       "    }\n",
       "\n",
       "    .dataframe tbody tr th {\n",
       "        vertical-align: top;\n",
       "    }\n",
       "\n",
       "    .dataframe thead th {\n",
       "        text-align: right;\n",
       "    }\n",
       "</style>\n",
       "<table border=\"1\" class=\"dataframe\">\n",
       "  <thead>\n",
       "    <tr style=\"text-align: right;\">\n",
       "      <th></th>\n",
       "      <th>nonstereo_aromatic_smiles</th>\n",
       "      <th>target_pair</th>\n",
       "      <th>label</th>\n",
       "    </tr>\n",
       "  </thead>\n",
       "  <tbody>\n",
       "    <tr>\n",
       "      <th>0</th>\n",
       "      <td>Brc1ccc(CNCCN2CCN(Cc3cc4ccccc4[nH]3)CC2)cc1</td>\n",
       "      <td>P14416_P42336</td>\n",
       "      <td>0</td>\n",
       "    </tr>\n",
       "    <tr>\n",
       "      <th>1</th>\n",
       "      <td>Brc1ccc(N2CCN(Cc3ccccc3)CC2)c2cc[nH]c12</td>\n",
       "      <td>P14416_P42336</td>\n",
       "      <td>0</td>\n",
       "    </tr>\n",
       "    <tr>\n",
       "      <th>2</th>\n",
       "      <td>Brc1ccc(NCCN2CCN(CCc3c[nH]c4ccccc34)CC2)cc1</td>\n",
       "      <td>P14416_P42336</td>\n",
       "      <td>0</td>\n",
       "    </tr>\n",
       "    <tr>\n",
       "      <th>3</th>\n",
       "      <td>Brc1ccc(NCCN2CCN(Cc3cc4ccccc4[nH]3)CC2)cc1</td>\n",
       "      <td>P14416_P42336</td>\n",
       "      <td>0</td>\n",
       "    </tr>\n",
       "    <tr>\n",
       "      <th>4</th>\n",
       "      <td>Brc1cccc(N2CCN(Cc3cc4ccccn4n3)CC2)n1</td>\n",
       "      <td>P14416_P42336</td>\n",
       "      <td>0</td>\n",
       "    </tr>\n",
       "  </tbody>\n",
       "</table>\n",
       "</div>"
      ],
      "text/plain": [
       "                     nonstereo_aromatic_smiles    target_pair  label\n",
       "0  Brc1ccc(CNCCN2CCN(Cc3cc4ccccc4[nH]3)CC2)cc1  P14416_P42336      0\n",
       "1      Brc1ccc(N2CCN(Cc3ccccc3)CC2)c2cc[nH]c12  P14416_P42336      0\n",
       "2  Brc1ccc(NCCN2CCN(CCc3c[nH]c4ccccc34)CC2)cc1  P14416_P42336      0\n",
       "3   Brc1ccc(NCCN2CCN(Cc3cc4ccccc4[nH]3)CC2)cc1  P14416_P42336      0\n",
       "4         Brc1cccc(N2CCN(Cc3cc4ccccn4n3)CC2)n1  P14416_P42336      0"
      ]
     },
     "metadata": {},
     "output_type": "display_data"
    },
    {
     "data": {
      "text/plain": [
       "(8348, 3)"
      ]
     },
     "metadata": {},
     "output_type": "display_data"
    }
   ],
   "source": [
    "####do not modify those to reproduce paper experiments#####\n",
    "DATASET_TYPE = \"single\" \n",
    "TARGET = 1\n",
    "TRAINING_SET_SPLIT = \"FULL\" #FULL, 0, 1, 2\n",
    "MODEL_NUM = 0 \n",
    "SAVE = True\n",
    "TARGET_CPDS = \"P14416_P42336\" \n",
    "DATASET_NAME = \"chembl29_predicting_target_\" + TARGET_CPDS + \"_target_\"+ str(TARGET) +\"_vs_random_cpds\"\n",
    "CSV_DATA_PATH = \"../data/\"+ DATASET_NAME + \".csv\"\n",
    "##################################################\n",
    "\n",
    "smiles_df = pd.read_csv(CSV_DATA_PATH, sep = \",\")\n",
    "display(smiles_df.head())\n",
    "display(smiles_df.shape)"
   ]
  },
  {
   "cell_type": "markdown",
   "id": "c9be1baf",
   "metadata": {},
   "source": [
    "## Define Custom Class\n",
    "We need to define the ChEMBL datasets class in order to load the model"
   ]
  },
  {
   "cell_type": "code",
   "execution_count": 5,
   "id": "0e8037c8",
   "metadata": {},
   "outputs": [],
   "source": [
    "import os\n",
    "\n",
    "from torchdrug.core import Registry as R\n",
    "from torchdrug.utils import doc\n",
    "\n",
    "\n",
    "@R.register(\"datasets.ChEMBL\") #only first time you launch the class\n",
    "#@doc.copy_args(data.MoleculeDataset.load_csv, ignore=(\"path\", \"smiles_field\", \"target_fields\"))\n",
    "class ChEMBL(data.MoleculeDataset):\n",
    "    \n",
    "\n",
    "    def __init__(self, path, smiles_field, target_fields, verbose=1, **kwargs):\n",
    "        \n",
    "        self.path = path\n",
    "        self.smiles_field = smiles_field\n",
    "        self.target_fields= target_fields\n",
    "       \n",
    "\n",
    "        self.load_csv(self.path, smiles_field=self.smiles_field, target_fields=self.target_fields,\n",
    "                      verbose=verbose, **kwargs)"
   ]
  },
  {
   "cell_type": "code",
   "execution_count": 6,
   "id": "0af8e021",
   "metadata": {},
   "outputs": [
    {
     "name": "stderr",
     "output_type": "stream",
     "text": [
      "Loading ../data/chembl29_predicting_target_P14416_P42336_target_1_vs_random_cpds.csv: 100%|██████████| 8349/8349 [00:00<00:00, 70329.90it/s]\n",
      "Constructing molecules from SMILES:  54%|█████▍    | 4489/8348 [00:14<00:11, 339.80it/s]c:\\Users\\Mastro\\anaconda3\\envs\\graphshap_cheminfo\\lib\\site-packages\\torchdrug\\data\\feature.py:37: UserWarning: Unknown value `Na`\n",
      "  warnings.warn(\"Unknown value `%s`\" % x)\n",
      "Constructing molecules from SMILES: 100%|██████████| 8348/8348 [00:26<00:00, 313.43it/s]\n"
     ]
    }
   ],
   "source": [
    "\n",
    "target_fields = [\"label\"]\n",
    "chembl_dataset = ChEMBL(path = CSV_DATA_PATH, smiles_field = \"nonstereo_aromatic_smiles\", target_fields = target_fields)"
   ]
  },
  {
   "cell_type": "markdown",
   "id": "c27f0d0d",
   "metadata": {},
   "source": [
    "## Obtain edge index to use with PyG"
   ]
  },
  {
   "cell_type": "markdown",
   "id": "c0ec30b4",
   "metadata": {},
   "source": [
    "Visualize molecules using NetworkX"
   ]
  },
  {
   "cell_type": "code",
   "execution_count": 7,
   "id": "29d61775",
   "metadata": {},
   "outputs": [
    {
     "data": {
      "application/vnd.jupyter.widget-view+json": {
       "model_id": "a54cc33b5b234d6ba1c29973b6bd4070",
       "version_major": 2,
       "version_minor": 0
      },
      "text/plain": [
       "  0%|          | 0/8348 [00:00<?, ?it/s]"
      ]
     },
     "metadata": {},
     "output_type": "display_data"
    }
   ],
   "source": [
    "smiles = chembl_dataset.smiles_list\n",
    "mols = []\n",
    "for i in tqdm(range(len(chembl_dataset.smiles_list))):\n",
    "    mols.append(read_smiles(chembl_dataset.smiles_list[i]))\n"
   ]
  },
  {
   "cell_type": "markdown",
   "id": "00191aa4",
   "metadata": {},
   "source": [
    "Define edge index "
   ]
  },
  {
   "cell_type": "code",
   "execution_count": 8,
   "id": "fbed2e05",
   "metadata": {},
   "outputs": [
    {
     "data": {
      "application/vnd.jupyter.widget-view+json": {
       "model_id": "1eb7c677494a47f48206bc08a38742c6",
       "version_major": 2,
       "version_minor": 0
      },
      "text/plain": [
       "  0%|          | 0/8348 [00:00<?, ?it/s]"
      ]
     },
     "metadata": {},
     "output_type": "display_data"
    },
    {
     "data": {
      "text/plain": [
       "8348"
      ]
     },
     "metadata": {},
     "output_type": "display_data"
    }
   ],
   "source": [
    "edge_index_list = []\n",
    "\n",
    "for mol in tqdm(mols):\n",
    "    adj = nx.to_scipy_sparse_matrix(mol).tocoo()\n",
    "    row = torch.from_numpy(adj.row.astype(np.int64)).to(torch.long)\n",
    "    col = torch.from_numpy(adj.col.astype(np.int64)).to(torch.long)\n",
    "    edge_index = torch.stack([row, col], dim=0)\n",
    "    edge_index_list.append(edge_index)\n",
    "\n",
    "display(len(mols))"
   ]
  },
  {
   "cell_type": "markdown",
   "id": "6b463d4d",
   "metadata": {},
   "source": [
    "Define torchdrug dataset in order to get node features"
   ]
  },
  {
   "cell_type": "code",
   "execution_count": 9,
   "id": "77373077",
   "metadata": {},
   "outputs": [
    {
     "data": {
      "application/vnd.jupyter.widget-view+json": {
       "model_id": "24377b6170584c9c80dc8319dd55d538",
       "version_major": 2,
       "version_minor": 0
      },
      "text/plain": [
       "  0%|          | 0/8348 [00:00<?, ?it/s]"
      ]
     },
     "metadata": {},
     "output_type": "display_data"
    },
    {
     "name": "stderr",
     "output_type": "stream",
     "text": [
      "c:\\Users\\Mastro\\anaconda3\\envs\\graphshap_cheminfo\\lib\\site-packages\\torchdrug\\data\\feature.py:37: UserWarning: Unknown value `Na`\n",
      "  warnings.warn(\"Unknown value `%s`\" % x)\n"
     ]
    }
   ],
   "source": [
    "mols_torchdrug_format = []\n",
    "for i in tqdm(range(len(chembl_dataset.smiles_list))):\n",
    "    mols_torchdrug_format.append(data.Molecule.from_smiles(chembl_dataset.smiles_list[i], with_hydrogen = False))\n"
   ]
  },
  {
   "cell_type": "markdown",
   "id": "e6065bab",
   "metadata": {},
   "source": [
    "## Create Custom Dataset"
   ]
  },
  {
   "cell_type": "code",
   "execution_count": 10,
   "id": "13b82094",
   "metadata": {},
   "outputs": [
    {
     "data": {
      "application/vnd.jupyter.widget-view+json": {
       "model_id": "00ded847d5224d8db0faf211d5da38f0",
       "version_major": 2,
       "version_minor": 0
      },
      "text/plain": [
       "  0%|          | 0/8348 [00:00<?, ?it/s]"
      ]
     },
     "metadata": {},
     "output_type": "display_data"
    }
   ],
   "source": [
    "import pandas as pd\n",
    "from torch_geometric.data import InMemoryDataset, Data\n",
    "\n",
    "from torch_geometric.loader import DataLoader\n",
    "import torch_geometric.transforms as T\n",
    "\n",
    "device = torch.device('cuda' if torch.cuda.is_available() else 'cpu')\n",
    "data_list = []\n",
    "y = torch.LongTensor(chembl_dataset.targets[\"label\"]).to(device)\n",
    "\n",
    "for i in tqdm(range(len(mols))):\n",
    "    data_list.append(Data(x = mols_torchdrug_format[i].node_feature, edge_index = edge_index_list[i], y = y[i], smiles = chembl_dataset.smiles_list[i]))\n"
   ]
  },
  {
   "cell_type": "code",
   "execution_count": 11,
   "id": "990e2fef",
   "metadata": {},
   "outputs": [],
   "source": [
    "class ChEMBLDatasetPyG(InMemoryDataset):\n",
    "    def __init__(self, root, transform=None, pre_transform=None, pre_filter=None, data_list = None):\n",
    "        super().__init__(root, transform, pre_transform, pre_filter)\n",
    "        \n",
    "        self.data_list = data_list\n",
    "\n",
    "        \n",
    "        data_list = self.data_list\n",
    "\n",
    "        if self.pre_filter is not None:\n",
    "            data_list = [data for data in data_list if self.pre_filter(data)]\n",
    "\n",
    "        if self.pre_transform is not None:\n",
    "            data_list = [self.pre_transform(data) for data in data_list]\n",
    "\n",
    "        self.data, self.slices = self.collate(data_list)\n",
    "        "
   ]
  },
  {
   "cell_type": "code",
   "execution_count": 12,
   "id": "af3e24c2",
   "metadata": {},
   "outputs": [],
   "source": [
    "dataset = ChEMBLDatasetPyG(\".\", data_list = data_list)"
   ]
  },
  {
   "cell_type": "markdown",
   "id": "a0326dbb",
   "metadata": {},
   "source": [
    "Split data in train/val/test (0.8/0.1/0.1)"
   ]
  },
  {
   "cell_type": "code",
   "execution_count": 13,
   "id": "18cecd37",
   "metadata": {},
   "outputs": [
    {
     "name": "stdout",
     "output_type": "stream",
     "text": [
      "[6678, 834, 836]\n"
     ]
    },
    {
     "data": {
      "text/plain": [
       "(6678, 834, 835)"
      ]
     },
     "execution_count": 13,
     "metadata": {},
     "output_type": "execute_result"
    }
   ],
   "source": [
    "lengths = [int(0.8 * len(chembl_dataset)), int(0.1 * len(chembl_dataset))]\n",
    "lengths += [len(chembl_dataset) - sum(lengths)]\n",
    "\n",
    "print(lengths)\n",
    "dataset = dataset.shuffle()\n",
    "train_data = dataset[:lengths[0]]\n",
    "val_data = dataset[lengths[0]+1:lengths[0] + lengths[1]+1]\n",
    "test_data = dataset[lengths[0] + lengths[1] + 1: ]  \n",
    "len(train_data), len(val_data), len(test_data)"
   ]
  },
  {
   "cell_type": "code",
   "execution_count": 14,
   "id": "f76c5154",
   "metadata": {},
   "outputs": [],
   "source": [
    "batch_size= 32\n",
    "train_loader = DataLoader(train_data, batch_size=batch_size)\n",
    "val_loader = DataLoader(val_data, batch_size=batch_size)\n",
    "test_loader = DataLoader(test_data, batch_size=batch_size)"
   ]
  },
  {
   "cell_type": "markdown",
   "id": "fc3d1be1",
   "metadata": {},
   "source": [
    "## GCN Definition"
   ]
  },
  {
   "cell_type": "code",
   "execution_count": 15,
   "id": "bf911efe",
   "metadata": {},
   "outputs": [
    {
     "name": "stdout",
     "output_type": "stream",
     "text": [
      "GCN(\n",
      "  (conv1): GCNConv(69, 256)\n",
      "  (conv2): GCNConv(256, 256)\n",
      "  (conv3): GCNConv(256, 256)\n",
      "  (conv4): GCNConv(256, 256)\n",
      "  (lin): Linear(in_features=256, out_features=2, bias=True)\n",
      ")\n"
     ]
    }
   ],
   "source": [
    "from torch_geometric.nn import GCNConv, Linear\n",
    "from torch.nn import Linear\n",
    "import torch.nn.functional as F\n",
    "from torch_geometric.nn import global_mean_pool\n",
    "\n",
    "\n",
    "class GCN(torch.nn.Module):\n",
    "    def __init__(self, hidden_channels):\n",
    "        super(GCN, self).__init__()\n",
    "        torch.manual_seed(12345)\n",
    "        self.conv1 = GCNConv(chembl_dataset.node_feature_dim, hidden_channels)\n",
    "        self.conv2 = GCNConv(hidden_channels, hidden_channels)\n",
    "        self.conv3 = GCNConv(hidden_channels, hidden_channels)\n",
    "        self.conv4 = GCNConv(hidden_channels, hidden_channels)\n",
    "        self.lin = Linear(hidden_channels, dataset.num_classes)\n",
    "\n",
    "    def forward(self, x, edge_index, batch):\n",
    "        # 1. Obtain node embeddings \n",
    "        x = self.conv1(x, edge_index)\n",
    "        x = x.relu()\n",
    "        x = self.conv2(x, edge_index)\n",
    "        x = x.relu()\n",
    "        x = self.conv3(x, edge_index)\n",
    "        x = x.relu()\n",
    "        x = self.conv4(x, edge_index)\n",
    "        # 2. Readout layer\n",
    "        x = global_mean_pool(x, batch)  # [batch_size, hidden_channels]\n",
    "\n",
    "        # 3. Apply a final classifier\n",
    "        x = F.dropout(x, p=0.5, training=self.training)\n",
    "        x = self.lin(x)\n",
    "        \n",
    "        return x\n",
    "\n",
    "model = GCN(hidden_channels=256).to(device)\n",
    "print(model)"
   ]
  },
  {
   "cell_type": "markdown",
   "id": "e7827355",
   "metadata": {},
   "source": [
    "## Load the Model"
   ]
  },
  {
   "cell_type": "code",
   "execution_count": 16,
   "id": "be2f3a27",
   "metadata": {},
   "outputs": [
    {
     "data": {
      "text/plain": [
       "GCN(\n",
       "  (conv1): GCNConv(69, 256)\n",
       "  (conv2): GCNConv(256, 256)\n",
       "  (conv3): GCNConv(256, 256)\n",
       "  (conv4): GCNConv(256, 256)\n",
       "  (lin): Linear(in_features=256, out_features=2, bias=True)\n",
       ")"
      ]
     },
     "execution_count": 16,
     "metadata": {},
     "output_type": "execute_result"
    }
   ],
   "source": [
    "import os.path as osp\n",
    "\n",
    "if TRAINING_SET_SPLIT == None:\n",
    "    MODEL_PATH = \"../models/PyG/\" + DATASET_NAME + \"_model_\" + str(MODEL_NUM) + \".ckpt\"\n",
    "else:\n",
    "    MODEL_PATH = \"../models/PyG/\" + DATASET_NAME + \"_training_set_\" + str(TRAINING_SET_SPLIT) + \"_model_\" + str(MODEL_NUM) + \".ckpt\"\n",
    "ckpt_path = osp.join(MODEL_PATH)\n",
    "model.load_state_dict(torch.load(ckpt_path))\n",
    "model.to(device)"
   ]
  },
  {
   "cell_type": "markdown",
   "id": "0867b0a6",
   "metadata": {},
   "source": [
    "## Test the Model"
   ]
  },
  {
   "cell_type": "code",
   "execution_count": 17,
   "id": "19157570",
   "metadata": {},
   "outputs": [
    {
     "name": "stdout",
     "output_type": "stream",
     "text": [
      "Test Acc: 0.9749\n"
     ]
    }
   ],
   "source": [
    "def test(loader):\n",
    "     model.eval()\n",
    "\n",
    "     correct = 0\n",
    "     for data in loader:  \n",
    "         data = data.to(device)\n",
    "         \n",
    "         out = model(data.x, data.edge_index, data.batch)  \n",
    "         pred = out.argmax(dim=1)  \n",
    "         correct += int((pred == data.y).sum()) \n",
    "     return correct / len(loader.dataset)\n",
    "\n",
    "test_acc = test(test_loader)    \n",
    "print(f'Test Acc: {test_acc:.4f}')"
   ]
  },
  {
   "cell_type": "markdown",
   "id": "4b18753b",
   "metadata": {},
   "source": [
    "## EdgeSHAPer\n",
    "\n",
    "* Players = edges\n",
    "* Value = predicted probability $v$\n",
    "* $E$ = set of all edges\n",
    "* $v(E)$ = value of all the edges == original predicted prob\n",
    "* $\\phi_j(v)$ = payout for the contribution of edge j\n",
    "* $S$ = all the possible subsets of edges excluding j\n",
    "* |S| = size of S\n",
    "* $v(S)$ is the value achieved by subset S\n",
    "* $v(S∪{j})$ is the realized value after j joins S\n",
    "\n",
    "Shapley values compouted as:\n",
    "\n",
    "$\\phi_j(v) = \\frac{1}{|E|} \\sum_S \\frac{v(S \\cup {j}) - v(S)}{\\binom{|E|-1}{|S|}}$"
   ]
  },
  {
   "cell_type": "code",
   "execution_count": 18,
   "id": "c47e615f",
   "metadata": {},
   "outputs": [
    {
     "name": "stdout",
     "output_type": "stream",
     "text": [
      "Cc1ncsc1-c1nnc(SCCCN2CCC3(CC3c3ccc(C(F)(F)F)cc3)C2)n1C\n",
      "tensor([[ 11.9760, -11.6393]], device='cuda:0', grad_fn=<AddmmBackward0>)\n",
      "tensor([[1.0000e+00, 5.5466e-11]], device='cuda:0', grad_fn=<SoftmaxBackward0>)\n"
     ]
    },
    {
     "name": "stderr",
     "output_type": "stream",
     "text": [
      "c:\\Users\\Mastro\\anaconda3\\envs\\graphshap_cheminfo\\lib\\site-packages\\torchdrug\\data\\molecule.py:468: UserWarning: Matplotlib is currently using module://matplotlib_inline.backend_inline, which is a non-GUI backend, so cannot show the figure.\n",
      "  fig.show()\n"
     ]
    },
    {
     "data": {
      "text/plain": [
       "0"
      ]
     },
     "execution_count": 18,
     "metadata": {},
     "output_type": "execute_result"
    },
    {
     "data": {
      "image/png": "[encoded data removed]",
      "text/plain": [
       "<Figure size 216x216 with 1 Axes>"
      ]
     },
     "metadata": {
      "needs_background": "light"
     },
     "output_type": "display_data"
    }
   ],
   "source": [
    "test_set_index = 112 \n",
    "test_cpd = test_data[test_set_index].to(device)\n",
    "print(test_cpd.smiles)\n",
    "mol_test = data.Molecule.from_smiles(test_cpd.smiles, with_hydrogen=False)\n",
    "mol_test.visualize()\n",
    "\n",
    "model.eval()\n",
    "# all nodes belong to same graph\n",
    "batch = torch.zeros(test_cpd.x.shape[0], dtype=int, device=test_cpd.x.device)\n",
    "out = model(test_cpd.x, test_cpd.edge_index, batch=batch)\n",
    "out_prob = F.softmax(out, dim = 1)\n",
    "target_class = torch.argmax(out_prob[0]).item()\n",
    "print(out)\n",
    "print(out_prob)\n",
    "target_class"
   ]
  },
  {
   "cell_type": "markdown",
   "id": "5241c3e5",
   "metadata": {},
   "source": [
    "Creating folder and saving smiles"
   ]
  },
  {
   "cell_type": "code",
   "execution_count": 19,
   "id": "138d1e95",
   "metadata": {},
   "outputs": [],
   "source": [
    "if SAVE:\n",
    "    \n",
    "    if DATASET_TYPE == \"dual\":\n",
    "        FOLDER_NAME = \"../results/explanations/\" + DATASET_TYPE + \"/\" + TARGET_CPDS\n",
    "    else:\n",
    "        FOLDER_NAME = \"../results/explanations/\" + DATASET_TYPE + \"/\" + TARGET_CPDS +\"/Target \" + str(TARGET) + \" vs Random\"\n",
    "\n",
    "    CPD_FOLDER_NAME = FOLDER_NAME + \"/\" + test_cpd.smiles\n",
    "\n",
    "    if not os.path.exists(FOLDER_NAME):\n",
    "        os.makedirs(FOLDER_NAME)\n",
    "\n",
    "    if not os.path.exists(CPD_FOLDER_NAME):\n",
    "        os.makedirs(CPD_FOLDER_NAME)\n",
    "\n",
    "\n",
    "    mol_test.visualize(save_file = CPD_FOLDER_NAME + \"/\" + test_cpd.smiles + \".png\")\n"
   ]
  },
  {
   "cell_type": "code",
   "execution_count": 20,
   "id": "5e0ebde8",
   "metadata": {},
   "outputs": [],
   "source": [
    "E = test_cpd.edge_index\n",
    "num_nodes = test_cpd.x.shape[0]\n",
    "max_num_edges = num_nodes*(num_nodes-1)\n",
    "num_edges = E.shape[1]\n",
    "graph_density = num_edges/max_num_edges\n",
    "P = graph_density "
   ]
  },
  {
   "cell_type": "code",
   "execution_count": 21,
   "id": "0e2f3b90",
   "metadata": {},
   "outputs": [
    {
     "data": {
      "application/vnd.jupyter.widget-view+json": {
       "model_id": "e609d068120141068e63924f70507e3e",
       "version_major": 2,
       "version_minor": 0
      },
      "text/plain": [
       "  0%|          | 0/74 [00:00<?, ?it/s]"
      ]
     },
     "metadata": {},
     "output_type": "display_data"
    },
    {
     "data": {
      "text/plain": [
       "0.961501940912657"
      ]
     },
     "execution_count": 21,
     "metadata": {},
     "output_type": "execute_result"
    }
   ],
   "source": [
    "M = 100 #200\n",
    "phi_edges = []\n",
    "\n",
    "from numpy.random import default_rng\n",
    "rng = default_rng(seed = 42) \n",
    "model.eval()\n",
    "\n",
    "log_odds = False\n",
    "for j in tqdm(range(num_edges)):\n",
    "    marginal_contrib = 0\n",
    "    for i in range(M):\n",
    "        E_z_mask = rng.binomial(1, P, num_edges)\n",
    "        \n",
    "        E_mask = torch.ones(num_edges)\n",
    "        pi = torch.randperm(num_edges)\n",
    "\n",
    "        E_j_plus_index = torch.ones(num_edges, dtype=torch.int)\n",
    "        E_j_minus_index = torch.ones(num_edges, dtype=torch.int)\n",
    "        selected_edge_index = np.where(pi == j)[0].item()\n",
    "        for k in range(num_edges):\n",
    "            if k <= selected_edge_index:\n",
    "                E_j_plus_index[pi[k]] = E_mask[pi[k]]\n",
    "            else:\n",
    "                E_j_plus_index[pi[k]] = E_z_mask[pi[k]]\n",
    "\n",
    "        for k in range(num_edges):\n",
    "            if k < selected_edge_index:\n",
    "                E_j_minus_index[pi[k]] = E_mask[pi[k]]\n",
    "            else:\n",
    "                E_j_minus_index[pi[k]] = E_z_mask[pi[k]]\n",
    "\n",
    "\n",
    "        #we compute marginal contribs\n",
    "        \n",
    "        # with edge j\n",
    "        retained_indices_plus = torch.LongTensor(torch.nonzero(E_j_plus_index).tolist()).to(device).squeeze()\n",
    "        E_j_plus = torch.index_select(E, dim = 1, index = retained_indices_plus)\n",
    "\n",
    "        batch = torch.zeros(test_cpd.x.shape[0], dtype=int, device=test_cpd.x.device)\n",
    "        \n",
    "        out = model(test_cpd.x, E_j_plus, batch=batch)\n",
    "        out_prob = None\n",
    "\n",
    "        if not log_odds:\n",
    "            out_prob = F.softmax(out, dim = 1)\n",
    "        else:\n",
    "            out_prob = out #out prob variable now containts log_odds\n",
    "        \n",
    "        V_j_plus = out_prob[0][target_class].item() \n",
    "\n",
    "        # without edge j\n",
    "        retained_indices_minus = torch.LongTensor(torch.nonzero(E_j_minus_index).tolist()).to(device).squeeze()\n",
    "        E_j_minus = torch.index_select(E, dim = 1, index = retained_indices_minus)\n",
    "\n",
    "        batch = torch.zeros(test_cpd.x.shape[0], dtype=int, device=test_cpd.x.device)\n",
    "        out = model(test_cpd.x, E_j_minus, batch=batch)\n",
    "\n",
    "        if not log_odds:\n",
    "            out_prob = F.softmax(out, dim = 1)\n",
    "        else:\n",
    "            out_prob = out\n",
    "        \n",
    "        V_j_minus = out_prob[0][target_class].item()\n",
    "\n",
    "        marginal_contrib += (V_j_plus - V_j_minus)\n",
    "\n",
    "    phi_edges.append(marginal_contrib/M)     \n",
    "         \n",
    "sum(phi_edges)"
   ]
  },
  {
   "cell_type": "code",
   "execution_count": 22,
   "metadata": {},
   "outputs": [
    {
     "name": "stdout",
     "output_type": "stream",
     "text": [
      "tensor([[1.0000e+00, 1.9552e-09]], device='cuda:0', grad_fn=<SoftmaxBackward0>)\n",
      "[-0.0075400088027408494, -0.0017900088253284881, 0.006461023773282413, -0.007153492901131661, -0.013087019836351204, -0.012854417977038535, -0.0014355109933522807, 0.004954861921576347, -0.006814156562730792, -0.004757986013182986, 0.005263711343610849, 0.022440523715042047, -0.0012870116971547385, 0.002902873210056803, -0.014176111288999628, 0.001151896937741136, 0.014691407736094494, -0.007589341189427548, 0.00937743826104116, 0.044471516052473306, -0.014085737376393386, 0.07763169240485815, 0.0037726176388732224, -0.0022155393257332523, -0.09915574915982867, 0.0449652523727195, -0.02926422454762649, 0.04773006825487238, 0.022756905751439294, 0.04303051326201387, 0.0677334572712107, 0.043419990816528815, 0.1432594817623924, 0.05910764473285111, 0.0614634674390269, 0.004484606943170828, 0.03301020683700199, -0.007885204615777257, 0.05901925411527269, 0.009533202267754271, -0.0034952483410491896, 0.010162144243817792, 0.016451144982024896, 0.011963226508470122, 0.011327040533576395, 0.04844762505200181, 8.127213319349403e-05, 0.011901370281144179, -0.008052824629502981, 0.010171178601935713, -0.005714121737384433, -0.0014681664160855333, 0.0019166982115621273, 0.0031575855451227565, -0.004407521391838423, -0.010569719646831748, -0.0020719491040332018, 0.04142296389432188, -0.020578177848417346, 0.0038647052529670813, -0.013902491127218156, 0.02572160215444421, 0.014380303596995459, 0.026729932428722836, 0.006030172411773601, 0.002785787611150431, -0.008132668463788796, 0.004640471424263773, 0.09738422806925674, 0.05025503523896399, -0.00394335420628383, -0.0002376391685524222, 0.0284444889094872, 0.015294752200339294]\n"
     ]
    }
   ],
   "source": [
    "print(out_prob)\n",
    "print(phi_edges)"
   ]
  },
  {
   "cell_type": "code",
   "execution_count": 23,
   "id": "4cbfd95d",
   "metadata": {},
   "outputs": [],
   "source": [
    "if SAVE:\n",
    "    INFO_EXPLANATIONS = \"info_explanations\"\n",
    "    if TRAINING_SET_SPLIT != None:\n",
    "        INFO_EXPLANATIONS += \"_training_split_\" + str(TRAINING_SET_SPLIT)\n",
    "        \n",
    "    with open(CPD_FOLDER_NAME + \"/\" + INFO_EXPLANATIONS + \".txt\", \"w+\") as saveFile:\n",
    "        saveFile.write(\"Test set index: \" + str(test_set_index) + \"\\n\\n\")\n",
    "\n",
    "    with open(CPD_FOLDER_NAME + \"/\" + INFO_EXPLANATIONS + \".txt\", \"a\") as saveFile:\n",
    "        saveFile.write(\"Target Class: \" + str(target_class) + \"\\n\\n\")\n",
    "\n",
    "    tagert_compound_sample = \"TARGET\" if target_class == 0 else \"RANDOM\"\n",
    "\n",
    "    with open(CPD_FOLDER_NAME + \"/\" + INFO_EXPLANATIONS + \".txt\", \"a\") as saveFile:\n",
    "        saveFile.write(\"Target compound: \" + str(tagert_compound_sample) + \"\\n\\n\")\n",
    "\n",
    "    with open(CPD_FOLDER_NAME + \"/\" + INFO_EXPLANATIONS + \".txt\", \"a\") as saveFile:\n",
    "        saveFile.write(\"Sum of Shapley Values: \" + str(sum(phi_edges)) + \"\\n\\n\")\n",
    "\n",
    "    with open(CPD_FOLDER_NAME + \"/\" + INFO_EXPLANATIONS + \".txt\", \"a\") as saveFile:\n",
    "        saveFile.write(\"Shapley values:\\n\")\n",
    "        for phi_val in phi_edges:\n",
    "            saveFile.write(str(phi_val) + \"\\n\")\n",
    "    with open(CPD_FOLDER_NAME + \"/\" + INFO_EXPLANATIONS + \".txt\", \"a\") as saveFile:\n",
    "        saveFile.write(\"\\nEdge Index:\\n\")\n",
    "        saveFile.write(str(test_cpd.edge_index) + \"\\n\\n\")\n",
    "        saveFile.write(\"Edge index shape: \" + str(test_cpd.edge_index.shape) +\"\\n\")"
   ]
  },
  {
   "cell_type": "markdown",
   "id": "9443d121",
   "metadata": {},
   "source": [
    "## Visualize Explanation"
   ]
  },
  {
   "cell_type": "code",
   "execution_count": 24,
   "id": "f93e5fa1",
   "metadata": {},
   "outputs": [
    {
     "name": "stdout",
     "output_type": "stream",
     "text": [
      "[32 68 21 30 34 33 38 69 45 27 25 19 31 29 57 36 72 63 61 28 11 42 73 16\n",
      " 62 43 47 44 49 41 39 18  2 64 10  7 67 35 59 22 53 13 65 52 15 46 71 12\n",
      "  6 51  1 56 23 40 70 54  9 50  8  3  0 17 37 48 66 55  5  4 60 20 14 58\n",
      " 26 24]\n"
     ]
    }
   ],
   "source": [
    "from matplotlib.pyplot import figure\n",
    "import matplotlib.pyplot as plt\n",
    "\n",
    "important_edges_ranking = np.argsort(-np.array(phi_edges))\n",
    "print(important_edges_ranking)\n",
    "sorted_phi_edges = sorted(phi_edges, reverse = True)"
   ]
  },
  {
   "cell_type": "markdown",
   "id": "e870cb26",
   "metadata": {},
   "source": [
    "## Visualize Explanation - Moleculized"
   ]
  },
  {
   "cell_type": "code",
   "execution_count": 25,
   "id": "b5d3a1fa",
   "metadata": {},
   "outputs": [
    {
     "data": {
      "image/png": "[encoded data removed]",
      "text/plain": [
       "<PIL.PngImagePlugin.PngImageFile image mode=RGB size=800x450 at 0x215DB743A30>"
      ]
     },
     "execution_count": 25,
     "metadata": {},
     "output_type": "execute_result"
    },
    {
     "data": {
      "text/plain": [
       "<Figure size 432x288 with 0 Axes>"
      ]
     },
     "metadata": {},
     "output_type": "display_data"
    }
   ],
   "source": [
    "edge_index = test_cpd.edge_index\n",
    "test_mol = Chem.MolFromSmiles(test_cpd.smiles)\n",
    "test_mol = Draw.PrepareMolForDrawing(test_mol)\n",
    "\n",
    "num_bonds = len(test_mol.GetBonds())\n",
    "num_atoms = len(test_mol.GetAtoms())\n",
    "\n",
    "rdkit_bonds = {}\n",
    "\n",
    "for i in range(num_bonds):\n",
    "    init_atom = test_mol.GetBondWithIdx(i).GetBeginAtomIdx()\n",
    "    end_atom = test_mol.GetBondWithIdx(i).GetEndAtomIdx()\n",
    "    bond_type = test_mol.GetBondWithIdx(i).GetBondType()\n",
    "    \n",
    "    rdkit_bonds[(init_atom, end_atom)] = i\n",
    "\n",
    "rdkit_bonds_phi = [0]*num_bonds\n",
    "for i in range(len(phi_edges)):\n",
    "    phi_value = phi_edges[i]\n",
    "    init_atom = edge_index[0][i].item()\n",
    "    end_atom = edge_index[1][i].item()\n",
    "    \n",
    "    if (init_atom, end_atom) in rdkit_bonds:\n",
    "        bond_index = rdkit_bonds[(init_atom, end_atom)]\n",
    "        rdkit_bonds_phi[bond_index] += phi_value\n",
    "    if (end_atom, init_atom) in rdkit_bonds:\n",
    "        bond_index = rdkit_bonds[(end_atom, init_atom)]\n",
    "        rdkit_bonds_phi[bond_index] += phi_value\n",
    "\n",
    "plt.clf()\n",
    "canvas = mapvalues2mol(test_mol, None, rdkit_bonds_phi, atom_width=0.2, bond_length=0.5, bond_width=0.5)\n",
    "img = transform2png(canvas.GetDrawingText())\n",
    "\n",
    "if SAVE:\n",
    "    if TRAINING_SET_SPLIT == None:\n",
    "        img.save(CPD_FOLDER_NAME + \"/\" + test_cpd.smiles + \"_EdgeSHAPer_MC_\" + str(M) + \"_heatmap.png\")\n",
    "    else:\n",
    "        img.save(CPD_FOLDER_NAME + \"/\" + test_cpd.smiles + \"_EdgeSHAPer_MC_\" + str(M) + \"training_split_\" + str(TRAINING_SET_SPLIT) + \"_heatmap.png\") \n",
    "img"
   ]
  },
  {
   "cell_type": "markdown",
   "id": "5e1deec3",
   "metadata": {},
   "source": [
    "## GNNExplainer\n",
    "Explain the classification of a test cpd using GNNExplainer"
   ]
  },
  {
   "cell_type": "code",
   "execution_count": 26,
   "id": "5f3dbf31",
   "metadata": {},
   "outputs": [
    {
     "name": "stderr",
     "output_type": "stream",
     "text": [
      "Explain graph: 100%|██████████| 100/100 [00:02<00:00, 41.03it/s]\n"
     ]
    }
   ],
   "source": [
    "import os.path as osp\n",
    "\n",
    "import torch\n",
    "import torch.nn.functional as F\n",
    "\n",
    "\n",
    "from torch_geometric.nn import GNNExplainer\n",
    "\n",
    "epochs = 100\n",
    "\n",
    "x, edge_index, edge_weight = test_cpd.x, test_cpd.edge_index, None\n",
    "\n",
    "explainer = GNNExplainer(model, epochs=epochs, return_type='log_prob')\n",
    "\n",
    "node_feat_mask, edge_mask = explainer.explain_graph(x, edge_index)"
   ]
  },
  {
   "cell_type": "markdown",
   "id": "baae2d20",
   "metadata": {},
   "source": [
    "GNNExplainer Visualization - Moleculized"
   ]
  },
  {
   "cell_type": "code",
   "execution_count": 27,
   "id": "97f7edc2",
   "metadata": {},
   "outputs": [
    {
     "data": {
      "image/png": "[encoded data removed]",
      "text/plain": [
       "<PIL.PngImagePlugin.PngImageFile image mode=RGB size=800x450 at 0x215DB72DDF0>"
      ]
     },
     "execution_count": 27,
     "metadata": {},
     "output_type": "execute_result"
    },
    {
     "data": {
      "text/plain": [
       "<Figure size 432x288 with 0 Axes>"
      ]
     },
     "metadata": {},
     "output_type": "display_data"
    }
   ],
   "source": [
    "rdkit_bonds_GNNExpl_importance = [0]*num_bonds\n",
    "for i in range(len(edge_mask)):\n",
    "    GNNExpl_importance_value = edge_mask[i]\n",
    "    init_atom = edge_index[0][i].item()\n",
    "    end_atom = edge_index[1][i].item()\n",
    "    \n",
    "    if (init_atom, end_atom) in rdkit_bonds:\n",
    "        bond_index = rdkit_bonds[(init_atom, end_atom)]\n",
    "        rdkit_bonds_GNNExpl_importance[bond_index] += GNNExpl_importance_value.item()\n",
    "    if (end_atom, init_atom) in rdkit_bonds:\n",
    "        bond_index = rdkit_bonds[(end_atom, init_atom)]\n",
    "        rdkit_bonds_GNNExpl_importance[bond_index] += GNNExpl_importance_value.item()\n",
    "\n",
    "plt.clf()\n",
    "canvas = mapvalues2mol(test_mol, None, rdkit_bonds_GNNExpl_importance, atom_width=0.2, bond_length=0.5, bond_width=0.5) \n",
    "img = transform2png(canvas.GetDrawingText())\n",
    "\n",
    "if SAVE:\n",
    "    if TRAINING_SET_SPLIT == None:\n",
    "        img.save(CPD_FOLDER_NAME + \"/\" + test_cpd.smiles + \"_GEx_\" + \"heatmap.png\")\n",
    "    else:\n",
    "        img.save(CPD_FOLDER_NAME + \"/\" + test_cpd.smiles + \"_GEx_\" + \"training_split_\" + str(TRAINING_SET_SPLIT) + \"_heatmap.png\") \n",
    "img"
   ]
  }
 ],
 "metadata": {
  "interpreter": {
   "hash": "4289a599b4ef3137cd215f47f3ee69e119d643f4f393581ff5262fcd9da041c7"
  },
  "kernelspec": {
   "display_name": "Python 3.8.12 ('graphshap_cheminfo')",
   "language": "python",
   "name": "python3"
  },
  "language_info": {
   "codemirror_mode": {
    "name": "ipython",
    "version": 3
   },
   "file_extension": ".py",
   "mimetype": "text/x-python",
   "name": "python",
   "nbconvert_exporter": "python",
   "pygments_lexer": "ipython3",
   "version": "3.8.12"
  }
 },
 "nbformat": 4,
 "nbformat_minor": 5
}
