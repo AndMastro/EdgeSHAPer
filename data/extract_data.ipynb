{
 "cells": [
  {
   "cell_type": "markdown",
   "id": "bd14357b",
   "metadata": {},
   "source": [
    "# Extracting Data From CHEMBL29\n",
    "## Defining Imports"
   ]
  },
  {
   "cell_type": "code",
   "execution_count": 1,
   "id": "e7f809fd",
   "metadata": {},
   "outputs": [],
   "source": [
    "from itertools import combinations\n",
    "import numpy as np\n",
    "from numpy import random\n",
    "import pandas as pd\n",
    "from tqdm.auto import tqdm\n",
    "from typing import *"
   ]
  },
  {
   "cell_type": "markdown",
   "id": "9e906336",
   "metadata": {},
   "source": [
    "## Loading Preprocessed ChEMBL29 Medium Confidence Data\n",
    "Medium confidence data, in contrast to high confidence data, contains data from proteins with mutations and is not restricted to single protein assays."
   ]
  },
  {
   "cell_type": "code",
   "execution_count": 2,
   "id": "1fab2f70",
   "metadata": {},
   "outputs": [],
   "source": [
    "chembl_mconf_df = pd.read_csv(\"medium_conf_chembl29/final_data.tsv.gz\", sep=\"\\t\")\n",
    "chembl_human_df =  chembl_mconf_df.query(\"organism == 'Homo sapiens'\")\n",
    "chembl_active_df = chembl_human_df.query(\"pPot_mean > 5\")"
   ]
  },
  {
   "cell_type": "code",
   "execution_count": 3,
   "id": "5f3edfd8",
   "metadata": {},
   "outputs": [
    {
     "name": "stdout",
     "output_type": "stream",
     "text": [
      "Number of interactions: 356854\n",
      "Number of targets: 2000\n",
      "Number of cpds: 234320\n"
     ]
    }
   ],
   "source": [
    "print(\"Number of interactions: {}\".format(chembl_active_df.shape[0]))\n",
    "print(\"Number of targets: {}\".format(chembl_active_df.accession.nunique()))\n",
    "print(\"Number of cpds: {}\".format(chembl_active_df.nonstereo_aromatic_smiles.nunique()))"
   ]
  },
  {
   "cell_type": "markdown",
   "id": "d1ab94fa",
   "metadata": {},
   "source": [
    "Recording for each target (specified by UniProt-ID) active compounds as set."
   ]
  },
  {
   "cell_type": "code",
   "execution_count": 4,
   "id": "0db528bc",
   "metadata": {},
   "outputs": [],
   "source": [
    "chembl_target_cpds = chembl_active_df.groupby(\"accession\").nonstereo_aromatic_smiles.agg(set)"
   ]
  },
  {
   "cell_type": "markdown",
   "id": "6b6395a9",
   "metadata": {},
   "source": [
    "## Protein Information\n",
    "Protein information were extracted from [UniProt](https://www.uniprot.org/) with this [tool](https://github.com/c-feldmann/UniProtClient)."
   ]
  },
  {
   "cell_type": "code",
   "execution_count": 5,
   "id": "739c847b",
   "metadata": {},
   "outputs": [],
   "source": [
    "protein_information_df = pd.read_csv(\"medium_conf_chembl29/uniprot_info.tsv\", sep=\"\\t\", index_col=\"entry\")"
   ]
  },
  {
   "cell_type": "markdown",
   "id": "eb0fabc6",
   "metadata": {},
   "source": [
    "### Protein Functions\n",
    "Protein functions from [QuickGO](https://www.ebi.ac.uk/QuickGO/) were accessed with this [tool](https://github.com/c-feldmann/QuickGOProteinAnnotation). It is used to determine (functionally) unrelated proteins.  \n",
    "Obtained functions of each protein are arranged as set."
   ]
  },
  {
   "cell_type": "code",
   "execution_count": 6,
   "id": "0a2036a6",
   "metadata": {},
   "outputs": [],
   "source": [
    "protein_function_df = pd.read_csv(\"medium_conf_chembl29/protein_functions.tsv\", sep=\"\\t\")\n",
    "protein_functions = protein_function_df.groupby(\"uniprot_id\").protein_function.agg(set)"
   ]
  },
  {
   "cell_type": "code",
   "execution_count": 7,
   "id": "1513a0f7",
   "metadata": {},
   "outputs": [],
   "source": [
    "class FunctionHandler:\n",
    "    def __init__(self, function_dict: Dict[str, Set[str]]):\n",
    "        self.function_dict = function_dict\n",
    "    \n",
    "    def are_related(self, uniprot_id1, uniprot_id2):\n",
    "            functions_t1 = self.function_dict[uniprot_id1]\n",
    "            functions_t2 = self.function_dict[uniprot_id2]\n",
    "\n",
    "            if \"no_function\" in functions_t1 or \"no_function\" in functions_t2:\n",
    "                return \"undetermined\"\n",
    "            else:\n",
    "                if functions_t1 & functions_t2:\n",
    "                    return \"yes\"\n",
    "                else:\n",
    "                    return \"no\"\n",
    "    @property\n",
    "    def proteins(self) -> Set[str]:\n",
    "        return set(self.function_dict.keys())\n",
    "\n",
    "    def get_related_proteins(self, uniprot_id1, undertermined_equals_related=False) -> Set[str]:\n",
    "        related_set = set()\n",
    "        for protein in sorted(self.proteins):\n",
    "            is_related = self.are_related(uniprot_id1, protein)\n",
    "            if is_related == \"yes\":\n",
    "                related_set.add(protein)\n",
    "            elif is_related == \"undetermined\" and undertermined_equals_related:\n",
    "                related_set.add(protein)\n",
    "        return related_set"
   ]
  },
  {
   "cell_type": "code",
   "execution_count": 8,
   "id": "dbf71e6e",
   "metadata": {},
   "outputs": [],
   "source": [
    "protein_function_handler = FunctionHandler(protein_functions)"
   ]
  },
  {
   "cell_type": "markdown",
   "id": "8c94f146",
   "metadata": {},
   "source": [
    "## Forming Pairs and Recording Intersection and Symmetric Difference of Both Proteins"
   ]
  },
  {
   "cell_type": "code",
   "execution_count": null,
   "id": "67193626",
   "metadata": {},
   "outputs": [
    {
     "data": {
      "application/vnd.jupyter.widget-view+json": {
       "model_id": "86341741e4ed4b45a5f84168c7f9353d",
       "version_major": 2,
       "version_minor": 0
      },
      "text/plain": [
       "  0%|          | 0/1999000 [00:00<?, ?it/s]"
      ]
     },
     "metadata": {},
     "output_type": "display_data"
    }
   ],
   "source": [
    "unique_targets = chembl_active_df.accession.unique()\n",
    "total_pairs = int((len(unique_targets)**2 -len(unique_targets)) / 2)\n",
    "\n",
    "out_df = []\n",
    "for t1, t2 in tqdm(combinations(unique_targets, r=2), total=total_pairs):\n",
    "    chembl_cpds_t1 = chembl_target_cpds[t1]\n",
    "    chembl_cpds_t2 = chembl_target_cpds[t2]\n",
    "    \n",
    "    functionally_related = protein_function_handler.are_related(t1, t2)\n",
    "    \n",
    "    info_dict= {\"t1\": t1,\n",
    "                \"t2\": t2,\n",
    "                \"functionally_related\": functionally_related,\n",
    "                \"n_chembl_t1\": len(chembl_cpds_t1 -chembl_cpds_t2),\n",
    "                \"n_chembl_t2\": len(chembl_cpds_t2 -chembl_cpds_t1),\n",
    "                \"dt_chembl\": len(chembl_cpds_t1 & chembl_cpds_t2),\n",
    "               }\n",
    "    out_df.append(info_dict)\n",
    "out_df = pd.DataFrame(out_df)"
   ]
  },
  {
   "cell_type": "markdown",
   "id": "4f7736c2",
   "metadata": {},
   "source": [
    "Adding protein names"
   ]
  },
  {
   "cell_type": "code",
   "execution_count": null,
   "id": "7c1f3f03",
   "metadata": {},
   "outputs": [],
   "source": [
    "out_df = out_df.merge(protein_information_df[\"primary_name\"], left_on=\"t1\", right_index=True)\n",
    "out_df.rename(columns={\"primary_name\" : \"t1_name\"}, inplace=True)\n",
    "out_df = out_df.merge(protein_information_df[\"primary_name\"], left_on=\"t2\", right_index=True)\n",
    "out_df.rename(columns={\"primary_name\" : \"t2_name\"}, inplace=True)"
   ]
  },
  {
   "cell_type": "markdown",
   "id": "02feb831",
   "metadata": {},
   "source": [
    "## Selecting Functionally Unrelated Pairs\n",
    "Pairs should have at least:\n",
    " * 50 shared CPDs\n",
    " * each target should have 50 specific cpds"
   ]
  },
  {
   "cell_type": "code",
   "execution_count": null,
   "id": "f1ba56e1",
   "metadata": {},
   "outputs": [],
   "source": [
    "distinct_pairs = out_df.query(\"functionally_related == 'no' & dt_chembl >= 50 & n_chembl_t1 >= 50 & n_chembl_t2 >= 50\")\n",
    "distinct_pairs"
   ]
  },
  {
   "cell_type": "markdown",
   "id": "d5c85783",
   "metadata": {},
   "source": [
    "## Extracting Data for Selected Pairs\n",
    "Pairs analyzed in previous study.\n",
    "Furthermore selecting the pair of `Histamine H3 receptor` and `Sodium-dependent serotonin transporter` because of increased data availability."
   ]
  },
  {
   "cell_type": "code",
   "execution_count": null,
   "id": "8b352e7a",
   "metadata": {},
   "outputs": [],
   "source": [
    "pair1 = (\"P27338\", \"P29274\")\n",
    "pair2 = (\"P27338\", \"P22303\")\n",
    "pair3 = (\"Q9Y5N1\", \"P31645\")\n",
    "pair_list = [pair1, pair2, pair3]"
   ]
  },
  {
   "cell_type": "code",
   "execution_count": null,
   "id": "5bce4837",
   "metadata": {},
   "outputs": [],
   "source": [
    "distinct_pairs.set_index([\"t1\", \"t2\"]).loc[pair_list]"
   ]
  },
  {
   "cell_type": "markdown",
   "id": "fad807e2",
   "metadata": {},
   "source": [
    "Defining random number generator for random sample of ChEMBL CPDs"
   ]
  },
  {
   "cell_type": "code",
   "execution_count": null,
   "id": "c640b9f8",
   "metadata": {},
   "outputs": [],
   "source": [
    "seed = 20012022\n",
    "r_generator = random.default_rng(seed)"
   ]
  },
  {
   "cell_type": "code",
   "execution_count": null,
   "id": "642556a4",
   "metadata": {},
   "outputs": [],
   "source": [
    "protein_functions[\"O08689\"]"
   ]
  },
  {
   "cell_type": "code",
   "execution_count": null,
   "id": "0d3adc32",
   "metadata": {},
   "outputs": [],
   "source": [
    "chembl_active_df.head()"
   ]
  },
  {
   "cell_type": "code",
   "execution_count": null,
   "id": "2c831921",
   "metadata": {},
   "outputs": [],
   "source": [
    "all_cpds = set(chembl_active_df.nonstereo_aromatic_smiles.unique())\n",
    "for t1, t2 in pair_list:\n",
    "    pair_df = []\n",
    "    chembl_cpds_t1 = chembl_target_cpds[t1]\n",
    "    chembl_cpds_t2 = chembl_target_cpds[t2]\n",
    "    \n",
    "    dt_cpds = chembl_cpds_t1 & chembl_cpds_t2\n",
    "    t1_cpds = chembl_cpds_t1 - chembl_cpds_t2\n",
    "    t2_cpds = chembl_cpds_t2 - chembl_cpds_t1\n",
    "    \n",
    "    # Sets are not necessarily in the same order when restarting notebook. Sorting for reproducibility.\n",
    "    for cpd_smi in sorted(dt_cpds):\n",
    "        pair_df.append({\"nonstereo_aromatic_smiles\": cpd_smi,\n",
    "                        \"target_pair\": f\"{t1}_{t2}\",\n",
    "                        \"label\": \"dual_target\"\n",
    "                       })\n",
    "    for cpd_smi in sorted(t1_cpds):\n",
    "        pair_df.append({\"nonstereo_aromatic_smiles\": cpd_smi,\n",
    "                        \"target_pair\": f\"{t1}_{t2}\",\n",
    "                        \"label\": t1\n",
    "                       })\n",
    "    for cpd_smi in sorted(t2_cpds):\n",
    "        pair_df.append({\"nonstereo_aromatic_smiles\": cpd_smi,\n",
    "                        \"target_pair\": f\"{t1}_{t2}\",\n",
    "                        \"label\": t2\n",
    "                       })\n",
    "        \n",
    "    # Random Sample of ChEMBL CPDs\n",
    "    # Restriction: Excluding CPDs active agaisnt either target or related targets.\n",
    "    excluded_cpds = set()\n",
    "    for t in [t1, t2]:\n",
    "        # undertermined_equals_related is set to true in order to remove also CPDs against proteins potentially related to target\n",
    "        related_proteins = protein_function_handler.get_related_proteins(t, undertermined_equals_related=True)\n",
    "        assert t in related_proteins\n",
    "        for protein in related_proteins:\n",
    "            if protein in chembl_target_cpds:\n",
    "                cpds = chembl_target_cpds[protein]\n",
    "                excluded_cpds.update(cpds)\n",
    "        available_cpds = sorted(all_cpds-excluded_cpds)\n",
    "        sample_size = len(chembl_cpds_t1 | chembl_cpds_t2)\n",
    "        sampled_cpds = r_generator.choice(available_cpds, size=sample_size, replace=False).tolist()\n",
    "        #print(sampled_cpds)\n",
    "        for cpd_smi in sorted(sampled_cpds):\n",
    "            pair_df.append({\"nonstereo_aromatic_smiles\": cpd_smi,\n",
    "                            \"target_pair\": f\"{t1}_{t2}\",\n",
    "                            \"label\": \"random_cpd\"\n",
    "                           })\n",
    "\n",
    "    pair_df = pd.DataFrame(pair_df)\n",
    "    pair_df.to_csv(f\"./chembl29_dt_cpds_{t1}_{t2}.tsv\", sep=\"\\t\", index=False)"
   ]
  },
  {
   "cell_type": "code",
   "execution_count": null,
   "id": "e317852f",
   "metadata": {},
   "outputs": [],
   "source": []
  },
  {
   "cell_type": "markdown",
   "id": "daa9fcb9",
   "metadata": {},
   "source": [
    "## Predicting Target\n",
    "Selecting two functionally unrelated targets without shared CPDs. ML task is to predict to correct target for a given compound."
   ]
  },
  {
   "cell_type": "code",
   "execution_count": null,
   "id": "e2abec1d",
   "metadata": {},
   "outputs": [],
   "source": [
    "out_df.query(\"dt_chembl == 0 & functionally_related == 'no'\").sort_values([\"n_chembl_t1\", \"n_chembl_t2\"], ascending=False).head(10)"
   ]
  },
  {
   "cell_type": "code",
   "execution_count": null,
   "id": "51764fbe",
   "metadata": {},
   "outputs": [],
   "source": [
    "task2_pair1 = [\"P14416\", \"P42336\"] # D(2) dopamine receptor and Phosphatidylinositol 4,5-bisphosphate 3-kinase catalytic subunit alpha isoform\n",
    "task2_pairlist= [task2_pair1]"
   ]
  },
  {
   "cell_type": "code",
   "execution_count": null,
   "id": "3a6dbb5c",
   "metadata": {},
   "outputs": [],
   "source": [
    "for t1, t2 in task2_pairlist:\n",
    "    pair_df = []\n",
    "    chembl_cpds_t1 = chembl_target_cpds[t1]\n",
    "    chembl_cpds_t2 = chembl_target_cpds[t2]   \n",
    "\n",
    "    for cpd_smi in sorted(chembl_cpds_t1):\n",
    "        pair_df.append({\"nonstereo_aromatic_smiles\": cpd_smi,\n",
    "                        \"target_pair\": f\"{t1}_{t2}\",\n",
    "                        \"label\": t1\n",
    "                       })\n",
    "    for cpd_smi in sorted(chembl_cpds_t2):\n",
    "        pair_df.append({\"nonstereo_aromatic_smiles\": cpd_smi,\n",
    "                        \"target_pair\": f\"{t1}_{t2}\",\n",
    "                        \"label\": t2\n",
    "                       })\n",
    "    # Random Sample of ChEMBL CPDs\n",
    "    # Restriction: Excluding CPDs active agaisnt either target or related targets.\n",
    "    excluded_cpds = set()\n",
    "    for t in [t1, t2]:\n",
    "        for protein in protein_function_handler.get_related_proteins(t, undertermined_equals_related=True):\n",
    "            if protein in chembl_target_cpds: \n",
    "                cpds = chembl_target_cpds [protein]\n",
    "                excluded_cpds.update(cpds)\n",
    "    available_cpds = sorted(all_cpds-excluded_cpds)\n",
    "    sample_size = len(chembl_cpds_t1 | chembl_cpds_t2)\n",
    "    sampled_cpds = r_generator.choice(available_cpds, size=sample_size, replace=False).tolist()\n",
    "    for cpd_smi in sorted(sampled_cpds):\n",
    "        pair_df.append({\"nonstereo_aromatic_smiles\": cpd_smi,\n",
    "                        \"target_pair\": f\"{t1}_{t2}\",\n",
    "                        \"label\": \"random_cpd\"\n",
    "                       })\n",
    "    \n",
    "    pair_df = pd.DataFrame(pair_df)\n",
    "    pair_df.to_csv(f\"./chembl29_predicting_target_{t1}_{t2}.tsv\", sep=\"\\t\", index=False)"
   ]
  },
  {
   "cell_type": "code",
   "execution_count": null,
   "id": "671e0054",
   "metadata": {},
   "outputs": [],
   "source": []
  }
 ],
 "metadata": {
  "kernelspec": {
   "display_name": "Python 3 (ipykernel)",
   "language": "python",
   "name": "python3"
  },
  "language_info": {
   "codemirror_mode": {
    "name": "ipython",
    "version": 3
   },
   "file_extension": ".py",
   "mimetype": "text/x-python",
   "name": "python",
   "nbconvert_exporter": "python",
   "pygments_lexer": "ipython3",
   "version": "3.9.7"
  }
 },
 "nbformat": 4,
 "nbformat_minor": 5
}
