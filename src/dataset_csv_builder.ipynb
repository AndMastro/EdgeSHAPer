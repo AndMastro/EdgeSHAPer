{
 "cells": [
  {
   "cell_type": "markdown",
   "id": "e3219a34",
   "metadata": {},
   "source": [
    "# Dataset building module"
   ]
  },
  {
   "cell_type": "code",
   "execution_count": 11,
   "id": "6e0085e4",
   "metadata": {},
   "outputs": [],
   "source": [
    "import torch\n",
    "import torchdrug as td\n",
    "from torchdrug import data\n",
    "import pandas as pd\n",
    "%matplotlib inline\n",
    "\n",
    "\n",
    "DATASET_TYPE = \"single\" #\"single\"\n",
    "DATASET_NAME = \"chembl29_predicting_target_P14416_P42336\"\n",
    "CSV_DATA_PATH = \"../data/\"+ DATASET_NAME + \".csv\"\n",
    "\n",
    "smiles_df = pd.read_csv(CSV_DATA_PATH, sep = \",\")"
   ]
  },
  {
   "cell_type": "code",
   "execution_count": 12,
   "id": "6ae36911",
   "metadata": {},
   "outputs": [
    {
     "data": {
      "text/html": [
       "<div>\n",
       "<style scoped>\n",
       "    .dataframe tbody tr th:only-of-type {\n",
       "        vertical-align: middle;\n",
       "    }\n",
       "\n",
       "    .dataframe tbody tr th {\n",
       "        vertical-align: top;\n",
       "    }\n",
       "\n",
       "    .dataframe thead th {\n",
       "        text-align: right;\n",
       "    }\n",
       "</style>\n",
       "<table border=\"1\" class=\"dataframe\">\n",
       "  <thead>\n",
       "    <tr style=\"text-align: right;\">\n",
       "      <th></th>\n",
       "      <th>nonstereo_aromatic_smiles</th>\n",
       "      <th>target_pair</th>\n",
       "      <th>label</th>\n",
       "    </tr>\n",
       "  </thead>\n",
       "  <tbody>\n",
       "    <tr>\n",
       "      <th>0</th>\n",
       "      <td>Brc1ccc(CNCCN2CCN(Cc3cc4ccccc4[nH]3)CC2)cc1</td>\n",
       "      <td>P14416_P42336</td>\n",
       "      <td>0</td>\n",
       "    </tr>\n",
       "    <tr>\n",
       "      <th>1</th>\n",
       "      <td>Brc1ccc(N2CCN(Cc3ccccc3)CC2)c2cc[nH]c12</td>\n",
       "      <td>P14416_P42336</td>\n",
       "      <td>0</td>\n",
       "    </tr>\n",
       "    <tr>\n",
       "      <th>2</th>\n",
       "      <td>Brc1ccc(NCCN2CCN(CCc3c[nH]c4ccccc34)CC2)cc1</td>\n",
       "      <td>P14416_P42336</td>\n",
       "      <td>0</td>\n",
       "    </tr>\n",
       "    <tr>\n",
       "      <th>3</th>\n",
       "      <td>Brc1ccc(NCCN2CCN(Cc3cc4ccccc4[nH]3)CC2)cc1</td>\n",
       "      <td>P14416_P42336</td>\n",
       "      <td>0</td>\n",
       "    </tr>\n",
       "    <tr>\n",
       "      <th>4</th>\n",
       "      <td>Brc1cccc(N2CCN(Cc3cc4ccccn4n3)CC2)n1</td>\n",
       "      <td>P14416_P42336</td>\n",
       "      <td>0</td>\n",
       "    </tr>\n",
       "  </tbody>\n",
       "</table>\n",
       "</div>"
      ],
      "text/plain": [
       "                     nonstereo_aromatic_smiles    target_pair  label\n",
       "0  Brc1ccc(CNCCN2CCN(Cc3cc4ccccc4[nH]3)CC2)cc1  P14416_P42336      0\n",
       "1      Brc1ccc(N2CCN(Cc3ccccc3)CC2)c2cc[nH]c12  P14416_P42336      0\n",
       "2  Brc1ccc(NCCN2CCN(CCc3c[nH]c4ccccc34)CC2)cc1  P14416_P42336      0\n",
       "3   Brc1ccc(NCCN2CCN(Cc3cc4ccccc4[nH]3)CC2)cc1  P14416_P42336      0\n",
       "4         Brc1cccc(N2CCN(Cc3cc4ccccn4n3)CC2)n1  P14416_P42336      0"
      ]
     },
     "metadata": {},
     "output_type": "display_data"
    },
    {
     "data": {
      "text/plain": [
       "(7633, 3)"
      ]
     },
     "metadata": {},
     "output_type": "display_data"
    }
   ],
   "source": [
    "display(smiles_df.head())\n",
    "display(smiles_df.shape)"
   ]
  },
  {
   "cell_type": "markdown",
   "id": "99c76bd1",
   "metadata": {},
   "source": [
    "run the next cell if you need to create csv - no random "
   ]
  },
  {
   "cell_type": "code",
   "execution_count": 2,
   "id": "5f896362",
   "metadata": {},
   "outputs": [],
   "source": [
    "# DATA_PATH =  \"../data/\"+ DATASET_NAME + \".tsv\"\n",
    "\n",
    "# smiles_df = pd.read_csv(DATA_PATH, sep = \"\\t\")\n",
    "# display(smiles_df.head())\n",
    "\n",
    "# smiles_df[\"label\"] = pd.factorize(smiles_df[\"label\"])[0]\n",
    "\n",
    "# if DATASET_TYPE == \"dual\":\n",
    "\n",
    "#     smiles_df[\"target1\"] = 0\n",
    "#     smiles_df[\"target2\"] = 0\n",
    "\n",
    "#     smiles_df.loc[smiles_df.label == 0, 'target1'] = 1\n",
    "#     smiles_df.loc[smiles_df.label == 0, 'target2'] = 1\n",
    "\n",
    "#     smiles_df.loc[smiles_df.label == 1, 'target1'] = 1\n",
    "#     smiles_df.loc[smiles_df.label == 2, 'target2'] = 1\n",
    "\n",
    "# CSV_DATA_PATH = \"../data/\"+ DATASET_NAME + \"_random_cpds.csv\"\n",
    "# smiles_df.to_csv(CSV_DATA_PATH, index = False)\n"
   ]
  },
  {
   "cell_type": "markdown",
   "id": "d9f83508",
   "metadata": {},
   "source": [
    "run the next cell if you need to create csv - random "
   ]
  },
  {
   "cell_type": "code",
   "execution_count": 39,
   "id": "a5084651",
   "metadata": {},
   "outputs": [
    {
     "data": {
      "text/html": [
       "<div>\n",
       "<style scoped>\n",
       "    .dataframe tbody tr th:only-of-type {\n",
       "        vertical-align: middle;\n",
       "    }\n",
       "\n",
       "    .dataframe tbody tr th {\n",
       "        vertical-align: top;\n",
       "    }\n",
       "\n",
       "    .dataframe thead th {\n",
       "        text-align: right;\n",
       "    }\n",
       "</style>\n",
       "<table border=\"1\" class=\"dataframe\">\n",
       "  <thead>\n",
       "    <tr style=\"text-align: right;\">\n",
       "      <th></th>\n",
       "      <th>nonstereo_aromatic_smiles</th>\n",
       "      <th>target_pair</th>\n",
       "      <th>label</th>\n",
       "    </tr>\n",
       "  </thead>\n",
       "  <tbody>\n",
       "    <tr>\n",
       "      <th>0</th>\n",
       "      <td>Brc1ccc(CNCCN2CCN(Cc3cc4ccccc4[nH]3)CC2)cc1</td>\n",
       "      <td>P14416_P42336</td>\n",
       "      <td>P14416</td>\n",
       "    </tr>\n",
       "    <tr>\n",
       "      <th>1</th>\n",
       "      <td>Brc1ccc(N2CCN(Cc3ccccc3)CC2)c2cc[nH]c12</td>\n",
       "      <td>P14416_P42336</td>\n",
       "      <td>P14416</td>\n",
       "    </tr>\n",
       "    <tr>\n",
       "      <th>2</th>\n",
       "      <td>Brc1ccc(NCCN2CCN(CCc3c[nH]c4ccccc34)CC2)cc1</td>\n",
       "      <td>P14416_P42336</td>\n",
       "      <td>P14416</td>\n",
       "    </tr>\n",
       "    <tr>\n",
       "      <th>3</th>\n",
       "      <td>Brc1ccc(NCCN2CCN(Cc3cc4ccccc4[nH]3)CC2)cc1</td>\n",
       "      <td>P14416_P42336</td>\n",
       "      <td>P14416</td>\n",
       "    </tr>\n",
       "    <tr>\n",
       "      <th>4</th>\n",
       "      <td>Brc1cccc(N2CCN(Cc3cc4ccccn4n3)CC2)n1</td>\n",
       "      <td>P14416_P42336</td>\n",
       "      <td>P14416</td>\n",
       "    </tr>\n",
       "  </tbody>\n",
       "</table>\n",
       "</div>"
      ],
      "text/plain": [
       "                     nonstereo_aromatic_smiles    target_pair   label\n",
       "0  Brc1ccc(CNCCN2CCN(Cc3cc4ccccc4[nH]3)CC2)cc1  P14416_P42336  P14416\n",
       "1      Brc1ccc(N2CCN(Cc3ccccc3)CC2)c2cc[nH]c12  P14416_P42336  P14416\n",
       "2  Brc1ccc(NCCN2CCN(CCc3c[nH]c4ccccc34)CC2)cc1  P14416_P42336  P14416\n",
       "3   Brc1ccc(NCCN2CCN(Cc3cc4ccccc4[nH]3)CC2)cc1  P14416_P42336  P14416\n",
       "4         Brc1cccc(N2CCN(Cc3cc4ccccn4n3)CC2)n1  P14416_P42336  P14416"
      ]
     },
     "metadata": {},
     "output_type": "display_data"
    },
    {
     "data": {
      "text/html": [
       "<div>\n",
       "<style scoped>\n",
       "    .dataframe tbody tr th:only-of-type {\n",
       "        vertical-align: middle;\n",
       "    }\n",
       "\n",
       "    .dataframe tbody tr th {\n",
       "        vertical-align: top;\n",
       "    }\n",
       "\n",
       "    .dataframe thead th {\n",
       "        text-align: right;\n",
       "    }\n",
       "</style>\n",
       "<table border=\"1\" class=\"dataframe\">\n",
       "  <thead>\n",
       "    <tr style=\"text-align: right;\">\n",
       "      <th></th>\n",
       "      <th>nonstereo_aromatic_smiles</th>\n",
       "      <th>target_pair</th>\n",
       "      <th>label</th>\n",
       "    </tr>\n",
       "  </thead>\n",
       "  <tbody>\n",
       "    <tr>\n",
       "      <th>0</th>\n",
       "      <td>Brc1ccc(CNCCN2CCN(Cc3cc4ccccc4[nH]3)CC2)cc1</td>\n",
       "      <td>P14416_P42336</td>\n",
       "      <td>0</td>\n",
       "    </tr>\n",
       "    <tr>\n",
       "      <th>1</th>\n",
       "      <td>Brc1ccc(N2CCN(Cc3ccccc3)CC2)c2cc[nH]c12</td>\n",
       "      <td>P14416_P42336</td>\n",
       "      <td>0</td>\n",
       "    </tr>\n",
       "    <tr>\n",
       "      <th>2</th>\n",
       "      <td>Brc1ccc(NCCN2CCN(CCc3c[nH]c4ccccc34)CC2)cc1</td>\n",
       "      <td>P14416_P42336</td>\n",
       "      <td>0</td>\n",
       "    </tr>\n",
       "    <tr>\n",
       "      <th>3</th>\n",
       "      <td>Brc1ccc(NCCN2CCN(Cc3cc4ccccc4[nH]3)CC2)cc1</td>\n",
       "      <td>P14416_P42336</td>\n",
       "      <td>0</td>\n",
       "    </tr>\n",
       "    <tr>\n",
       "      <th>4</th>\n",
       "      <td>Brc1cccc(N2CCN(Cc3cc4ccccn4n3)CC2)n1</td>\n",
       "      <td>P14416_P42336</td>\n",
       "      <td>0</td>\n",
       "    </tr>\n",
       "  </tbody>\n",
       "</table>\n",
       "</div>"
      ],
      "text/plain": [
       "                     nonstereo_aromatic_smiles    target_pair  label\n",
       "0  Brc1ccc(CNCCN2CCN(Cc3cc4ccccc4[nH]3)CC2)cc1  P14416_P42336      0\n",
       "1      Brc1ccc(N2CCN(Cc3ccccc3)CC2)c2cc[nH]c12  P14416_P42336      0\n",
       "2  Brc1ccc(NCCN2CCN(CCc3c[nH]c4ccccc34)CC2)cc1  P14416_P42336      0\n",
       "3   Brc1ccc(NCCN2CCN(Cc3cc4ccccc4[nH]3)CC2)cc1  P14416_P42336      0\n",
       "4         Brc1cccc(N2CCN(Cc3cc4ccccn4n3)CC2)n1  P14416_P42336      0"
      ]
     },
     "metadata": {},
     "output_type": "display_data"
    },
    {
     "data": {
      "text/plain": [
       "(15266, 3)"
      ]
     },
     "metadata": {},
     "output_type": "display_data"
    }
   ],
   "source": [
    "DATA_PATH =  \"../data/\"+ DATASET_NAME + \".tsv\"\n",
    "\n",
    "smiles_df = pd.read_csv(DATA_PATH, sep = \"\\t\")\n",
    "display(smiles_df.head())\n",
    "\n",
    "smiles_df[\"label\"] = pd.factorize(smiles_df[\"label\"])[0]\n",
    "\n",
    "display(smiles_df.head())\n",
    "display(smiles_df.shape)\n"
   ]
  },
  {
   "cell_type": "code",
   "execution_count": 40,
   "id": "15871770",
   "metadata": {},
   "outputs": [],
   "source": [
    "#0 interacts with targe, 1 is random\n",
    "target_to_keep = 1\n",
    "target_to_remove = 0\n",
    "\n",
    "if DATASET_TYPE == \"single\":\n",
    "\n",
    "    smiles_df = smiles_df[smiles_df['label'] != target_to_remove]\n",
    "    if target_to_keep == 1:\n",
    "        smiles_df.loc[smiles_df.label == 1, 'label'] = 0\n",
    "        \n",
    "    smiles_df.loc[smiles_df.label == 2, 'label'] = 1\n",
    "    \n",
    "    num_0 = smiles_df[\"label\"].value_counts()[0]\n",
    "    num_1 = smiles_df[\"label\"].value_counts()[1]\n",
    "\n",
    "    smiles_df = smiles_df.drop(smiles_df.tail(num_1 - num_0).index)\n",
    "\n",
    "CSV_DATA_PATH = \"../data/\"+ DATASET_NAME + \"_target_2_vs_random_cpds.csv\"\n",
    "smiles_df.to_csv(CSV_DATA_PATH, index = False)\n"
   ]
  },
  {
   "cell_type": "code",
   "execution_count": 42,
   "id": "9ee4ac8c",
   "metadata": {},
   "outputs": [
    {
     "data": {
      "text/plain": [
       "0    3459\n",
       "1    3459\n",
       "Name: label, dtype: int64"
      ]
     },
     "execution_count": 42,
     "metadata": {},
     "output_type": "execute_result"
    }
   ],
   "source": [
    "smiles_df\n",
    "smiles_df[\"label\"].value_counts()"
   ]
  }
 ],
 "metadata": {
  "kernelspec": {
   "display_name": "Python 3 (ipykernel)",
   "language": "python",
   "name": "python3"
  },
  "language_info": {
   "codemirror_mode": {
    "name": "ipython",
    "version": 3
   },
   "file_extension": ".py",
   "mimetype": "text/x-python",
   "name": "python",
   "nbconvert_exporter": "python",
   "pygments_lexer": "ipython3",
   "version": "3.8.12"
  }
 },
 "nbformat": 4,
 "nbformat_minor": 5
}
