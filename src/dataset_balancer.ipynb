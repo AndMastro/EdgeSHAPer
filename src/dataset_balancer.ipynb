{
 "cells": [
  {
   "cell_type": "markdown",
   "id": "e3219a34",
   "metadata": {},
   "source": [
    "# Dataset building module"
   ]
  },
  {
   "cell_type": "code",
   "execution_count": 1,
   "id": "6e0085e4",
   "metadata": {},
   "outputs": [],
   "source": [
    "import pandas as pd\n",
    "import numpy as np\n",
    "import random\n",
    "%matplotlib inline\n",
    "\n",
    "\n",
    "DATASET_TYPE = \"dual\" #\"single\"\n",
    "DATASET_NAME = \"chembl29_dt_cpds_P27338_P22303\"\n",
    "CSV_DATA_PATH = \"../data/\"+ DATASET_NAME + \".csv\"\n",
    "\n",
    "smiles_df = pd.read_csv(CSV_DATA_PATH, sep = \",\")"
   ]
  },
  {
   "cell_type": "code",
   "execution_count": 2,
   "id": "9e76ceb1",
   "metadata": {},
   "outputs": [],
   "source": [
    "random.seed(42)\n",
    "np.random.seed(42)"
   ]
  },
  {
   "cell_type": "code",
   "execution_count": 3,
   "id": "6ae36911",
   "metadata": {},
   "outputs": [
    {
     "data": {
      "text/html": [
       "<div>\n",
       "<style scoped>\n",
       "    .dataframe tbody tr th:only-of-type {\n",
       "        vertical-align: middle;\n",
       "    }\n",
       "\n",
       "    .dataframe tbody tr th {\n",
       "        vertical-align: top;\n",
       "    }\n",
       "\n",
       "    .dataframe thead th {\n",
       "        text-align: right;\n",
       "    }\n",
       "</style>\n",
       "<table border=\"1\" class=\"dataframe\">\n",
       "  <thead>\n",
       "    <tr style=\"text-align: right;\">\n",
       "      <th></th>\n",
       "      <th>nonstereo_aromatic_smiles</th>\n",
       "      <th>target_pair</th>\n",
       "      <th>label</th>\n",
       "      <th>target1</th>\n",
       "      <th>target2</th>\n",
       "    </tr>\n",
       "  </thead>\n",
       "  <tbody>\n",
       "    <tr>\n",
       "      <th>0</th>\n",
       "      <td>C#CCN(C)Cc1cc2cc(OCCCC3CCN(Cc4ccccc4C)CC3)ccc2n1C</td>\n",
       "      <td>P27338_P22303</td>\n",
       "      <td>0</td>\n",
       "      <td>1</td>\n",
       "      <td>1</td>\n",
       "    </tr>\n",
       "    <tr>\n",
       "      <th>1</th>\n",
       "      <td>C#CCN(CCCN1C(=O)c2ccccc2C1=O)Cc1ccccc1</td>\n",
       "      <td>P27338_P22303</td>\n",
       "      <td>0</td>\n",
       "      <td>1</td>\n",
       "      <td>1</td>\n",
       "    </tr>\n",
       "    <tr>\n",
       "      <th>2</th>\n",
       "      <td>CC(C)(C)c1cc(C=CC(=O)NCCC2CCN(Cc3ccc(F)c(F)c3)...</td>\n",
       "      <td>P27338_P22303</td>\n",
       "      <td>0</td>\n",
       "      <td>1</td>\n",
       "      <td>1</td>\n",
       "    </tr>\n",
       "    <tr>\n",
       "      <th>3</th>\n",
       "      <td>CC(C)(C)c1cc(C=CC(=O)NCCC2CCN(Cc3cccc(Cl)c3)CC...</td>\n",
       "      <td>P27338_P22303</td>\n",
       "      <td>0</td>\n",
       "      <td>1</td>\n",
       "      <td>1</td>\n",
       "    </tr>\n",
       "    <tr>\n",
       "      <th>4</th>\n",
       "      <td>CC(C)(C)c1cc(C=CC(=O)NCCC2CCN(Cc3cccc(F)c3)CC2...</td>\n",
       "      <td>P27338_P22303</td>\n",
       "      <td>0</td>\n",
       "      <td>1</td>\n",
       "      <td>1</td>\n",
       "    </tr>\n",
       "  </tbody>\n",
       "</table>\n",
       "</div>"
      ],
      "text/plain": [
       "                           nonstereo_aromatic_smiles    target_pair  label  \\\n",
       "0  C#CCN(C)Cc1cc2cc(OCCCC3CCN(Cc4ccccc4C)CC3)ccc2n1C  P27338_P22303      0   \n",
       "1             C#CCN(CCCN1C(=O)c2ccccc2C1=O)Cc1ccccc1  P27338_P22303      0   \n",
       "2  CC(C)(C)c1cc(C=CC(=O)NCCC2CCN(Cc3ccc(F)c(F)c3)...  P27338_P22303      0   \n",
       "3  CC(C)(C)c1cc(C=CC(=O)NCCC2CCN(Cc3cccc(Cl)c3)CC...  P27338_P22303      0   \n",
       "4  CC(C)(C)c1cc(C=CC(=O)NCCC2CCN(Cc3cccc(F)c3)CC2...  P27338_P22303      0   \n",
       "\n",
       "   target1  target2  \n",
       "0        1        1  \n",
       "1        1        1  \n",
       "2        1        1  \n",
       "3        1        1  \n",
       "4        1        1  "
      ]
     },
     "metadata": {},
     "output_type": "display_data"
    },
    {
     "data": {
      "text/plain": [
       "(4040, 5)"
      ]
     },
     "metadata": {},
     "output_type": "display_data"
    }
   ],
   "source": [
    "display(smiles_df.head())\n",
    "display(smiles_df.shape)"
   ]
  },
  {
   "cell_type": "code",
   "execution_count": 4,
   "id": "e287db17",
   "metadata": {},
   "outputs": [
    {
     "data": {
      "text/plain": [
       "1    2037\n",
       "2    1933\n",
       "0      70\n",
       "Name: label, dtype: int64"
      ]
     },
     "execution_count": 4,
     "metadata": {},
     "output_type": "execute_result"
    }
   ],
   "source": [
    "smiles_df[\"label\"].value_counts()\n"
   ]
  },
  {
   "cell_type": "code",
   "execution_count": 5,
   "id": "d37adbc4",
   "metadata": {},
   "outputs": [],
   "source": [
    "dual_target_samples = smiles_df[smiles_df[\"label\"] == 0]\n",
    "num_dual_target_cpds = dual_target_samples.shape[0]\n",
    "\n",
    "samples_target_1 = smiles_df[smiles_df[\"label\"] == 1]\n",
    "samples_target_1 = samples_target_1.sample(round(num_dual_target_cpds/2))\n",
    "\n",
    "samples_target_2 = smiles_df[smiles_df[\"label\"] == 2]\n",
    "samples_target_2 = samples_target_2.sample(round(num_dual_target_cpds/2))"
   ]
  },
  {
   "cell_type": "code",
   "execution_count": 6,
   "id": "9db7b55d",
   "metadata": {},
   "outputs": [
    {
     "name": "stdout",
     "output_type": "stream",
     "text": [
      "0    70\n",
      "1    35\n",
      "2    35\n",
      "Name: label, dtype: int64\n"
     ]
    },
    {
     "data": {
      "text/html": [
       "<div>\n",
       "<style scoped>\n",
       "    .dataframe tbody tr th:only-of-type {\n",
       "        vertical-align: middle;\n",
       "    }\n",
       "\n",
       "    .dataframe tbody tr th {\n",
       "        vertical-align: top;\n",
       "    }\n",
       "\n",
       "    .dataframe thead th {\n",
       "        text-align: right;\n",
       "    }\n",
       "</style>\n",
       "<table border=\"1\" class=\"dataframe\">\n",
       "  <thead>\n",
       "    <tr style=\"text-align: right;\">\n",
       "      <th></th>\n",
       "      <th>nonstereo_aromatic_smiles</th>\n",
       "      <th>target_pair</th>\n",
       "      <th>label</th>\n",
       "      <th>target1</th>\n",
       "      <th>target2</th>\n",
       "    </tr>\n",
       "  </thead>\n",
       "  <tbody>\n",
       "    <tr>\n",
       "      <th>0</th>\n",
       "      <td>C#CCN(C)Cc1cc2cc(OCCCC3CCN(Cc4ccccc4C)CC3)ccc2n1C</td>\n",
       "      <td>P27338_P22303</td>\n",
       "      <td>0</td>\n",
       "      <td>1</td>\n",
       "      <td>1</td>\n",
       "    </tr>\n",
       "    <tr>\n",
       "      <th>1</th>\n",
       "      <td>C#CCN(CCCN1C(=O)c2ccccc2C1=O)Cc1ccccc1</td>\n",
       "      <td>P27338_P22303</td>\n",
       "      <td>0</td>\n",
       "      <td>1</td>\n",
       "      <td>1</td>\n",
       "    </tr>\n",
       "    <tr>\n",
       "      <th>2</th>\n",
       "      <td>CC(C)(C)c1cc(C=CC(=O)NCCC2CCN(Cc3ccc(F)c(F)c3)...</td>\n",
       "      <td>P27338_P22303</td>\n",
       "      <td>0</td>\n",
       "      <td>1</td>\n",
       "      <td>1</td>\n",
       "    </tr>\n",
       "    <tr>\n",
       "      <th>3</th>\n",
       "      <td>CC(C)(C)c1cc(C=CC(=O)NCCC2CCN(Cc3cccc(Cl)c3)CC...</td>\n",
       "      <td>P27338_P22303</td>\n",
       "      <td>0</td>\n",
       "      <td>1</td>\n",
       "      <td>1</td>\n",
       "    </tr>\n",
       "    <tr>\n",
       "      <th>4</th>\n",
       "      <td>CC(C)(C)c1cc(C=CC(=O)NCCC2CCN(Cc3cccc(F)c3)CC2...</td>\n",
       "      <td>P27338_P22303</td>\n",
       "      <td>0</td>\n",
       "      <td>1</td>\n",
       "      <td>1</td>\n",
       "    </tr>\n",
       "    <tr>\n",
       "      <th>...</th>\n",
       "      <td>...</td>\n",
       "      <td>...</td>\n",
       "      <td>...</td>\n",
       "      <td>...</td>\n",
       "      <td>...</td>\n",
       "    </tr>\n",
       "    <tr>\n",
       "      <th>2828</th>\n",
       "      <td>COc1cc(C=CC(=O)Nc2ccccc2)ccc1OCCCCCN1CCCC1</td>\n",
       "      <td>P27338_P22303</td>\n",
       "      <td>1</td>\n",
       "      <td>0</td>\n",
       "      <td>1</td>\n",
       "    </tr>\n",
       "    <tr>\n",
       "      <th>3853</th>\n",
       "      <td>O=C1CSC(c2ccc(F)cc2)N1c1ccc2oc(=O)ccc2c1</td>\n",
       "      <td>P27338_P22303</td>\n",
       "      <td>1</td>\n",
       "      <td>0</td>\n",
       "      <td>1</td>\n",
       "    </tr>\n",
       "    <tr>\n",
       "      <th>3294</th>\n",
       "      <td>COc1cccc(NCc2ccc(Oc3c(N)cccc3Cl)cc2)c1</td>\n",
       "      <td>P27338_P22303</td>\n",
       "      <td>1</td>\n",
       "      <td>0</td>\n",
       "      <td>1</td>\n",
       "    </tr>\n",
       "    <tr>\n",
       "      <th>2273</th>\n",
       "      <td>CC1(C)CNC2=C([N+](=O)[O-])C3(C(=O)c4ccc(Br)c5c...</td>\n",
       "      <td>P27338_P22303</td>\n",
       "      <td>1</td>\n",
       "      <td>0</td>\n",
       "      <td>1</td>\n",
       "    </tr>\n",
       "    <tr>\n",
       "      <th>2508</th>\n",
       "      <td>CCN1CCc2sc(-c3cnc4[nH]c5cnc(C#N)cc5c4c3)cc2C1</td>\n",
       "      <td>P27338_P22303</td>\n",
       "      <td>1</td>\n",
       "      <td>0</td>\n",
       "      <td>1</td>\n",
       "    </tr>\n",
       "  </tbody>\n",
       "</table>\n",
       "<p>140 rows × 5 columns</p>\n",
       "</div>"
      ],
      "text/plain": [
       "                              nonstereo_aromatic_smiles    target_pair  label  \\\n",
       "0     C#CCN(C)Cc1cc2cc(OCCCC3CCN(Cc4ccccc4C)CC3)ccc2n1C  P27338_P22303      0   \n",
       "1                C#CCN(CCCN1C(=O)c2ccccc2C1=O)Cc1ccccc1  P27338_P22303      0   \n",
       "2     CC(C)(C)c1cc(C=CC(=O)NCCC2CCN(Cc3ccc(F)c(F)c3)...  P27338_P22303      0   \n",
       "3     CC(C)(C)c1cc(C=CC(=O)NCCC2CCN(Cc3cccc(Cl)c3)CC...  P27338_P22303      0   \n",
       "4     CC(C)(C)c1cc(C=CC(=O)NCCC2CCN(Cc3cccc(F)c3)CC2...  P27338_P22303      0   \n",
       "...                                                 ...            ...    ...   \n",
       "2828         COc1cc(C=CC(=O)Nc2ccccc2)ccc1OCCCCCN1CCCC1  P27338_P22303      1   \n",
       "3853           O=C1CSC(c2ccc(F)cc2)N1c1ccc2oc(=O)ccc2c1  P27338_P22303      1   \n",
       "3294             COc1cccc(NCc2ccc(Oc3c(N)cccc3Cl)cc2)c1  P27338_P22303      1   \n",
       "2273  CC1(C)CNC2=C([N+](=O)[O-])C3(C(=O)c4ccc(Br)c5c...  P27338_P22303      1   \n",
       "2508      CCN1CCc2sc(-c3cnc4[nH]c5cnc(C#N)cc5c4c3)cc2C1  P27338_P22303      1   \n",
       "\n",
       "      target1  target2  \n",
       "0           1        1  \n",
       "1           1        1  \n",
       "2           1        1  \n",
       "3           1        1  \n",
       "4           1        1  \n",
       "...       ...      ...  \n",
       "2828        0        1  \n",
       "3853        0        1  \n",
       "3294        0        1  \n",
       "2273        0        1  \n",
       "2508        0        1  \n",
       "\n",
       "[140 rows x 5 columns]"
      ]
     },
     "execution_count": 6,
     "metadata": {},
     "output_type": "execute_result"
    }
   ],
   "source": [
    "balanced_df = pd.concat([dual_target_samples, samples_target_1, samples_target_2])\n",
    "print(balanced_df[\"label\"].value_counts())\n",
    "balanced_df.loc[balanced_df.label == 2, 'label'] = 1\n",
    "balanced_df"
   ]
  },
  {
   "cell_type": "code",
   "execution_count": 7,
   "id": "929cf383",
   "metadata": {},
   "outputs": [
    {
     "data": {
      "text/plain": [
       "0    70\n",
       "1    70\n",
       "Name: label, dtype: int64"
      ]
     },
     "execution_count": 7,
     "metadata": {},
     "output_type": "execute_result"
    }
   ],
   "source": [
    "balanced_df[\"label\"].value_counts()"
   ]
  },
  {
   "cell_type": "markdown",
   "id": "99c76bd1",
   "metadata": {},
   "source": [
    "run the next cell if you need to create csv"
   ]
  },
  {
   "cell_type": "code",
   "execution_count": 8,
   "id": "5f896362",
   "metadata": {},
   "outputs": [],
   "source": [
    "balanced_df.to_csv(CSV_DATA_PATH[:-4] + \"_balanced.csv\", index = False)"
   ]
  }
 ],
 "metadata": {
  "kernelspec": {
   "display_name": "Python 3 (ipykernel)",
   "language": "python",
   "name": "python3"
  },
  "language_info": {
   "codemirror_mode": {
    "name": "ipython",
    "version": 3
   },
   "file_extension": ".py",
   "mimetype": "text/x-python",
   "name": "python",
   "nbconvert_exporter": "python",
   "pygments_lexer": "ipython3",
   "version": "3.8.12"
  }
 },
 "nbformat": 4,
 "nbformat_minor": 5
}
