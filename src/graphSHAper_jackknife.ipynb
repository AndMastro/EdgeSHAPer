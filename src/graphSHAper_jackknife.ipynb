{
 "cells": [
  {
   "cell_type": "markdown",
   "id": "e3219a34",
   "metadata": {},
   "source": [
    "# GraphSHAPer implementation using jackknife strategy"
   ]
  },
  {
   "cell_type": "markdown",
   "id": "c66fef7f",
   "metadata": {},
   "source": [
    "Explain the graph classification using Shaply values for edges.\n",
    "Determine the contribution of each edge towards the output value (predicted problability)\n",
    "\n",
    "Starting point:\n",
    "\n",
    "TODO:\n",
    "\n",
    "* Method 1 (jackknife-style sampling): compute approx shapley value for edge $e$ considering all possibile coalitions of $E - 1$ edges, where $E$ is the number of edges.\n",
    "* Method 2 (montecarlo sampling)\n",
    "* Method 3 (exahustive search)\n",
    "* Method 4 (node sampling): sample a number of nodes and work in the nodes k-hop subgraph similarly to a node classification explanation "
   ]
  },
  {
   "cell_type": "code",
   "execution_count": 1,
   "id": "7c80bce6",
   "metadata": {},
   "outputs": [],
   "source": [
    "import torch\n",
    "from torchdrug import data\n",
    "import pandas as pd\n",
    "import numpy as np\n",
    "import random\n",
    "\n",
    "from tqdm.notebook import tqdm\n",
    "%matplotlib inline"
   ]
  },
  {
   "cell_type": "code",
   "execution_count": 2,
   "id": "954ffe82",
   "metadata": {},
   "outputs": [],
   "source": [
    "# for debugging\n",
    "# os.environ['CUDA_LAUNCH_BLOCKING'] = '1'"
   ]
  },
  {
   "cell_type": "markdown",
   "id": "1fea17e8",
   "metadata": {},
   "source": [
    "## Reprodicubility Settings"
   ]
  },
  {
   "cell_type": "code",
   "execution_count": 3,
   "id": "4ea338a5",
   "metadata": {},
   "outputs": [],
   "source": [
    "torch.manual_seed(42)\n",
    "random.seed(42)\n",
    "np.random.seed(42)"
   ]
  },
  {
   "cell_type": "markdown",
   "id": "0c8645f8",
   "metadata": {},
   "source": [
    "## Data Loading"
   ]
  },
  {
   "cell_type": "code",
   "execution_count": 4,
   "id": "6e0085e4",
   "metadata": {},
   "outputs": [
    {
     "name": "stdout",
     "output_type": "stream",
     "text": [
      "                     nonstereo_aromatic_smiles    target_pair  label\n",
      "0  Brc1ccc(CNCCN2CCN(Cc3cc4ccccc4[nH]3)CC2)cc1  P14416_P42336      0\n",
      "1      Brc1ccc(N2CCN(Cc3ccccc3)CC2)c2cc[nH]c12  P14416_P42336      0\n",
      "2  Brc1ccc(NCCN2CCN(CCc3c[nH]c4ccccc34)CC2)cc1  P14416_P42336      0\n",
      "3   Brc1ccc(NCCN2CCN(Cc3cc4ccccc4[nH]3)CC2)cc1  P14416_P42336      0\n",
      "4         Brc1cccc(N2CCN(Cc3cc4ccccn4n3)CC2)n1  P14416_P42336      0\n"
     ]
    }
   ],
   "source": [
    "DATASET_TYPE = \"single\" #\"single\"\n",
    "DATASET_NAME = \"chembl29_predicting_target_P14416_P42336_target_1_vs_random_cpds\"\n",
    "CSV_DATA_PATH = \"../data/\"+ DATASET_NAME + \".csv\"\n",
    "\n",
    "smiles_df = pd.read_csv(CSV_DATA_PATH, sep = \",\")\n",
    "print(smiles_df.head())"
   ]
  },
  {
   "cell_type": "markdown",
   "id": "c9be1baf",
   "metadata": {},
   "source": [
    "## Define Custom Class\n",
    "We need to define the ChEMBL datasets class in order to load the model"
   ]
  },
  {
   "cell_type": "code",
   "execution_count": 5,
   "id": "0e8037c8",
   "metadata": {},
   "outputs": [],
   "source": [
    "import os\n",
    "\n",
    "from torchdrug.core import Registry as R\n",
    "from torchdrug.utils import doc\n",
    "\n",
    "\n",
    "@R.register(\"datasets.ChEMBL\") #only first time you launch the class\n",
    "#@doc.copy_args(data.MoleculeDataset.load_csv, ignore=(\"path\", \"smiles_field\", \"target_fields\"))\n",
    "class ChEMBL(data.MoleculeDataset):\n",
    "    \n",
    "\n",
    "    def __init__(self, path, smiles_field, target_fields, verbose=1, **kwargs):\n",
    "        # path = os.path.expanduser(path)# if not os.path.exists(path):\n",
    "        #     os.makedirs(path)\n",
    "        self.path = path\n",
    "        self.smiles_field = smiles_field\n",
    "        self.target_fields= target_fields\n",
    "        #print(self.path)\n",
    "        # zip_file = utils.download(self.url, path, md5=self.md5)\n",
    "        # csv_file = utils.extract(zip_file)\n",
    "\n",
    "        self.load_csv(self.path, smiles_field=self.smiles_field, target_fields=self.target_fields,\n",
    "                      verbose=verbose, **kwargs)"
   ]
  },
  {
   "cell_type": "code",
   "execution_count": 6,
   "id": "0af8e021",
   "metadata": {},
   "outputs": [
    {
     "name": "stderr",
     "output_type": "stream",
     "text": [
      "Loading ../data/chembl29_predicting_target_P14416_P42336_target_1_vs_random_cpds.csv: 100%|██████████| 8349/8349 [00:00<00:00, 84566.54it/s]\n",
      "Constructing molecules from SMILES:  54%|█████▍    | 4500/8348 [00:18<00:14, 260.88it/s]C:\\Users\\Mastro\\anaconda3\\envs\\graphshap_cheminfo\\lib\\site-packages\\torchdrug\\data\\feature.py:37: UserWarning: Unknown value `Na`\n",
      "  warnings.warn(\"Unknown value `%s`\" % x)\n",
      "Constructing molecules from SMILES: 100%|██████████| 8348/8348 [00:32<00:00, 256.25it/s]\n"
     ]
    }
   ],
   "source": [
    "target_fields = [\"target1\", \"target2\"] if DATASET_TYPE == \"dual\" else [\"label\"]\n",
    "\n",
    "chembl_dataset = ChEMBL(path = CSV_DATA_PATH, smiles_field = \"nonstereo_aromatic_smiles\", target_fields = target_fields)"
   ]
  },
  {
   "cell_type": "markdown",
   "id": "c27f0d0d",
   "metadata": {},
   "source": [
    "## Obtain edge index to use with PyG"
   ]
  },
  {
   "cell_type": "markdown",
   "id": "c0ec30b4",
   "metadata": {},
   "source": [
    "Visualize molecules using NetworkX"
   ]
  },
  {
   "cell_type": "code",
   "execution_count": 7,
   "id": "29d61775",
   "metadata": {},
   "outputs": [
    {
     "data": {
      "application/vnd.jupyter.widget-view+json": {
       "model_id": "33484410b40346e791881ee0f0f6d0fe",
       "version_major": 2,
       "version_minor": 0
      },
      "text/plain": [
       "  0%|          | 0/8348 [00:00<?, ?it/s]"
      ]
     },
     "metadata": {},
     "output_type": "display_data"
    },
    {
     "name": "stdout",
     "output_type": "stream",
     "text": [
      "[(0, 'Br'), (1, 'C'), (2, 'C'), (3, 'C'), (4, 'C'), (5, 'C'), (6, 'N'), (7, 'C'), (8, 'C'), (9, 'N'), (10, 'C'), (11, 'C'), (12, 'N'), (13, 'C'), (14, 'C'), (15, 'C'), (16, 'C'), (17, 'C'), (18, 'C'), (19, 'C'), (20, 'C'), (21, 'C'), (22, 'N'), (23, 'C'), (24, 'C'), (25, 'C'), (26, 'C')]\n"
     ]
    },
    {
     "data": {
      "image/png": "[encoded data removed]",
      "text/plain": [
       "<Figure size 432x288 with 1 Axes>"
      ]
     },
     "metadata": {},
     "output_type": "display_data"
    }
   ],
   "source": [
    "from pysmiles import read_smiles\n",
    "import networkx as nx\n",
    "    \n",
    "smiles = chembl_dataset.smiles_list\n",
    "mols = []\n",
    "for i in tqdm(range(len(chembl_dataset.smiles_list))):\n",
    "    mols.append(read_smiles(chembl_dataset.smiles_list[i]))\n",
    "\n",
    "mol = mols[0]\n",
    "print(mol.nodes(data='element'))\n",
    "labels = nx.get_node_attributes(mol, 'element') \n",
    "nx.draw(mol, labels = labels, pos=nx.spring_layout(mol))"
   ]
  },
  {
   "cell_type": "markdown",
   "id": "00191aa4",
   "metadata": {},
   "source": [
    "Define edge index "
   ]
  },
  {
   "cell_type": "code",
   "execution_count": 8,
   "id": "fbed2e05",
   "metadata": {},
   "outputs": [
    {
     "data": {
      "application/vnd.jupyter.widget-view+json": {
       "model_id": "579d4ffcef7649dab4f3365d33d7ea8f",
       "version_major": 2,
       "version_minor": 0
      },
      "text/plain": [
       "  0%|          | 0/8348 [00:00<?, ?it/s]"
      ]
     },
     "metadata": {},
     "output_type": "display_data"
    },
    {
     "data": {
      "text/plain": [
       "8348"
      ]
     },
     "metadata": {},
     "output_type": "display_data"
    }
   ],
   "source": [
    "edge_index_list = []\n",
    "\n",
    "for mol in tqdm(mols):\n",
    "    adj = nx.to_scipy_sparse_matrix(mol).tocoo()\n",
    "    row = torch.from_numpy(adj.row.astype(np.int64)).to(torch.long)\n",
    "    col = torch.from_numpy(adj.col.astype(np.int64)).to(torch.long)\n",
    "    edge_index = torch.stack([row, col], dim=0)\n",
    "    edge_index_list.append(edge_index)\n",
    "\n",
    "display(len(mols))"
   ]
  },
  {
   "cell_type": "markdown",
   "id": "6b463d4d",
   "metadata": {},
   "source": [
    "Define torchdrug dataset in order to get node features"
   ]
  },
  {
   "cell_type": "code",
   "execution_count": 9,
   "id": "77373077",
   "metadata": {},
   "outputs": [
    {
     "data": {
      "application/vnd.jupyter.widget-view+json": {
       "model_id": "a5557656ab164210a68b19298d757b6d",
       "version_major": 2,
       "version_minor": 0
      },
      "text/plain": [
       "  0%|          | 0/8348 [00:00<?, ?it/s]"
      ]
     },
     "metadata": {},
     "output_type": "display_data"
    },
    {
     "name": "stderr",
     "output_type": "stream",
     "text": [
      "C:\\Users\\Mastro\\anaconda3\\envs\\graphshap_cheminfo\\lib\\site-packages\\torchdrug\\data\\feature.py:37: UserWarning: Unknown value `Na`\n",
      "  warnings.warn(\"Unknown value `%s`\" % x)\n"
     ]
    }
   ],
   "source": [
    "mols_torchdrug_format = []\n",
    "for i in tqdm(range(len(chembl_dataset.smiles_list))):\n",
    "    mols_torchdrug_format.append(data.Molecule.from_smiles(chembl_dataset.smiles_list[i], with_hydrogen = False))\n"
   ]
  },
  {
   "cell_type": "markdown",
   "id": "e6065bab",
   "metadata": {},
   "source": [
    "## Create Custom Dataset"
   ]
  },
  {
   "cell_type": "code",
   "execution_count": 10,
   "id": "13b82094",
   "metadata": {},
   "outputs": [
    {
     "data": {
      "application/vnd.jupyter.widget-view+json": {
       "model_id": "0bf795c94a6d4669ba495e9a2e2de56f",
       "version_major": 2,
       "version_minor": 0
      },
      "text/plain": [
       "  0%|          | 0/8348 [00:00<?, ?it/s]"
      ]
     },
     "metadata": {},
     "output_type": "display_data"
    }
   ],
   "source": [
    "import pandas as pd\n",
    "from torch_geometric.data import InMemoryDataset, Data\n",
    "\n",
    "from torch_geometric.loader import DataLoader\n",
    "import torch_geometric.transforms as T\n",
    "\n",
    "device = torch.device('cuda' if torch.cuda.is_available() else 'cpu')\n",
    "data_list = []\n",
    "y = torch.LongTensor(chembl_dataset.targets[\"label\"]).to(device)\n",
    "\n",
    "for i in tqdm(range(len(mols))):\n",
    "    data_list.append(Data(x = mols_torchdrug_format[i].node_feature, edge_index = edge_index_list[i], y = y[i], smiles = chembl_dataset.smiles_list[i]))\n"
   ]
  },
  {
   "cell_type": "code",
   "execution_count": 11,
   "id": "990e2fef",
   "metadata": {},
   "outputs": [],
   "source": [
    "class ChEMBLDatasetPyG(InMemoryDataset):\n",
    "    def __init__(self, root, transform=None, pre_transform=None, pre_filter=None, data_list = None):\n",
    "        super().__init__(root, transform, pre_transform, pre_filter)\n",
    "        #self.data, self.slices = torch.load(self.processed_paths[0])\n",
    "        self.data_list = data_list\n",
    "\n",
    "        # Read data into huge `Data` list.\n",
    "        data_list = self.data_list\n",
    "\n",
    "        if self.pre_filter is not None:\n",
    "            data_list = [data for data in data_list if self.pre_filter(data)]\n",
    "\n",
    "        if self.pre_transform is not None:\n",
    "            data_list = [self.pre_transform(data) for data in data_list]\n",
    "\n",
    "        self.data, self.slices = self.collate(data_list)\n",
    "        "
   ]
  },
  {
   "cell_type": "code",
   "execution_count": 12,
   "id": "af3e24c2",
   "metadata": {},
   "outputs": [],
   "source": [
    "dataset = ChEMBLDatasetPyG(\".\", data_list = data_list)"
   ]
  },
  {
   "cell_type": "markdown",
   "id": "a0326dbb",
   "metadata": {},
   "source": [
    "Split data in train/val/test (0.8/0.1/0.1)"
   ]
  },
  {
   "cell_type": "code",
   "execution_count": 13,
   "id": "18cecd37",
   "metadata": {},
   "outputs": [
    {
     "name": "stdout",
     "output_type": "stream",
     "text": [
      "[6678, 834, 836]\n"
     ]
    },
    {
     "data": {
      "text/plain": [
       "(6678, 834, 836)"
      ]
     },
     "execution_count": 13,
     "metadata": {},
     "output_type": "execute_result"
    }
   ],
   "source": [
    "lengths = [int(0.8 * len(chembl_dataset)), int(0.1 * len(chembl_dataset))]\n",
    "lengths += [len(chembl_dataset) - sum(lengths)]\n",
    "\n",
    "print(lengths)\n",
    "dataset = dataset.shuffle()\n",
    "train_data = dataset[:lengths[0]]\n",
    "val_data = dataset[lengths[0]+1:lengths[0] + lengths[1]+1]\n",
    "test_data = dataset[lengths[0] + lengths[1] : ]\n",
    "len(train_data), len(val_data), len(test_data)"
   ]
  },
  {
   "cell_type": "code",
   "execution_count": 14,
   "id": "f76c5154",
   "metadata": {},
   "outputs": [],
   "source": [
    "batch_size= 32\n",
    "train_loader = DataLoader(train_data, batch_size=batch_size)\n",
    "val_loader = DataLoader(val_data, batch_size=batch_size)\n",
    "test_loader = DataLoader(test_data, batch_size=batch_size)"
   ]
  },
  {
   "cell_type": "markdown",
   "id": "fc3d1be1",
   "metadata": {},
   "source": [
    "## GCN Definition"
   ]
  },
  {
   "cell_type": "code",
   "execution_count": 15,
   "id": "bf911efe",
   "metadata": {},
   "outputs": [
    {
     "name": "stdout",
     "output_type": "stream",
     "text": [
      "GCN(\n",
      "  (conv1): GCNConv(69, 256)\n",
      "  (conv2): GCNConv(256, 256)\n",
      "  (conv3): GCNConv(256, 256)\n",
      "  (conv4): GCNConv(256, 256)\n",
      "  (lin): Linear(in_features=256, out_features=2, bias=True)\n",
      ")\n"
     ]
    }
   ],
   "source": [
    "from torch_geometric.nn import GCNConv, Linear\n",
    "from torch.nn import Linear\n",
    "import torch.nn.functional as F\n",
    "from torch_geometric.nn import global_mean_pool\n",
    "\n",
    "\n",
    "class GCN(torch.nn.Module):\n",
    "    def __init__(self, hidden_channels):\n",
    "        super(GCN, self).__init__()\n",
    "        torch.manual_seed(12345)\n",
    "        self.conv1 = GCNConv(chembl_dataset.node_feature_dim, hidden_channels)\n",
    "        self.conv2 = GCNConv(hidden_channels, hidden_channels)\n",
    "        self.conv3 = GCNConv(hidden_channels, hidden_channels)\n",
    "        self.conv4 = GCNConv(hidden_channels, hidden_channels)\n",
    "        self.lin = Linear(hidden_channels, dataset.num_classes)\n",
    "\n",
    "    def forward(self, x, edge_index, batch):\n",
    "        # 1. Obtain node embeddings \n",
    "        x = self.conv1(x, edge_index)\n",
    "        x = x.relu()\n",
    "        x = self.conv2(x, edge_index)\n",
    "        x = x.relu()\n",
    "        x = self.conv3(x, edge_index)\n",
    "        x = x.relu()\n",
    "        x = self.conv4(x, edge_index)\n",
    "        # 2. Readout layer\n",
    "        x = global_mean_pool(x, batch)  # [batch_size, hidden_channels]\n",
    "\n",
    "        # 3. Apply a final classifier\n",
    "        x = F.dropout(x, p=0.5, training=self.training)\n",
    "        x = self.lin(x)\n",
    "        \n",
    "        return x\n",
    "\n",
    "model = GCN(hidden_channels=256).to(device)\n",
    "print(model)"
   ]
  },
  {
   "cell_type": "markdown",
   "id": "e7827355",
   "metadata": {},
   "source": [
    "## Load the Model"
   ]
  },
  {
   "cell_type": "code",
   "execution_count": 16,
   "id": "be2f3a27",
   "metadata": {},
   "outputs": [
    {
     "data": {
      "text/plain": [
       "GCN(\n",
       "  (conv1): GCNConv(69, 256)\n",
       "  (conv2): GCNConv(256, 256)\n",
       "  (conv3): GCNConv(256, 256)\n",
       "  (conv4): GCNConv(256, 256)\n",
       "  (lin): Linear(in_features=256, out_features=2, bias=True)\n",
       ")"
      ]
     },
     "execution_count": 16,
     "metadata": {},
     "output_type": "execute_result"
    }
   ],
   "source": [
    "import os.path as osp\n",
    "\n",
    "MODEL_PATH = \"../models/PyG/\" + DATASET_NAME + \"_model2.ckpt\"\n",
    "ckpt_path = osp.join(MODEL_PATH)\n",
    "model.load_state_dict(torch.load(ckpt_path))\n",
    "model.to(device)"
   ]
  },
  {
   "cell_type": "markdown",
   "id": "0867b0a6",
   "metadata": {},
   "source": [
    "## Test the Model"
   ]
  },
  {
   "cell_type": "code",
   "execution_count": 17,
   "id": "19157570",
   "metadata": {},
   "outputs": [
    {
     "name": "stdout",
     "output_type": "stream",
     "text": [
      "Test Acc: 0.9988\n"
     ]
    }
   ],
   "source": [
    "def test(loader):\n",
    "     model.eval()\n",
    "\n",
    "     correct = 0\n",
    "     for data in loader:  # Iterate in batches over the training/test dataset.\n",
    "         data = data.to(device)\n",
    "         \n",
    "         out = model(data.x, data.edge_index, data.batch)  \n",
    "         pred = out.argmax(dim=1)  # Use the class with highest probability.\n",
    "         correct += int((pred == data.y).sum())  # Check against ground-truth labels.\n",
    "     return correct / len(loader.dataset)  # Derive ratio of correct predictions.\n",
    "\n",
    "test_acc = test(test_loader)    \n",
    "print(f'Test Acc: {test_acc:.4f}')\n",
    "\n",
    "####THIS IS NOT THE TEST USED BY THE LOADED MODEL, WE NEED TO BE COHERENT AND USE THE SAME TRAIN,VAL AND TEST SETS############## TODO later, the focus now in explainability"
   ]
  },
  {
   "cell_type": "markdown",
   "id": "4b18753b",
   "metadata": {},
   "source": [
    "## GraphSHAPer\n",
    "\n",
    "* Players = edges\n",
    "* Value = predicted probability $v$\n",
    "* $E$ = set of all edges\n",
    "* $v(E)$ = value of all the edges == original predicted prob\n",
    "* $\\phi_m(v)$ = payout for the contribution of edge m\n",
    "* $S$ = all the possible subset of edges excluding m\n",
    "* |S| = size of S\n",
    "* $v(S)$ is the value achieved by subset S\n",
    "* $v(S∪{m})$ is the realized value after m joins S\n",
    "\n",
    "Shapley values compouted as:\n",
    "\n",
    "$\\phi_m(v) = \\frac{1}{|E|} \\sum_S \\frac{v(S \\cup {m}) - v(S)}{\\binom{|E|-1}{|S|}}$"
   ]
  },
  {
   "cell_type": "code",
   "execution_count": 18,
   "id": "c47e615f",
   "metadata": {},
   "outputs": [
    {
     "name": "stdout",
     "output_type": "stream",
     "text": [
      "tensor([[ 7.3421, -7.0263]], device='cuda:0', grad_fn=<AddmmBackward0>)\n",
      "tensor([[1.0000e+00, 5.7529e-07]], device='cuda:0', grad_fn=<SoftmaxBackward0>)\n"
     ]
    }
   ],
   "source": [
    "#test num 78 is predicted to interact with target cpd\n",
    "test_cpd = test_data[78].to(device)\n",
    "model.eval()\n",
    "# all nodes belong to same graph\n",
    "batch = torch.zeros(test_cpd.x.shape[0], dtype=int, device=test_cpd.x.device)\n",
    "out = model(test_cpd.x, test_cpd.edge_index, batch=batch)\n",
    "out_prob = F.softmax(out, dim = 1)\n",
    "print(out)\n",
    "print(out_prob)"
   ]
  },
  {
   "cell_type": "code",
   "execution_count": 19,
   "id": "9d9c4268",
   "metadata": {},
   "outputs": [
    {
     "name": "stdout",
     "output_type": "stream",
     "text": [
      "tensor([[ 0,  1,  1,  2,  2,  3,  3,  4,  4,  4,  5,  5,  6,  6,  7,  7,  8,  8,\n",
      "          9,  9,  9, 10, 10, 11, 11, 12, 12, 13, 13, 14, 14, 15, 15, 15, 16, 16,\n",
      "         17, 17, 18, 18, 19, 19, 19, 19, 20, 20, 20, 21, 21, 22, 22, 23, 23, 24,\n",
      "         24, 25, 25, 26, 26, 26, 27, 27, 28, 28, 29, 29, 30, 30, 31, 31, 32, 32],\n",
      "        [ 1,  0,  2,  1,  3,  2,  4,  3,  5,  9,  4,  6,  5,  7,  6,  8,  7,  9,\n",
      "          4,  8, 10,  9, 11, 10, 12, 11, 13, 12, 14, 13, 15, 14, 16, 32, 15, 17,\n",
      "         16, 18, 17, 19, 18, 20, 26, 32, 19, 21, 25, 20, 22, 21, 23, 22, 24, 23,\n",
      "         25, 20, 24, 19, 27, 31, 26, 28, 27, 29, 28, 30, 29, 31, 26, 30, 15, 19]],\n",
      "       device='cuda:0')\n",
      "torch.Size([2, 72])\n"
     ]
    }
   ],
   "source": [
    "print(test_cpd.edge_index)\n",
    "print(test_cpd.edge_index.shape)"
   ]
  },
  {
   "cell_type": "markdown",
   "id": "818712b8",
   "metadata": {},
   "source": [
    "### Jackknife approx\n",
    "\n",
    "* $S = E/\\{m\\}$\n",
    "* $ v(S \\cup {m}) = v(E)$ # since if we add m back we obtain the original graph"
   ]
  },
  {
   "cell_type": "code",
   "execution_count": 20,
   "id": "8af77578",
   "metadata": {},
   "outputs": [
    {
     "data": {
      "application/vnd.jupyter.widget-view+json": {
       "model_id": "77f1054016a1470a8ceb7cd5c8affc4b",
       "version_major": 2,
       "version_minor": 0
      },
      "text/plain": [
       "  0%|          | 0/72 [00:00<?, ?it/s]"
      ]
     },
     "metadata": {},
     "output_type": "display_data"
    }
   ],
   "source": [
    "from scipy.special import binom\n",
    "\n",
    "v_E = out_prob[0][1].item()\n",
    "E = test_cpd.edge_index\n",
    "phi_edges = []\n",
    "v_S_u_m = v_E\n",
    "\n",
    "for i in tqdm(range(E.shape[1])):\n",
    "    # node_source = E[0][i]\n",
    "    # node_to = E[1][i]\n",
    "    #S = E[0:,i:]\n",
    "    S = torch.cat([E[0:,0:i], E[0:,i+1:]], dim = 1)\n",
    "    batch = torch.zeros(test_cpd.x.shape[0], dtype=int, device=test_cpd.x.device)\n",
    "    out = model(test_cpd.x, S, batch=batch) #we use S as edge index\n",
    "    out_prob = F.softmax(out, dim = 1)\n",
    "    v_S = out_prob[0][1].item()\n",
    "\n",
    "    denominator = binom(E.shape[1] - 1, 1)\n",
    "\n",
    "    shapley_value = (1/E.shape[1]) * ((v_S_u_m - v_S) / denominator) #jackknife approximation\n",
    "    phi_edges.append(shapley_value)\n"
   ]
  },
  {
   "cell_type": "markdown",
   "id": "db1a572b",
   "metadata": {},
   "source": [
    "### Montecarlo Sampling\n",
    "\n",
    "See https://christophm.github.io/interpretable-ml-book/shapley.html#estimating-the-shapley-value and https://link.springer.com/article/10.1007/s10115-013-0679-x\n",
    "\n",
    "Inseatd of randmly sampling sample $z$ from the data (that for use is nonsense) we create a random graph $Z$ according to a problability distribution.\n",
    "We add an edge according to the probability of an edge to exists in the explained graph G.\n",
    "\n",
    "Pseudo code:\n",
    "\n",
    "Output: Shapley value for j-th edge\n",
    "Required: number of iterations M, graph to explain $G(N_g, E_g)$, edge list E, edge index j, edge_probability_distribution, GNN model\n",
    "\n",
    "$\\forall\\space m \\in {0,...,M-1}$\n",
    "\n",
    "* create random graph $Z(N_z,E_z)$, where $N_z = N_g$ and with $E_z$ are such that $z \\in E_z | e \\sim \\mathbf{P}$, where $\\mathbf{P}$ is the probablity distrubution of an edge to exist. (can be domain-specific, depends on atoms!)\n",
    "* Choose a random permutation $\\pi$ of the egdes\n",
    "* Order edges list $E_g$: $E_g^{\\phi}: (e_0,...,e_j,...,e_{|E_g|-1})$\n",
    "* Order edges list $E_z$: $E_z^{\\phi}: (z_0,...,z_j,...,z_{|E_z|-1})$\n",
    "* Constuct the two new edge lists:\n",
    "    * With index $j: E_{+j} = (e_0,...,e_j,z_{j+1}...,z_{|E_z|-1})$\n",
    "    * Without index $j: E_{-j} = (e_0,...,e_{j-1}, z_j,z_{j+1}...,z_{|E_z|-1})$\n",
    "* Compute marginal contribution: $\\phi_j^m = \\hat{f}(E_{+j}) - \\hat{f}(E_{+j})$\n",
    "* Compute Shapley values as the avb: $\\phi_j(G) = \\frac{1}{M} \\sum_{m=0}^{M-1} \\phi_{j}^{m}$\n",
    "\n",
    "where $\\hat{f}$ is the function learned by the GNN"
   ]
  },
  {
   "cell_type": "markdown",
   "id": "d8617da6",
   "metadata": {},
   "source": [
    "number of max edges in directed graph: n*(n-1)\n",
    "\n",
    "number of max edges in undirected graph: (n*(n-1))/2"
   ]
  },
  {
   "cell_type": "markdown",
   "id": "8197da58",
   "metadata": {},
   "source": [
    "### Define edge probablility\n",
    "We approximate it by using the graph desinity. This is a rather brutal approximation, a domain-specific approach would work probably better (e.g. atoms involved etc)"
   ]
  },
  {
   "cell_type": "code",
   "execution_count": 21,
   "id": "5e0ebde8",
   "metadata": {},
   "outputs": [],
   "source": [
    "num_nodes = test_cpd.x.shape[0]\n",
    "max_num_edges = num_nodes*(num_nodes-1)\n",
    "num_edges = E.shape[1]\n",
    "graph_density = num_edges/max_num_edges\n",
    "P = graph_density"
   ]
  },
  {
   "cell_type": "code",
   "execution_count": 87,
   "id": "0e2f3b90",
   "metadata": {},
   "outputs": [
    {
     "data": {
      "application/vnd.jupyter.widget-view+json": {
       "model_id": "3f1df8b4589a46a0a4a8a27ffeb995e9",
       "version_major": 2,
       "version_minor": 0
      },
      "text/plain": [
       "  0%|          | 0/72 [00:00<?, ?it/s]"
      ]
     },
     "metadata": {},
     "output_type": "display_data"
    },
    {
     "data": {
      "application/vnd.jupyter.widget-view+json": {
       "model_id": "ba7d28a373de4e3ba51a96568b1e1925",
       "version_major": 2,
       "version_minor": 0
      },
      "text/plain": [
       "  0%|          | 0/1000 [00:00<?, ?it/s]"
      ]
     },
     "metadata": {},
     "output_type": "display_data"
    },
    {
     "data": {
      "application/vnd.jupyter.widget-view+json": {
       "model_id": "c90b9e3d6ba64b5ab92f2e2792b48c7b",
       "version_major": 2,
       "version_minor": 0
      },
      "text/plain": [
       "  0%|          | 0/1000 [00:00<?, ?it/s]"
      ]
     },
     "metadata": {},
     "output_type": "display_data"
    },
    {
     "data": {
      "application/vnd.jupyter.widget-view+json": {
       "model_id": "223315210c024c7c957530b8895a195b",
       "version_major": 2,
       "version_minor": 0
      },
      "text/plain": [
       "  0%|          | 0/1000 [00:00<?, ?it/s]"
      ]
     },
     "metadata": {},
     "output_type": "display_data"
    },
    {
     "data": {
      "application/vnd.jupyter.widget-view+json": {
       "model_id": "50e8d9c5ce4047babf0ac157a1a57316",
       "version_major": 2,
       "version_minor": 0
      },
      "text/plain": [
       "  0%|          | 0/1000 [00:00<?, ?it/s]"
      ]
     },
     "metadata": {},
     "output_type": "display_data"
    },
    {
     "data": {
      "application/vnd.jupyter.widget-view+json": {
       "model_id": "57927f2c06a3442fb28d81ba60ddb471",
       "version_major": 2,
       "version_minor": 0
      },
      "text/plain": [
       "  0%|          | 0/1000 [00:00<?, ?it/s]"
      ]
     },
     "metadata": {},
     "output_type": "display_data"
    },
    {
     "data": {
      "application/vnd.jupyter.widget-view+json": {
       "model_id": "a272fdf17d8c4c978ad4ae98be297c2c",
       "version_major": 2,
       "version_minor": 0
      },
      "text/plain": [
       "  0%|          | 0/1000 [00:00<?, ?it/s]"
      ]
     },
     "metadata": {},
     "output_type": "display_data"
    },
    {
     "data": {
      "application/vnd.jupyter.widget-view+json": {
       "model_id": "46368e305d1d4844b3e61094c94627a2",
       "version_major": 2,
       "version_minor": 0
      },
      "text/plain": [
       "  0%|          | 0/1000 [00:00<?, ?it/s]"
      ]
     },
     "metadata": {},
     "output_type": "display_data"
    },
    {
     "data": {
      "application/vnd.jupyter.widget-view+json": {
       "model_id": "a817edc0389046aa84be39791bb21e54",
       "version_major": 2,
       "version_minor": 0
      },
      "text/plain": [
       "  0%|          | 0/1000 [00:00<?, ?it/s]"
      ]
     },
     "metadata": {},
     "output_type": "display_data"
    },
    {
     "data": {
      "application/vnd.jupyter.widget-view+json": {
       "model_id": "74781a7f7206447387718831da35696a",
       "version_major": 2,
       "version_minor": 0
      },
      "text/plain": [
       "  0%|          | 0/1000 [00:00<?, ?it/s]"
      ]
     },
     "metadata": {},
     "output_type": "display_data"
    },
    {
     "data": {
      "application/vnd.jupyter.widget-view+json": {
       "model_id": "a8328600c9cc4a80a04c1b1a3afc5548",
       "version_major": 2,
       "version_minor": 0
      },
      "text/plain": [
       "  0%|          | 0/1000 [00:00<?, ?it/s]"
      ]
     },
     "metadata": {},
     "output_type": "display_data"
    },
    {
     "data": {
      "application/vnd.jupyter.widget-view+json": {
       "model_id": "b816b3805523456ba773b8e307ee72aa",
       "version_major": 2,
       "version_minor": 0
      },
      "text/plain": [
       "  0%|          | 0/1000 [00:00<?, ?it/s]"
      ]
     },
     "metadata": {},
     "output_type": "display_data"
    },
    {
     "data": {
      "application/vnd.jupyter.widget-view+json": {
       "model_id": "ea3ceb795efb438c88a3a34cb6d58fee",
       "version_major": 2,
       "version_minor": 0
      },
      "text/plain": [
       "  0%|          | 0/1000 [00:00<?, ?it/s]"
      ]
     },
     "metadata": {},
     "output_type": "display_data"
    },
    {
     "data": {
      "application/vnd.jupyter.widget-view+json": {
       "model_id": "984afd4086c64b79b9dcf51ec3f97f54",
       "version_major": 2,
       "version_minor": 0
      },
      "text/plain": [
       "  0%|          | 0/1000 [00:00<?, ?it/s]"
      ]
     },
     "metadata": {},
     "output_type": "display_data"
    }
   ],
   "source": [
    "M = 1000\n",
    "phi_edges = []\n",
    "marginal_contrib = 0\n",
    "from numpy.random import default_rng\n",
    "rng = default_rng()\n",
    "model.eval()\n",
    "\n",
    "for j in tqdm(range(num_edges)):\n",
    "    for i in tqdm(range(M)):\n",
    "        E_z_mask = rng.binomial(1, P, num_edges)\n",
    "        #E_z_index = torch.IntTensor(torch.nonzero(torch.IntTensor(E_z_mask)).tolist()).to(device).squeeze()\n",
    "        #E_z = torch.index_select(E, dim = 1, index = E_z_index)\n",
    "        E_mask = torch.ones(num_edges)\n",
    "        pi = torch.randperm(num_edges)\n",
    "\n",
    "        E_j_plus_index = torch.ones(num_edges, dtype=torch.int)\n",
    "        E_j_minus_index = torch.ones(num_edges, dtype=torch.int)\n",
    "        selected_edge_index = np.where(pi == j)[0].item()\n",
    "        for k in range(num_edges):\n",
    "            if k <= selected_edge_index:\n",
    "                E_j_plus_index[pi[k]] = E_mask[pi[k]]\n",
    "            else:\n",
    "                E_j_plus_index[pi[k]] = E_z_mask[pi[k]]\n",
    "\n",
    "        for k in range(num_edges):\n",
    "            if k < selected_edge_index:\n",
    "                E_j_minus_index[pi[k]] = E_mask[pi[k]]\n",
    "            else:\n",
    "                E_j_minus_index[pi[k]] = E_z_mask[pi[k]]\n",
    "\n",
    "\n",
    "        #we compute marginal contribs\n",
    "        \n",
    "        # with edge j\n",
    "        retained_indices_plus = torch.LongTensor(torch.nonzero(E_j_plus_index).tolist()).to(device).squeeze()\n",
    "        E_j_plus = torch.index_select(E, dim = 1, index = retained_indices_plus)\n",
    "\n",
    "        batch = torch.zeros(test_cpd.x.shape[0], dtype=int, device=test_cpd.x.device)\n",
    "        out = model(test_cpd.x, E_j_plus, batch=batch)\n",
    "        out_prob = F.softmax(out, dim = 1)\n",
    "        \n",
    "        V_j_plus = out_prob[0][1].item()\n",
    "\n",
    "        # without edge j\n",
    "        retained_indices_minus = torch.LongTensor(torch.nonzero(E_j_minus_index).tolist()).to(device).squeeze()\n",
    "        E_j_minus = torch.index_select(E, dim = 1, index = retained_indices_minus)\n",
    "\n",
    "        batch = torch.zeros(test_cpd.x.shape[0], dtype=int, device=test_cpd.x.device)\n",
    "        out = model(test_cpd.x, E_j_minus, batch=batch)\n",
    "        out_prob = F.softmax(out, dim = 1)\n",
    "        \n",
    "        V_j_minus = out_prob[0][1].item()\n",
    "\n",
    "        marginal_contrib += (V_j_plus - V_j_minus)\n",
    "\n",
    "    phi_edges.append(marginal_contrib/M)     \n",
    "         \n",
    "\n",
    "\n"
   ]
  },
  {
   "cell_type": "markdown",
   "id": "9443d121",
   "metadata": {},
   "source": [
    "## Visualize Explanation"
   ]
  },
  {
   "cell_type": "code",
   "execution_count": null,
   "id": "6994743d",
   "metadata": {},
   "outputs": [],
   "source": [
    "important_edges = np.argsort(phi_edges)\n",
    "print(important_edges)\n",
    "sorted_phi_edges = sorted(phi_edges, reverse = True)\n",
    "print(sorted_phi_edges)\n",
    "print(sum(phi_edges))"
   ]
  },
  {
   "cell_type": "code",
   "execution_count": null,
   "id": "f93e5fa1",
   "metadata": {},
   "outputs": [
    {
     "name": "stdout",
     "output_type": "stream",
     "text": [
      "torch.Size([72])\n",
      "tensor([[ 1],\n",
      "        [ 3],\n",
      "        [ 5],\n",
      "        [ 6],\n",
      "        [ 8],\n",
      "        [13],\n",
      "        [14],\n",
      "        [15],\n",
      "        [16],\n",
      "        [19],\n",
      "        [21],\n",
      "        [22],\n",
      "        [30],\n",
      "        [33],\n",
      "        [34],\n",
      "        [36],\n",
      "        [37],\n",
      "        [43],\n",
      "        [47],\n",
      "        [48],\n",
      "        [49],\n",
      "        [50],\n",
      "        [51],\n",
      "        [52],\n",
      "        [53],\n",
      "        [54],\n",
      "        [55],\n",
      "        [56],\n",
      "        [57],\n",
      "        [58],\n",
      "        [60],\n",
      "        [61],\n",
      "        [62],\n",
      "        [64],\n",
      "        [66],\n",
      "        [67],\n",
      "        [68],\n",
      "        [69],\n",
      "        [70]])\n",
      "tensor([[ 1,  2,  3,  3,  4,  6,  7,  7,  8,  9, 10, 10, 14, 15, 16, 17, 17, 19,\n",
      "         21, 21, 22, 22, 23, 23, 24, 24, 25, 25, 26, 26, 27, 27, 28, 29, 30, 30,\n",
      "         31, 31, 32],\n",
      "        [ 0,  1,  2,  4,  5,  7,  6,  8,  7,  8,  9, 11, 15, 32, 15, 16, 18, 32,\n",
      "         20, 22, 21, 23, 22, 24, 23, 25, 20, 24, 19, 27, 26, 28, 27, 28, 29, 31,\n",
      "         26, 30, 15]], device='cuda:0')\n"
     ]
    },
    {
     "data": {
      "image/png": "[encoded data removed]",
      "text/plain": [
       "<Figure size 1280x960 with 1 Axes>"
      ]
     },
     "metadata": {},
     "output_type": "display_data"
    }
   ],
   "source": [
    "from matplotlib.pyplot import figure\n",
    "\n",
    "threshold = 0\n",
    "hard_edge_mask = (torch.FloatTensor(phi_edges) > threshold).to(torch.float) #>=\n",
    "print(hard_edge_mask.shape)\n",
    "\n",
    "important_edges_index = torch.nonzero(hard_edge_mask == 1)\n",
    "print(important_edges_index)\n",
    "\n",
    "edge_index = E.to(device)\n",
    "important_edges_index = important_edges_index.to(device)\n",
    "\n",
    "important_edges = torch.index_select(edge_index, dim = 1, index = important_edges_index.squeeze())\n",
    "print(important_edges)\n",
    "\n",
    "edges_color = []\n",
    "mol = read_smiles(test_cpd.smiles)\n",
    "\n",
    "#standard visualization for importan egdes GNNExplainer-like\n",
    "for edge in mol.edges:\n",
    "    found_from = False\n",
    "    found_to = False\n",
    "    for i in range(important_edges.shape[1]):\n",
    "        if edge[0] == important_edges[0][i] and edge[1] == important_edges[1][i]:\n",
    "            found_from = True\n",
    "        if edge[1] == important_edges[0][i] and edge[0] == important_edges[1][i]:\n",
    "            found_to = True\n",
    "    if found_from and found_to:\n",
    "        edges_color.append(\"red\")\n",
    "    elif found_from or found_to:\n",
    "        edges_color.append(\"orange\")\n",
    "    else:\n",
    "        edges_color.append(\"black\")   \n",
    "\n",
    "#visualization for indentifying unimportant edges (edge is important if both directins are above threshold)\n",
    "# for edge in mol.edges:\n",
    "#     found_from = False\n",
    "#     found_to = False\n",
    "#     for i in range(important_edges.shape[1]):\n",
    "#         if edge[0] == important_edges[0][i] and edge[1] == important_edges[1][i]:\n",
    "#             found_from = True\n",
    "#         if edge[1] == important_edges[0][i] and edge[0] == important_edges[1][i]:\n",
    "#             found_to = True\n",
    "#     if found_from and found_to:\n",
    "#         edges_color.append(\"red\")\n",
    "#     # elif found_from or found_to:\n",
    "#     #     edges_color.append(\"red\")\n",
    "#     else:\n",
    "#         edges_color.append(\"black\")   \n",
    "\n",
    "figure(figsize=(16, 12), dpi=80)\n",
    "#mol = nx.DiGraph(mol)\n",
    "labels = nx.get_node_attributes(mol, 'element') \n",
    "nx.draw(mol, with_labels = True, edge_color = edges_color, pos=nx.spring_layout(mol))"
   ]
  },
  {
   "cell_type": "code",
   "execution_count": null,
   "id": "48854695",
   "metadata": {},
   "outputs": [
    {
     "name": "stderr",
     "output_type": "stream",
     "text": [
      "C:\\Users\\Mastro\\anaconda3\\envs\\graphshap_cheminfo\\lib\\site-packages\\torchdrug\\data\\molecule.py:468: UserWarning: Matplotlib is currently using module://matplotlib_inline.backend_inline, which is a non-GUI backend, so cannot show the figure.\n",
      "  fig.show()\n"
     ]
    },
    {
     "data": {
      "image/png": "[encoded data removed]",
      "text/plain": [
       "<Figure size 216x216 with 1 Axes>"
      ]
     },
     "metadata": {
      "needs_background": "light"
     },
     "output_type": "display_data"
    }
   ],
   "source": [
    "mol = data.Molecule.from_smiles(test_cpd.smiles)\n",
    "mol.visualize()"
   ]
  },
  {
   "cell_type": "markdown",
   "id": "5e1deec3",
   "metadata": {},
   "source": [
    "## GNNExplainer\n",
    "Explain the classification of a test cpd using GNNExplainer"
   ]
  },
  {
   "cell_type": "code",
   "execution_count": null,
   "id": "5f3dbf31",
   "metadata": {},
   "outputs": [
    {
     "name": "stderr",
     "output_type": "stream",
     "text": [
      "Explain graph: 100%|██████████| 100/100 [00:06<00:00, 15.23it/s]\n"
     ]
    }
   ],
   "source": [
    "import os.path as osp\n",
    "\n",
    "import torch\n",
    "import torch.nn.functional as F\n",
    "import matplotlib.pyplot as plt\n",
    "\n",
    "from torch_geometric.nn import GNNExplainer\n",
    "\n",
    "torch.manual_seed(42)\n",
    "epochs = 100\n",
    "test_cpd = test_data[0].to(device)\n",
    "#model = Net().to(device)\n",
    "\n",
    "#optimizer = torch.optim.Adam(model.parameters(), lr=0.01, weight_decay=5e-4)\n",
    "x, edge_index, edge_weight = test_cpd.x, test_cpd.edge_index, None\n",
    "\n",
    "explainer = GNNExplainer(model, epochs=epochs, return_type='log_prob')\n",
    "\n",
    "node_feat_mask, edge_mask = explainer.explain_graph(x, edge_index)"
   ]
  },
  {
   "cell_type": "markdown",
   "id": "bb8f07b8",
   "metadata": {},
   "source": [
    "### Plot Explaination Subgraph"
   ]
  },
  {
   "cell_type": "code",
   "execution_count": null,
   "id": "19c65028",
   "metadata": {},
   "outputs": [
    {
     "data": {
      "image/png": "[encoded data removed]",
      "text/plain": [
       "<Figure size 1280x960 with 1 Axes>"
      ]
     },
     "metadata": {},
     "output_type": "display_data"
    }
   ],
   "source": [
    "from matplotlib.pyplot import figure\n",
    "\n",
    "figure(figsize=(16, 12), dpi=80)\n",
    "threshold = 0.75\n",
    "edge_mask = edge_mask.to(\"cpu\")\n",
    "ax, G = explainer.visualize_subgraph(edge_index = edge_index, edge_mask = edge_mask, node_idx = -1, y=None, threshold=threshold)\n",
    "plt.show()"
   ]
  },
  {
   "cell_type": "code",
   "execution_count": null,
   "id": "a3fcee15",
   "metadata": {},
   "outputs": [
    {
     "name": "stdout",
     "output_type": "stream",
     "text": [
      "tensor([[ 1],\n",
      "        [ 3],\n",
      "        [ 6],\n",
      "        [ 9],\n",
      "        [10],\n",
      "        [11],\n",
      "        [12],\n",
      "        [13],\n",
      "        [14],\n",
      "        [15],\n",
      "        [22],\n",
      "        [27],\n",
      "        [28],\n",
      "        [32],\n",
      "        [33],\n",
      "        [35],\n",
      "        [36],\n",
      "        [38]])\n",
      "tensor([[ 1,  2,  3,  5,  5,  5,  6,  6,  6,  7, 10, 12, 13, 15, 15, 16, 17, 17],\n",
      "        [ 0,  1,  4,  3,  6, 17,  5,  7,  8,  6, 11, 13, 12, 10, 14, 15,  5, 18]],\n",
      "       device='cuda:0')\n"
     ]
    },
    {
     "data": {
      "image/png": "[encoded data removed]",
      "text/plain": [
       "<Figure size 1280x960 with 1 Axes>"
      ]
     },
     "metadata": {},
     "output_type": "display_data"
    }
   ],
   "source": [
    "hard_edge_mask = (edge_mask >= threshold).to(torch.float)\n",
    "hard_edge_mask.shape\n",
    "\n",
    "important_edges_index = torch.nonzero(hard_edge_mask == 1)\n",
    "print(important_edges_index)\n",
    "\n",
    "edge_index = edge_index.to(device)\n",
    "important_edges_index = important_edges_index.to(device)\n",
    "\n",
    "important_edges = torch.index_select(edge_index, dim = 1, index = important_edges_index.squeeze())\n",
    "print(important_edges)\n",
    "\n",
    "edges_color = []\n",
    "mol = read_smiles(test_cpd.smiles)\n",
    "\n",
    "for edge in mol.edges:\n",
    "    found_from = False\n",
    "    found_to = False\n",
    "    for i in range(important_edges.shape[1]):\n",
    "        if edge[0] == important_edges[0][i] and edge[1] == important_edges[1][i]:\n",
    "            found_from = True\n",
    "        if edge[1] == important_edges[0][i] and edge[0] == important_edges[1][i]:\n",
    "            found_to = True\n",
    "    if found_from and found_to:\n",
    "        edges_color.append(\"red\")\n",
    "    elif found_from or found_to:\n",
    "        edges_color.append(\"orange\")\n",
    "    else:\n",
    "        edges_color.append(\"black\")   \n",
    "\n",
    "figure(figsize=(16, 12), dpi=80)\n",
    "#mol = nx.DiGraph(mol)\n",
    "labels = nx.get_node_attributes(mol, 'element') \n",
    "nx.draw(mol, with_labels = True, edge_color = edges_color, pos=nx.spring_layout(mol))"
   ]
  }
 ],
 "metadata": {
  "kernelspec": {
   "display_name": "Python 3 (ipykernel)",
   "language": "python",
   "name": "python3"
  },
  "language_info": {
   "codemirror_mode": {
    "name": "ipython",
    "version": 3
   },
   "file_extension": ".py",
   "mimetype": "text/x-python",
   "name": "python",
   "nbconvert_exporter": "python",
   "pygments_lexer": "ipython3",
   "version": "3.8.12"
  }
 },
 "nbformat": 4,
 "nbformat_minor": 5
}
